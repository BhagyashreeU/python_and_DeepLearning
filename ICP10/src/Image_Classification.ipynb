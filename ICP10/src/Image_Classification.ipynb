{
  "nbformat": 4,
  "nbformat_minor": 0,
  "metadata": {
    "colab": {
      "name": "Image_Classification.ipynb",
      "provenance": [],
      "collapsed_sections": []
    },
    "kernelspec": {
      "name": "python3",
      "display_name": "Python 3"
    },
    "language_info": {
      "name": "python"
    },
    "accelerator": "GPU"
  },
  "cells": [
    {
      "cell_type": "markdown",
      "metadata": {
        "id": "dRT4kIlrfb4r"
      },
      "source": [
        "# **Import required libraries**"
      ]
    },
    {
      "cell_type": "code",
      "metadata": {
        "id": "ENAgRvgkLWPr"
      },
      "source": [
        "import numpy as np\n",
        "from keras.datasets import cifar10\n",
        "from keras.models import Sequential\n",
        "from keras.layers import Dense, Flatten, Dropout, Input, BatchNormalization\n",
        "from keras.constraints import maxnorm\n",
        "from keras.models import Model\n",
        "from keras.optimizers import *\n",
        "from keras.layers.convolutional import Conv2D, MaxPooling2D\n",
        "from keras.utils import np_utils\n",
        "from keras import backend as K\n",
        "\n",
        "from keras.callbacks import EarlyStopping\n",
        "from keras.callbacks import ModelCheckpoint\n"
      ],
      "execution_count": 1,
      "outputs": []
    },
    {
      "cell_type": "markdown",
      "metadata": {
        "id": "ko35OTW6fgXe"
      },
      "source": [
        "# **Load data**"
      ]
    },
    {
      "cell_type": "code",
      "metadata": {
        "colab": {
          "base_uri": "https://localhost:8080/"
        },
        "id": "qGuP8tIVLdJ3",
        "outputId": "aed80e66-7fe7-428f-a8b9-2e0f0c9d7753"
      },
      "source": [
        "(X_train, y_train), (X_test, y_test) = cifar10.load_data()"
      ],
      "execution_count": 2,
      "outputs": [
        {
          "output_type": "stream",
          "name": "stdout",
          "text": [
            "Downloading data from https://www.cs.toronto.edu/~kriz/cifar-10-python.tar.gz\n",
            "170500096/170498071 [==============================] - 4s 0us/step\n",
            "170508288/170498071 [==============================] - 4s 0us/step\n"
          ]
        }
      ]
    },
    {
      "cell_type": "markdown",
      "metadata": {
        "id": "LaM8WTeQfjA6"
      },
      "source": [
        "# **Normalize data**"
      ]
    },
    {
      "cell_type": "code",
      "metadata": {
        "id": "3dewq3_1LdGZ"
      },
      "source": [
        "X_train = X_train.astype('float32')\n",
        "X_test = X_test.astype('float32')\n",
        "X_train = X_train / 255.0\n",
        "X_test = X_test / 255.0"
      ],
      "execution_count": 3,
      "outputs": []
    },
    {
      "cell_type": "code",
      "metadata": {
        "colab": {
          "base_uri": "https://localhost:8080/"
        },
        "id": "Aq3NMN0WLdD3",
        "outputId": "3331899f-2441-4f8a-d5d3-8f6b1f1279a5"
      },
      "source": [
        "print(X_train.shape)"
      ],
      "execution_count": 4,
      "outputs": [
        {
          "output_type": "stream",
          "name": "stdout",
          "text": [
            "(50000, 32, 32, 3)\n"
          ]
        }
      ]
    },
    {
      "cell_type": "markdown",
      "metadata": {
        "id": "PFLBwbsOiaQD"
      },
      "source": [
        "# **One hot encode labels**"
      ]
    },
    {
      "cell_type": "code",
      "metadata": {
        "id": "tN0vsZ_sLdBk"
      },
      "source": [
        "y_train = np_utils.to_categorical(y_train)\n",
        "y_test = np_utils.to_categorical(y_test)\n",
        "num_classes = y_test.shape[1]"
      ],
      "execution_count": 5,
      "outputs": []
    },
    {
      "cell_type": "code",
      "metadata": {
        "colab": {
          "base_uri": "https://localhost:8080/"
        },
        "id": "iwAEqi5dLc_F",
        "outputId": "7f8fe2b8-04ed-40db-b317-5c92cbff8ca1"
      },
      "source": [
        "print(num_classes)"
      ],
      "execution_count": 6,
      "outputs": [
        {
          "output_type": "stream",
          "name": "stdout",
          "text": [
            "10\n"
          ]
        }
      ]
    },
    {
      "cell_type": "markdown",
      "metadata": {
        "id": "ONu6v2LqLqW7"
      },
      "source": [
        "# **Create the model**\n",
        "\n",
        "\n",
        "**Follow the instruction below and then report how the performance changed**\n",
        "\n",
        "1.Convolutional input layer, 32 feature maps with a size of 3×3 and a rectifier activation function.\n",
        "\n",
        "2.Dropout layer at 20%.\n",
        "\n",
        "3.Convolutional layer, 32 feature maps with a size of 3×3 and a rectifier activation function.\n",
        "\n",
        "4.Max Pool layer with size 2×2.\n",
        "\n",
        "5.Convolutional layer, 64 feature maps with a size of 3×3 and a rectifier activation function.\n",
        "\n",
        "6.Dropout layer at 20%.\n",
        "\n",
        "7.Convolutional layer, 64 feature maps with a size of 3×3 and a rectifier activation function.\n",
        "\n",
        "8.Max Pool layer with size 2×2.\n",
        "\n",
        "9.Convolutional layer, 128 feature maps with a size of 3×3 and a rectifier activation function.\n",
        "\n",
        "10.Dropout layer at 20%.\n",
        "\n",
        "11.Convolutional layer,128 feature maps with a size of 3×3 and a rectifier activation function.\n",
        "\n",
        "12.Max Pool layer with size 2×2.\n",
        "\n",
        "13.Flatten layer.\n",
        "\n",
        "14.Dropout layer at 20%.\n",
        "\n",
        "15.Fully connected layer with 1024 units and a rectifier activation function.\n",
        "\n",
        "16.Dropout layer at 20%.\n",
        "\n",
        "17.Fully connected layer with 512 units and a rectifier activation function.\n",
        "\n",
        "18.Dropout layer at 20%.\n",
        "\n",
        "19.Fully connected output layer with 10 units and a softmax activation function\n",
        "\n"
      ]
    },
    {
      "cell_type": "code",
      "metadata": {
        "id": "dCrmA-ZiLc8t"
      },
      "source": [
        "model = Sequential()\n",
        "\n",
        "model.add(Conv2D(32, (3, 3), input_shape=(32,32, 3), padding='same', activation='relu'))\n",
        "model.add(Dropout(0.2))\n",
        "model.add(Conv2D(32, (3, 3), activation='relu', padding='same'))\n",
        "model.add(MaxPooling2D(pool_size=(2, 2)))\n",
        "\n",
        "model.add(Conv2D(64, (3, 3), activation='relu', padding='same'))\n",
        "model.add(Dropout(0.2))\n",
        "model.add(Conv2D(64, (3, 3), activation='relu', padding='same'))\n",
        "model.add(MaxPooling2D(pool_size=(2, 2)))\n",
        "\n",
        "model.add(Conv2D(128, (3, 3), activation='relu', padding='same'))\n",
        "model.add(Dropout(0.2))\n",
        "model.add(Conv2D(128, (3, 3), activation='relu', padding='same'))\n",
        "model.add(MaxPooling2D(pool_size=(2, 2)))\n",
        "\n",
        "model.add(Flatten())\n",
        "model.add(Dropout(0.2))\n",
        "model.add(Dense(1024, activation='relu', kernel_constraint=maxnorm(3)))\n",
        "model.add(Dropout(0.2))\n",
        "model.add(Dense(512, activation='relu'))\n",
        "model.add(Dropout(0.2))\n",
        "model.add(Dense(num_classes, activation='softmax'))"
      ],
      "execution_count": 7,
      "outputs": []
    },
    {
      "cell_type": "code",
      "metadata": {
        "id": "vv9YWGOILc6A"
      },
      "source": [
        "epochs = 10\n",
        "lrate = 0.001\n",
        "adam = tf.keras.optimizers.Adam(learning_rate=lrate)\n",
        "model.compile(loss='categorical_crossentropy', optimizer=adam, metrics=['accuracy'])"
      ],
      "execution_count": 8,
      "outputs": []
    },
    {
      "cell_type": "code",
      "metadata": {
        "colab": {
          "base_uri": "https://localhost:8080/"
        },
        "id": "gkcUpSEaLc3b",
        "outputId": "6a187411-73fa-41de-b027-dda3f3dc9b2f"
      },
      "source": [
        "model.summary()"
      ],
      "execution_count": 9,
      "outputs": [
        {
          "output_type": "stream",
          "name": "stdout",
          "text": [
            "Model: \"sequential\"\n",
            "_________________________________________________________________\n",
            " Layer (type)                Output Shape              Param #   \n",
            "=================================================================\n",
            " conv2d (Conv2D)             (None, 32, 32, 32)        896       \n",
            "                                                                 \n",
            " dropout (Dropout)           (None, 32, 32, 32)        0         \n",
            "                                                                 \n",
            " conv2d_1 (Conv2D)           (None, 32, 32, 32)        9248      \n",
            "                                                                 \n",
            " max_pooling2d (MaxPooling2D  (None, 16, 16, 32)       0         \n",
            " )                                                               \n",
            "                                                                 \n",
            " conv2d_2 (Conv2D)           (None, 16, 16, 64)        18496     \n",
            "                                                                 \n",
            " dropout_1 (Dropout)         (None, 16, 16, 64)        0         \n",
            "                                                                 \n",
            " conv2d_3 (Conv2D)           (None, 16, 16, 64)        36928     \n",
            "                                                                 \n",
            " max_pooling2d_1 (MaxPooling  (None, 8, 8, 64)         0         \n",
            " 2D)                                                             \n",
            "                                                                 \n",
            " conv2d_4 (Conv2D)           (None, 8, 8, 128)         73856     \n",
            "                                                                 \n",
            " dropout_2 (Dropout)         (None, 8, 8, 128)         0         \n",
            "                                                                 \n",
            " conv2d_5 (Conv2D)           (None, 8, 8, 128)         147584    \n",
            "                                                                 \n",
            " max_pooling2d_2 (MaxPooling  (None, 4, 4, 128)        0         \n",
            " 2D)                                                             \n",
            "                                                                 \n",
            " flatten (Flatten)           (None, 2048)              0         \n",
            "                                                                 \n",
            " dropout_3 (Dropout)         (None, 2048)              0         \n",
            "                                                                 \n",
            " dense (Dense)               (None, 1024)              2098176   \n",
            "                                                                 \n",
            " dropout_4 (Dropout)         (None, 1024)              0         \n",
            "                                                                 \n",
            " dense_1 (Dense)             (None, 512)               524800    \n",
            "                                                                 \n",
            " dropout_5 (Dropout)         (None, 512)               0         \n",
            "                                                                 \n",
            " dense_2 (Dense)             (None, 10)                5130      \n",
            "                                                                 \n",
            "=================================================================\n",
            "Total params: 2,915,114\n",
            "Trainable params: 2,915,114\n",
            "Non-trainable params: 0\n",
            "_________________________________________________________________\n"
          ]
        }
      ]
    },
    {
      "cell_type": "code",
      "metadata": {
        "colab": {
          "base_uri": "https://localhost:8080/"
        },
        "id": "ntkJxGMpLc1E",
        "outputId": "ab23405a-0a87-4d18-9124-323ccad22c28"
      },
      "source": [
        "model.fit(X_train, y_train, validation_data=(X_test, y_test), epochs=epochs, batch_size=128, verbose=1)"
      ],
      "execution_count": 10,
      "outputs": [
        {
          "output_type": "stream",
          "name": "stdout",
          "text": [
            "Epoch 1/10\n",
            "391/391 [==============================] - 46s 40ms/step - loss: 1.6835 - accuracy: 0.3715 - val_loss: 1.3327 - val_accuracy: 0.5204\n",
            "Epoch 2/10\n",
            "391/391 [==============================] - 15s 39ms/step - loss: 1.2041 - accuracy: 0.5639 - val_loss: 1.0665 - val_accuracy: 0.6215\n",
            "Epoch 3/10\n",
            "391/391 [==============================] - 15s 39ms/step - loss: 0.9943 - accuracy: 0.6433 - val_loss: 0.9401 - val_accuracy: 0.6663\n",
            "Epoch 4/10\n",
            "391/391 [==============================] - 15s 38ms/step - loss: 0.8735 - accuracy: 0.6898 - val_loss: 0.8789 - val_accuracy: 0.6923\n",
            "Epoch 5/10\n",
            "391/391 [==============================] - 15s 38ms/step - loss: 0.7720 - accuracy: 0.7266 - val_loss: 0.7955 - val_accuracy: 0.7243\n",
            "Epoch 6/10\n",
            "391/391 [==============================] - 15s 39ms/step - loss: 0.6933 - accuracy: 0.7573 - val_loss: 0.7452 - val_accuracy: 0.7438\n",
            "Epoch 7/10\n",
            "391/391 [==============================] - 15s 37ms/step - loss: 0.6367 - accuracy: 0.7760 - val_loss: 0.6608 - val_accuracy: 0.7719\n",
            "Epoch 8/10\n",
            "391/391 [==============================] - 15s 37ms/step - loss: 0.5848 - accuracy: 0.7931 - val_loss: 0.6890 - val_accuracy: 0.7622\n",
            "Epoch 9/10\n",
            "391/391 [==============================] - 15s 38ms/step - loss: 0.5392 - accuracy: 0.8094 - val_loss: 0.6296 - val_accuracy: 0.7798\n",
            "Epoch 10/10\n",
            "391/391 [==============================] - 15s 38ms/step - loss: 0.4982 - accuracy: 0.8240 - val_loss: 0.6223 - val_accuracy: 0.7923\n"
          ]
        },
        {
          "output_type": "execute_result",
          "data": {
            "text/plain": [
              "<keras.callbacks.History at 0x7fce6f944610>"
            ]
          },
          "metadata": {},
          "execution_count": 10
        }
      ]
    },
    {
      "cell_type": "code",
      "metadata": {
        "colab": {
          "base_uri": "https://localhost:8080/"
        },
        "id": "ynsE9KixWCHS",
        "outputId": "c4461d0c-49b2-4798-b2b5-363cc922921f"
      },
      "source": [
        "from keras.models import load_model\n",
        "# Save the model\n",
        "model.save('cifar10_model.h5')\n",
        "# Loading the model\n",
        "saved_model = load_model('cifar10_model.h5')\n",
        "\n",
        "# Model evaluation\n",
        "scores = saved_model.evaluate(X_test, y_test, verbose=0)\n",
        "print(\"Test Accuracy after adding Convolutional layers: %.2f%%\" % (scores[1]*100))"
      ],
      "execution_count": 11,
      "outputs": [
        {
          "output_type": "stream",
          "name": "stdout",
          "text": [
            "Test Accuracy after adding Convolutional layers: 79.23%\n"
          ]
        }
      ]
    },
    {
      "cell_type": "markdown",
      "metadata": {
        "id": "ySStZsi1Rtwc"
      },
      "source": [
        "**Findings: The usecase provided model had accuracy of 60% with limited layers. But in the above case we added more layers of convolution, maxpooling and dropout layers hence accuracy increased to 78.87%.**"
      ]
    },
    {
      "cell_type": "markdown",
      "metadata": {
        "id": "UM2hAcczSPlE"
      },
      "source": [
        "**2.Change the previous model into Keras Functional API model.**\n"
      ]
    },
    {
      "cell_type": "code",
      "metadata": {
        "colab": {
          "base_uri": "https://localhost:8080/"
        },
        "id": "v5-YIEwwLcyP",
        "outputId": "20178a49-03d6-4eb7-a9e7-8cd506cd21bd"
      },
      "source": [
        "(X_train, y_train), (X_val, y_val) = cifar10.load_data()\n",
        "X_train, X_val = X_train / 255.0, X_val / 255.0\n",
        "y_train, y_val = y_train.flatten(), y_val.flatten()\n",
        "\n",
        "i = Input(shape = X_train[1].shape)\n",
        "x = Conv2D(32, (3,3), padding=\"same\", activation=\"relu\")(i)\n",
        "x = Conv2D(32, (3,3), activation=\"relu\")(x)\n",
        "x = MaxPooling2D(pool_size=(2,2))(x)\n",
        "x = Dropout(0.2)(x)\n",
        "x = Conv2D(64, (3,3), padding=\"same\", activation=\"relu\")(x)\n",
        "x = Dropout(0.2)(x)\n",
        "x = Conv2D(64, (3,3), activation=\"relu\")(x)\n",
        "x = MaxPooling2D(pool_size=(2,2))(x)\n",
        "x = Conv2D(128, (3,3), padding=\"same\", activation=\"relu\")(x)\n",
        "x = Dropout(0.2)(x)\n",
        "x = Conv2D(128, (3,3), activation=\"relu\")(x)\n",
        "x = MaxPooling2D(pool_size=(2,2))(x)\n",
        "x = Dropout(0.2)(x)\n",
        "x = BatchNormalization()(x)\n",
        "x = Flatten()(x)\n",
        "x = Dropout(0.2)(x)\n",
        "x = Dense(1024, activation=\"relu\")(x)\n",
        "x = Dropout(0.2)(x)\n",
        "x = Dense(512, activation=\"relu\")(x)\n",
        "x = Dropout(0.2)(x)\n",
        "x = Dense(10, activation=\"softmax\")(x)\n",
        "\n",
        "api_model = Model(i, x)\n",
        "api_model.summary()"
      ],
      "execution_count": 12,
      "outputs": [
        {
          "output_type": "stream",
          "name": "stdout",
          "text": [
            "Model: \"model\"\n",
            "_________________________________________________________________\n",
            " Layer (type)                Output Shape              Param #   \n",
            "=================================================================\n",
            " input_1 (InputLayer)        [(None, 32, 32, 3)]       0         \n",
            "                                                                 \n",
            " conv2d_6 (Conv2D)           (None, 32, 32, 32)        896       \n",
            "                                                                 \n",
            " conv2d_7 (Conv2D)           (None, 30, 30, 32)        9248      \n",
            "                                                                 \n",
            " max_pooling2d_3 (MaxPooling  (None, 15, 15, 32)       0         \n",
            " 2D)                                                             \n",
            "                                                                 \n",
            " dropout_6 (Dropout)         (None, 15, 15, 32)        0         \n",
            "                                                                 \n",
            " conv2d_8 (Conv2D)           (None, 15, 15, 64)        18496     \n",
            "                                                                 \n",
            " dropout_7 (Dropout)         (None, 15, 15, 64)        0         \n",
            "                                                                 \n",
            " conv2d_9 (Conv2D)           (None, 13, 13, 64)        36928     \n",
            "                                                                 \n",
            " max_pooling2d_4 (MaxPooling  (None, 6, 6, 64)         0         \n",
            " 2D)                                                             \n",
            "                                                                 \n",
            " conv2d_10 (Conv2D)          (None, 6, 6, 128)         73856     \n",
            "                                                                 \n",
            " dropout_8 (Dropout)         (None, 6, 6, 128)         0         \n",
            "                                                                 \n",
            " conv2d_11 (Conv2D)          (None, 4, 4, 128)         147584    \n",
            "                                                                 \n",
            " max_pooling2d_5 (MaxPooling  (None, 2, 2, 128)        0         \n",
            " 2D)                                                             \n",
            "                                                                 \n",
            " dropout_9 (Dropout)         (None, 2, 2, 128)         0         \n",
            "                                                                 \n",
            " batch_normalization (BatchN  (None, 2, 2, 128)        512       \n",
            " ormalization)                                                   \n",
            "                                                                 \n",
            " flatten_1 (Flatten)         (None, 512)               0         \n",
            "                                                                 \n",
            " dropout_10 (Dropout)        (None, 512)               0         \n",
            "                                                                 \n",
            " dense_3 (Dense)             (None, 1024)              525312    \n",
            "                                                                 \n",
            " dropout_11 (Dropout)        (None, 1024)              0         \n",
            "                                                                 \n",
            " dense_4 (Dense)             (None, 512)               524800    \n",
            "                                                                 \n",
            " dropout_12 (Dropout)        (None, 512)               0         \n",
            "                                                                 \n",
            " dense_5 (Dense)             (None, 10)                5130      \n",
            "                                                                 \n",
            "=================================================================\n",
            "Total params: 1,342,762\n",
            "Trainable params: 1,342,506\n",
            "Non-trainable params: 256\n",
            "_________________________________________________________________\n"
          ]
        }
      ]
    },
    {
      "cell_type": "code",
      "metadata": {
        "id": "4FfFuyXfTxS4"
      },
      "source": [
        "api_model.compile(optimizer='adam',\n",
        "              loss='sparse_categorical_crossentropy',\n",
        "              metrics=['accuracy'])"
      ],
      "execution_count": 13,
      "outputs": []
    },
    {
      "cell_type": "code",
      "metadata": {
        "colab": {
          "base_uri": "https://localhost:8080/"
        },
        "id": "uIrT2kzvTxPe",
        "outputId": "c235479f-524c-4b34-f1c4-b1a4dffd5dd1"
      },
      "source": [
        "api_model.fit(X_train, y_train, validation_data=(X_val, y_val), epochs=10)"
      ],
      "execution_count": 14,
      "outputs": [
        {
          "output_type": "stream",
          "name": "stdout",
          "text": [
            "Epoch 1/10\n",
            "1563/1563 [==============================] - 31s 19ms/step - loss: 1.6850 - accuracy: 0.3674 - val_loss: 2.0558 - val_accuracy: 0.3434\n",
            "Epoch 2/10\n",
            "1563/1563 [==============================] - 26s 17ms/step - loss: 1.3413 - accuracy: 0.5158 - val_loss: 1.1201 - val_accuracy: 0.5984\n",
            "Epoch 3/10\n",
            "1563/1563 [==============================] - 27s 17ms/step - loss: 1.1652 - accuracy: 0.5850 - val_loss: 1.0056 - val_accuracy: 0.6499\n",
            "Epoch 4/10\n",
            "1563/1563 [==============================] - 28s 18ms/step - loss: 1.0471 - accuracy: 0.6328 - val_loss: 1.1140 - val_accuracy: 0.6137\n",
            "Epoch 5/10\n",
            "1563/1563 [==============================] - 28s 18ms/step - loss: 0.9715 - accuracy: 0.6599 - val_loss: 0.8998 - val_accuracy: 0.6854\n",
            "Epoch 6/10\n",
            "1563/1563 [==============================] - 28s 18ms/step - loss: 0.9133 - accuracy: 0.6844 - val_loss: 0.8165 - val_accuracy: 0.7189\n",
            "Epoch 7/10\n",
            "1563/1563 [==============================] - 28s 18ms/step - loss: 0.8704 - accuracy: 0.7006 - val_loss: 0.7436 - val_accuracy: 0.7464\n",
            "Epoch 8/10\n",
            "1563/1563 [==============================] - 27s 17ms/step - loss: 0.8293 - accuracy: 0.7145 - val_loss: 0.7342 - val_accuracy: 0.7483\n",
            "Epoch 9/10\n",
            "1563/1563 [==============================] - 27s 17ms/step - loss: 0.7900 - accuracy: 0.7280 - val_loss: 0.7751 - val_accuracy: 0.7362\n",
            "Epoch 10/10\n",
            "1563/1563 [==============================] - 26s 17ms/step - loss: 0.7661 - accuracy: 0.7379 - val_loss: 0.6729 - val_accuracy: 0.7707\n"
          ]
        },
        {
          "output_type": "execute_result",
          "data": {
            "text/plain": [
              "<keras.callbacks.History at 0x7fcd7bd77850>"
            ]
          },
          "metadata": {},
          "execution_count": 14
        }
      ]
    },
    {
      "cell_type": "markdown",
      "metadata": {
        "id": "OnveMuhqhKdI"
      },
      "source": [
        "# **Save model**"
      ]
    },
    {
      "cell_type": "code",
      "metadata": {
        "id": "TfAecxgyTxNM"
      },
      "source": [
        "from keras.models import load_model\n",
        "# Save the model\n",
        "api_model.save('api_model.h5')\n",
        "# Loading the model\n",
        "api_saved_model = load_model('api_model.h5')"
      ],
      "execution_count": 15,
      "outputs": []
    },
    {
      "cell_type": "markdown",
      "metadata": {
        "id": "m6jMPLSxhce2"
      },
      "source": [
        "# **Model evaluation**"
      ]
    },
    {
      "cell_type": "code",
      "metadata": {
        "id": "96xzcSrfTxKu",
        "colab": {
          "base_uri": "https://localhost:8080/"
        },
        "outputId": "4d49431b-cf84-4527-f7c9-f311f024c474"
      },
      "source": [
        "# Model evaluation\n",
        "scores = api_saved_model.evaluate(X_val, y_val, verbose=0)\n",
        "print(\"Test Accuracy for functional API model: %.2f%%\" % (scores[1]*100))"
      ],
      "execution_count": 16,
      "outputs": [
        {
          "output_type": "stream",
          "name": "stdout",
          "text": [
            "Test Accuracy for functional API model: 77.07%\n"
          ]
        }
      ]
    },
    {
      "cell_type": "markdown",
      "metadata": {
        "id": "HKyyaYOcWbee"
      },
      "source": [
        "**Apply the following callbacks:**\n",
        "\n",
        "  **1. ModelCheckPoint**\n",
        "  \n",
        "  **2. EarlyStopping**\n"
      ]
    },
    {
      "cell_type": "code",
      "metadata": {
        "id": "7_vw0XtMTxvy",
        "colab": {
          "base_uri": "https://localhost:8080/"
        },
        "outputId": "cbe6e941-fb18-489e-c9e8-9fd930054851"
      },
      "source": [
        "(X_train, y_train), (X_val, y_val) = cifar10.load_data()\n",
        "X_train, X_val = X_train / 255.0, X_val / 255.0\n",
        "y_train, y_val = y_train.flatten(), y_val.flatten()\n",
        "\n",
        "i = Input(shape = X_train[1].shape)\n",
        "x = Conv2D(32, (3,3), padding=\"same\", activation=\"relu\")(i)\n",
        "x = Conv2D(32, (3,3), activation=\"relu\")(x)\n",
        "x = MaxPooling2D(pool_size=(2,2))(x)\n",
        "x = Dropout(0.2)(x)\n",
        "x = Conv2D(64, (3,3), padding=\"same\", activation=\"relu\")(x)\n",
        "x = Dropout(0.2)(x)\n",
        "x = Conv2D(64, (3,3), activation=\"relu\")(x)\n",
        "x = MaxPooling2D(pool_size=(2,2))(x)\n",
        "x = Conv2D(128, (3,3), padding=\"same\", activation=\"relu\")(x)\n",
        "x = Dropout(0.2)(x)\n",
        "x = Conv2D(128, (3,3), activation=\"relu\")(x)\n",
        "x = MaxPooling2D(pool_size=(2,2))(x)\n",
        "x = Dropout(0.2)(x)\n",
        "x = BatchNormalization()(x)\n",
        "x = Flatten()(x)\n",
        "x = Dropout(0.2)(x)\n",
        "x = Dense(1024, activation=\"relu\")(x)\n",
        "x = Dropout(0.2)(x)\n",
        "x = Dense(512, activation=\"relu\")(x)\n",
        "x = Dropout(0.2)(x)\n",
        "x = Dense(10, activation=\"softmax\")(x)\n",
        "\n",
        "api_model = Model(i, x)\n",
        "api_model.summary()"
      ],
      "execution_count": 17,
      "outputs": [
        {
          "output_type": "stream",
          "name": "stdout",
          "text": [
            "Model: \"model_1\"\n",
            "_________________________________________________________________\n",
            " Layer (type)                Output Shape              Param #   \n",
            "=================================================================\n",
            " input_2 (InputLayer)        [(None, 32, 32, 3)]       0         \n",
            "                                                                 \n",
            " conv2d_12 (Conv2D)          (None, 32, 32, 32)        896       \n",
            "                                                                 \n",
            " conv2d_13 (Conv2D)          (None, 30, 30, 32)        9248      \n",
            "                                                                 \n",
            " max_pooling2d_6 (MaxPooling  (None, 15, 15, 32)       0         \n",
            " 2D)                                                             \n",
            "                                                                 \n",
            " dropout_13 (Dropout)        (None, 15, 15, 32)        0         \n",
            "                                                                 \n",
            " conv2d_14 (Conv2D)          (None, 15, 15, 64)        18496     \n",
            "                                                                 \n",
            " dropout_14 (Dropout)        (None, 15, 15, 64)        0         \n",
            "                                                                 \n",
            " conv2d_15 (Conv2D)          (None, 13, 13, 64)        36928     \n",
            "                                                                 \n",
            " max_pooling2d_7 (MaxPooling  (None, 6, 6, 64)         0         \n",
            " 2D)                                                             \n",
            "                                                                 \n",
            " conv2d_16 (Conv2D)          (None, 6, 6, 128)         73856     \n",
            "                                                                 \n",
            " dropout_15 (Dropout)        (None, 6, 6, 128)         0         \n",
            "                                                                 \n",
            " conv2d_17 (Conv2D)          (None, 4, 4, 128)         147584    \n",
            "                                                                 \n",
            " max_pooling2d_8 (MaxPooling  (None, 2, 2, 128)        0         \n",
            " 2D)                                                             \n",
            "                                                                 \n",
            " dropout_16 (Dropout)        (None, 2, 2, 128)         0         \n",
            "                                                                 \n",
            " batch_normalization_1 (Batc  (None, 2, 2, 128)        512       \n",
            " hNormalization)                                                 \n",
            "                                                                 \n",
            " flatten_2 (Flatten)         (None, 512)               0         \n",
            "                                                                 \n",
            " dropout_17 (Dropout)        (None, 512)               0         \n",
            "                                                                 \n",
            " dense_6 (Dense)             (None, 1024)              525312    \n",
            "                                                                 \n",
            " dropout_18 (Dropout)        (None, 1024)              0         \n",
            "                                                                 \n",
            " dense_7 (Dense)             (None, 512)               524800    \n",
            "                                                                 \n",
            " dropout_19 (Dropout)        (None, 512)               0         \n",
            "                                                                 \n",
            " dense_8 (Dense)             (None, 10)                5130      \n",
            "                                                                 \n",
            "=================================================================\n",
            "Total params: 1,342,762\n",
            "Trainable params: 1,342,506\n",
            "Non-trainable params: 256\n",
            "_________________________________________________________________\n"
          ]
        }
      ]
    },
    {
      "cell_type": "code",
      "metadata": {
        "id": "6T4-oOwQTxtX"
      },
      "source": [
        "api_model.compile(optimizer='adam',\n",
        "              loss='sparse_categorical_crossentropy',\n",
        "              metrics=['accuracy'])"
      ],
      "execution_count": 18,
      "outputs": []
    },
    {
      "cell_type": "code",
      "metadata": {
        "id": "DT5JDag6TxpH",
        "colab": {
          "base_uri": "https://localhost:8080/"
        },
        "outputId": "78f02082-1765-42e9-a04d-3111ef586c64"
      },
      "source": [
        "# simple early stopping\n",
        "es = EarlyStopping(monitor='val_loss', mode='min', verbose=1, patience=50)\n",
        "\n",
        "# apply Model checkpointing \n",
        "mc = ModelCheckpoint('best_model.h5', monitor='val_accuracy', mode='max', verbose=1, save_best_only=True)\n",
        "\n",
        "# Fit the model\n",
        "#api_model.fit(X_train, y_train, validation_data=(X_test, y_test), epochs=10, batch_size=128, verbose=1, callbacks=[es, mc])\n",
        "api_model.fit(X_train, y_train, validation_data=(X_val, y_val),batch_size=128,epochs=10,callbacks=[es, mc])"
      ],
      "execution_count": 19,
      "outputs": [
        {
          "output_type": "stream",
          "name": "stdout",
          "text": [
            "Epoch 1/10\n",
            "391/391 [==============================] - ETA: 0s - loss: 1.6653 - accuracy: 0.3757\n",
            "Epoch 00001: val_accuracy improved from -inf to 0.43350, saving model to best_model.h5\n",
            "391/391 [==============================] - 14s 32ms/step - loss: 1.6653 - accuracy: 0.3757 - val_loss: 1.8518 - val_accuracy: 0.4335\n",
            "Epoch 2/10\n",
            "391/391 [==============================] - ETA: 0s - loss: 1.2639 - accuracy: 0.5456\n",
            "Epoch 00002: val_accuracy improved from 0.43350 to 0.59620, saving model to best_model.h5\n",
            "391/391 [==============================] - 12s 31ms/step - loss: 1.2639 - accuracy: 0.5456 - val_loss: 1.1423 - val_accuracy: 0.5962\n",
            "Epoch 3/10\n",
            "391/391 [==============================] - ETA: 0s - loss: 1.0799 - accuracy: 0.6138\n",
            "Epoch 00003: val_accuracy improved from 0.59620 to 0.65960, saving model to best_model.h5\n",
            "391/391 [==============================] - 12s 31ms/step - loss: 1.0799 - accuracy: 0.6138 - val_loss: 0.9764 - val_accuracy: 0.6596\n",
            "Epoch 4/10\n",
            "391/391 [==============================] - ETA: 0s - loss: 0.9673 - accuracy: 0.6596\n",
            "Epoch 00004: val_accuracy did not improve from 0.65960\n",
            "391/391 [==============================] - 12s 30ms/step - loss: 0.9673 - accuracy: 0.6596 - val_loss: 1.1697 - val_accuracy: 0.6031\n",
            "Epoch 5/10\n",
            "389/391 [============================>.] - ETA: 0s - loss: 0.8843 - accuracy: 0.6880\n",
            "Epoch 00005: val_accuracy improved from 0.65960 to 0.70360, saving model to best_model.h5\n",
            "391/391 [==============================] - 12s 30ms/step - loss: 0.8848 - accuracy: 0.6878 - val_loss: 0.8807 - val_accuracy: 0.7036\n",
            "Epoch 6/10\n",
            "391/391 [==============================] - ETA: 0s - loss: 0.8338 - accuracy: 0.7084\n",
            "Epoch 00006: val_accuracy improved from 0.70360 to 0.72490, saving model to best_model.h5\n",
            "391/391 [==============================] - 12s 30ms/step - loss: 0.8338 - accuracy: 0.7084 - val_loss: 0.8131 - val_accuracy: 0.7249\n",
            "Epoch 7/10\n",
            "391/391 [==============================] - ETA: 0s - loss: 0.7760 - accuracy: 0.7302\n",
            "Epoch 00007: val_accuracy improved from 0.72490 to 0.74550, saving model to best_model.h5\n",
            "391/391 [==============================] - 12s 30ms/step - loss: 0.7760 - accuracy: 0.7302 - val_loss: 0.7473 - val_accuracy: 0.7455\n",
            "Epoch 8/10\n",
            "391/391 [==============================] - ETA: 0s - loss: 0.7429 - accuracy: 0.7417\n",
            "Epoch 00008: val_accuracy did not improve from 0.74550\n",
            "391/391 [==============================] - 12s 30ms/step - loss: 0.7429 - accuracy: 0.7417 - val_loss: 0.7430 - val_accuracy: 0.7413\n",
            "Epoch 9/10\n",
            "389/391 [============================>.] - ETA: 0s - loss: 0.7100 - accuracy: 0.7548\n",
            "Epoch 00009: val_accuracy improved from 0.74550 to 0.77160, saving model to best_model.h5\n",
            "391/391 [==============================] - 12s 31ms/step - loss: 0.7099 - accuracy: 0.7548 - val_loss: 0.6692 - val_accuracy: 0.7716\n",
            "Epoch 10/10\n",
            "391/391 [==============================] - ETA: 0s - loss: 0.6835 - accuracy: 0.7628\n",
            "Epoch 00010: val_accuracy did not improve from 0.77160\n",
            "391/391 [==============================] - 12s 31ms/step - loss: 0.6835 - accuracy: 0.7628 - val_loss: 0.8309 - val_accuracy: 0.7254\n"
          ]
        },
        {
          "output_type": "execute_result",
          "data": {
            "text/plain": [
              "<keras.callbacks.History at 0x7fcd7b922410>"
            ]
          },
          "metadata": {},
          "execution_count": 19
        }
      ]
    },
    {
      "cell_type": "markdown",
      "metadata": {
        "id": "cSDofJ5UYHe6"
      },
      "source": [
        "# **3. Predict the first 4 images of the test data. Then, print the actual label for those 4 images (label means the probability associated with them) to check if the model predicted correctly or not.**"
      ]
    },
    {
      "cell_type": "code",
      "metadata": {
        "id": "L-RhLqpgWa2B"
      },
      "source": [
        "classes = ['airplaine', 'automobile', 'bird', 'cat', 'deer', 'dog', 'frog', 'horse', 'ship', 'truck']"
      ],
      "execution_count": 21,
      "outputs": []
    },
    {
      "cell_type": "code",
      "metadata": {
        "id": "fiy4tbn6YTv1",
        "colab": {
          "base_uri": "https://localhost:8080/",
          "height": 185
        },
        "outputId": "5efd5553-6f87-4f5e-c91b-d1e04425bd32"
      },
      "source": [
        "import matplotlib.pyplot as plt\n",
        "fig = plt.figure(figsize=(10, 4))\n",
        "#fig, ax = plt.subplots()\n",
        "for idx in range(4):\n",
        "  ax = fig.add_subplot(1, 4, idx+1)\n",
        "  ax.imshow(X_test[idx])\n",
        "  y_pred = np.argmax(saved_model.predict(np.expand_dims(X_test[idx], axis=0)), axis=1)\n",
        "  y_actual= np.argmax(y_test[idx])\n",
        "  ax.set_title(\"{} ({})\".format(classes[y_pred.item()], classes[y_actual]), color=(\"green\" if y_pred.item()== y_actual else \"red\"))"
      ],
      "execution_count": 22,
      "outputs": [
        {
          "output_type": "display_data",
          "data": {
            "image/png": "[encoded data removed]",
            "text/plain": [
              "<Figure size 720x288 with 4 Axes>"
            ]
          },
          "metadata": {
            "needs_background": "light"
          }
        }
      ]
    },
    {
      "cell_type": "markdown",
      "metadata": {
        "id": "SNOQeGEyYwga"
      },
      "source": [
        "### **Observation:** We see that the new model is correctly predicting all the first 4 images in the test data."
      ]
    }
  ]
}