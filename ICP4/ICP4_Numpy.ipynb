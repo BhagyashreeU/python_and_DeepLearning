{
  "nbformat": 4,
  "nbformat_minor": 0,
  "metadata": {
    "colab": {
      "name": "ICP4-Numpy.ipynb",
      "provenance": []
    },
    "kernelspec": {
      "name": "python3",
      "display_name": "Python 3"
    },
    "language_info": {
      "name": "python"
    }
  },
  "cells": [
    {
      "cell_type": "markdown",
      "metadata": {
        "id": "GrJwjbAoU09R"
      },
      "source": [
        "**Numpy:**\n",
        "\n",
        "**Using NumPy create random vector of size 15 having only Integers in the range 1-20.**"
      ]
    },
    {
      "cell_type": "code",
      "metadata": {
        "id": "SEViBGRxXG0V"
      },
      "source": [
        "import numpy as np"
      ],
      "execution_count": 1,
      "outputs": []
    },
    {
      "cell_type": "code",
      "metadata": {
        "colab": {
          "base_uri": "https://localhost:8080/"
        },
        "id": "cMuFn5D3UsMh",
        "outputId": "db0a7b17-3ae4-48b2-fe38-91a4ed3fef4f"
      },
      "source": [
        "vector = np.random.randint(1, 20, 15, int)\n",
        "print(\"Random vector is : \", vector)"
      ],
      "execution_count": 2,
      "outputs": [
        {
          "output_type": "stream",
          "name": "stdout",
          "text": [
            "Random vector is :  [ 9 10 18 18 19  1 15 16  3  9 11 13 14 13 15]\n"
          ]
        }
      ]
    },
    {
      "cell_type": "markdown",
      "metadata": {
        "id": "XPzqAafbXZOq"
      },
      "source": [
        "**1. Reshape the array to 3 by 5**"
      ]
    },
    {
      "cell_type": "code",
      "metadata": {
        "colab": {
          "base_uri": "https://localhost:8080/"
        },
        "id": "PEo4El1xXXnE",
        "outputId": "786472ac-e767-414b-aca3-0c3f9367d705"
      },
      "source": [
        "reshape_vector = np.reshape(vector, (3, 5))\n",
        "print(\"\\nReshaped array of size 3*5: \\n\", reshape_vector)"
      ],
      "execution_count": 3,
      "outputs": [
        {
          "output_type": "stream",
          "name": "stdout",
          "text": [
            "\n",
            "Reshaped array of size 3*5: \n",
            " [[ 9 10 18 18 19]\n",
            " [ 1 15 16  3  9]\n",
            " [11 13 14 13 15]]\n"
          ]
        }
      ]
    },
    {
      "cell_type": "markdown",
      "metadata": {
        "id": "LPs5P_WtYELr"
      },
      "source": [
        "**2. Print array shape**"
      ]
    },
    {
      "cell_type": "code",
      "metadata": {
        "colab": {
          "base_uri": "https://localhost:8080/"
        },
        "id": "KzvVvNDZX0PA",
        "outputId": "46d5d2a1-f57b-4e93-c27f-537e79cc3887"
      },
      "source": [
        "reshape_vector.shape"
      ],
      "execution_count": 4,
      "outputs": [
        {
          "output_type": "execute_result",
          "data": {
            "text/plain": [
              "(3, 5)"
            ]
          },
          "metadata": {},
          "execution_count": 4
        }
      ]
    },
    {
      "cell_type": "markdown",
      "metadata": {
        "id": "h6moKfacYpeA"
      },
      "source": [
        "**3. Replace the max in each row by 0**"
      ]
    },
    {
      "cell_type": "code",
      "metadata": {
        "colab": {
          "base_uri": "https://localhost:8080/"
        },
        "id": "hk_sAMkxYFq_",
        "outputId": "72fd9f80-933c-48d4-cd28-d02bf67b6b97"
      },
      "source": [
        "print('\\nPrint the matrix after replacing max in each row by 0: \\n',\n",
        "      np.where(reshape_vector == np.max(reshape_vector, axis=1).reshape((-1, 1)), 0, reshape_vector))"
      ],
      "execution_count": 5,
      "outputs": [
        {
          "output_type": "stream",
          "name": "stdout",
          "text": [
            "\n",
            "Print the matrix after replacing max in each row by 0: \n",
            " [[ 9 10 18 18  0]\n",
            " [ 1 15  0  3  9]\n",
            " [11 13 14 13  0]]\n"
          ]
        }
      ]
    },
    {
      "cell_type": "markdown",
      "metadata": {
        "id": "7t7K4EJ-ZiRU"
      },
      "source": [
        "**4. Extract a diagonal from the array and save it as .npy file format.**"
      ]
    },
    {
      "cell_type": "code",
      "metadata": {
        "colab": {
          "base_uri": "https://localhost:8080/"
        },
        "id": "MMhYuesZZkgA",
        "outputId": "64a6a84c-20d4-4b82-b663-d4d4bc487605"
      },
      "source": [
        "print(\"\\nDiagonal elements: \", np.diagonal(reshape_vector))\n",
        "np.savetxt(\"output.npy\", np.diag(reshape_vector))"
      ],
      "execution_count": 6,
      "outputs": [
        {
          "output_type": "stream",
          "name": "stdout",
          "text": [
            "\n",
            "Diagonal elements:  [ 9 15 14]\n"
          ]
        }
      ]
    }
  ]
}