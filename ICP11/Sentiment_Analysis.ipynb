{
  "nbformat": 4,
  "nbformat_minor": 0,
  "metadata": {
    "colab": {
      "name": "Sentiment_Analysis.ipynb",
      "provenance": []
    },
    "kernelspec": {
      "name": "python3",
      "display_name": "Python 3"
    },
    "language_info": {
      "name": "python"
    },
    "accelerator": "GPU"
  },
  "cells": [
    {
      "cell_type": "markdown",
      "metadata": {
        "id": "ce91dkuIO4sK"
      },
      "source": [
        "# **Task 1: In the code provided in the use case there are three mistake which stops the code from running successfully find those mistakes.**"
      ]
    },
    {
      "cell_type": "markdown",
      "metadata": {
        "id": "seiGbJFheKWp"
      },
      "source": [
        "# **Import reauired libraries**"
      ]
    },
    {
      "cell_type": "code",
      "metadata": {
        "id": "HXLBQxSOD9s5"
      },
      "source": [
        "from keras.models import Sequential\n",
        "from keras import layers\n",
        "from keras.preprocessing.text import Tokenizer\n",
        "import pandas as pd\n",
        "import numpy as np\n",
        "from sklearn import preprocessing\n",
        "from keras.preprocessing.sequence import pad_sequences\n",
        "from sklearn.model_selection import train_test_split\n",
        "from keras.layers import Embedding, Flatten"
      ],
      "execution_count": 1,
      "outputs": []
    },
    {
      "cell_type": "code",
      "metadata": {
        "id": "41DLbcawEApm",
        "colab": {
          "base_uri": "https://localhost:8080/"
        },
        "outputId": "f30321e2-0b07-4081-92b8-dd9a518171f3"
      },
      "source": [
        "df = pd.read_csv(\"/content/imdb_master.csv\", encoding=\"latin-1\")\n",
        "print(df.head())\n",
        "\n",
        "# Remove the unsup classifier data from the dataset\n",
        "data = df.loc[(df['label'] != 'unsup')]\n",
        "print(data.shape)\n",
        "\n",
        "sentences = data['review'].values\n",
        "y = data['label'].values\n",
        "print(np.unique(y))"
      ],
      "execution_count": 2,
      "outputs": [
        {
          "output_type": "stream",
          "name": "stdout",
          "text": [
            "   Unnamed: 0  type  ... label         file\n",
            "0           0  test  ...   neg      0_2.txt\n",
            "1           1  test  ...   neg  10000_4.txt\n",
            "2           2  test  ...   neg  10001_1.txt\n",
            "3           3  test  ...   neg  10002_3.txt\n",
            "4           4  test  ...   neg  10003_3.txt\n",
            "\n",
            "[5 rows x 5 columns]\n",
            "(50000, 5)\n",
            "['neg' 'pos']\n"
          ]
        }
      ]
    },
    {
      "cell_type": "markdown",
      "metadata": {
        "id": "gOtwOJBDPnAp"
      },
      "source": [
        "# **tokenizing data**"
      ]
    },
    {
      "cell_type": "code",
      "metadata": {
        "id": "ynz4O5Z7EAYV"
      },
      "source": [
        "tokenizer = Tokenizer(num_words=2000)\n",
        "tokenizer.fit_on_texts(sentences)"
      ],
      "execution_count": 3,
      "outputs": []
    },
    {
      "cell_type": "markdown",
      "metadata": {
        "id": "7kb_lkbZPutI"
      },
      "source": [
        "# **getting the vocabulary of data**"
      ]
    },
    {
      "cell_type": "code",
      "metadata": {
        "id": "tw6CuzVtPwZg"
      },
      "source": [
        "sentences = tokenizer.texts_to_matrix(sentences)"
      ],
      "execution_count": 4,
      "outputs": []
    },
    {
      "cell_type": "code",
      "metadata": {
        "id": "m8nFLfn3P0jZ"
      },
      "source": [
        "le = preprocessing.LabelEncoder()\n",
        "y = le.fit_transform(y)\n",
        "X_train, X_test, y_train, y_test = train_test_split(sentences, y, test_size=0.25, random_state=1000)"
      ],
      "execution_count": 5,
      "outputs": []
    },
    {
      "cell_type": "markdown",
      "metadata": {
        "id": "8kyyYSDHP2-N"
      },
      "source": [
        "\n",
        "\n",
        "I have made 3 corrections here-\n",
        "\n",
        "*   I changed the input_dim to 2000 as after using the tokenizer function with number of words to 2000. the dimesion of the dataset has changed to 2000. \n",
        "*   I changed the number of neurons for the last layer from 5 to 2 as we have two classes for the output i.e., 'pos' and 'neg'\n",
        "*   I changed the activation function for the last layer to 'softMax' because this function is more suitable for classification problems.\n",
        "\n",
        "\n",
        "\n",
        "\n",
        "\n",
        "\n"
      ]
    },
    {
      "cell_type": "code",
      "metadata": {
        "id": "GAWukr0uP0gw"
      },
      "source": [
        "model = Sequential()\n",
        "model.add(layers.Dense(300, input_dim=2000, activation='relu'))\n",
        "model.add(layers.Dense(2, activation='softmax'))\n",
        "model.compile(loss='sparse_categorical_crossentropy', optimizer='adam', metrics=['accuracy'])"
      ],
      "execution_count": 6,
      "outputs": []
    },
    {
      "cell_type": "code",
      "metadata": {
        "colab": {
          "base_uri": "https://localhost:8080/"
        },
        "id": "q7ZnpI39P0eY",
        "outputId": "2d66611f-2c9f-43c4-9a59-6223c9f7d6a6"
      },
      "source": [
        "history = model.fit(X_train,y_train, epochs=10, verbose=True, validation_data = (X_test,y_test), batch_size=256)"
      ],
      "execution_count": 7,
      "outputs": [
        {
          "output_type": "stream",
          "name": "stdout",
          "text": [
            "Epoch 1/10\n",
            "147/147 [==============================] - 4s 21ms/step - loss: 0.3395 - accuracy: 0.8544 - val_loss: 0.2963 - val_accuracy: 0.8778\n",
            "Epoch 2/10\n",
            "147/147 [==============================] - 3s 20ms/step - loss: 0.2570 - accuracy: 0.8949 - val_loss: 0.3035 - val_accuracy: 0.8699\n",
            "Epoch 3/10\n",
            "147/147 [==============================] - 3s 20ms/step - loss: 0.2070 - accuracy: 0.9180 - val_loss: 0.2902 - val_accuracy: 0.8807\n",
            "Epoch 4/10\n",
            "147/147 [==============================] - 3s 20ms/step - loss: 0.1388 - accuracy: 0.9532 - val_loss: 0.3046 - val_accuracy: 0.8776\n",
            "Epoch 5/10\n",
            "147/147 [==============================] - 3s 20ms/step - loss: 0.0744 - accuracy: 0.9830 - val_loss: 0.3307 - val_accuracy: 0.8734\n",
            "Epoch 6/10\n",
            "147/147 [==============================] - 3s 20ms/step - loss: 0.0350 - accuracy: 0.9957 - val_loss: 0.3578 - val_accuracy: 0.8768\n",
            "Epoch 7/10\n",
            "147/147 [==============================] - 3s 20ms/step - loss: 0.0169 - accuracy: 0.9991 - val_loss: 0.3871 - val_accuracy: 0.8777\n",
            "Epoch 8/10\n",
            "147/147 [==============================] - 3s 20ms/step - loss: 0.0094 - accuracy: 0.9998 - val_loss: 0.4127 - val_accuracy: 0.8784\n",
            "Epoch 9/10\n",
            "147/147 [==============================] - 3s 20ms/step - loss: 0.0060 - accuracy: 0.9999 - val_loss: 0.4334 - val_accuracy: 0.8786\n",
            "Epoch 10/10\n",
            "147/147 [==============================] - 3s 20ms/step - loss: 0.0042 - accuracy: 0.9999 - val_loss: 0.4499 - val_accuracy: 0.8794\n"
          ]
        }
      ]
    },
    {
      "cell_type": "code",
      "metadata": {
        "colab": {
          "base_uri": "https://localhost:8080/"
        },
        "id": "z81bBsZ6P0cE",
        "outputId": "de2cb5a1-9c0e-49be-bed3-04444b8fcaff"
      },
      "source": [
        "model.summary()"
      ],
      "execution_count": 8,
      "outputs": [
        {
          "output_type": "stream",
          "name": "stdout",
          "text": [
            "Model: \"sequential\"\n",
            "_________________________________________________________________\n",
            " Layer (type)                Output Shape              Param #   \n",
            "=================================================================\n",
            " dense (Dense)               (None, 300)               600300    \n",
            "                                                                 \n",
            " dense_1 (Dense)             (None, 2)                 602       \n",
            "                                                                 \n",
            "=================================================================\n",
            "Total params: 600,902\n",
            "Trainable params: 600,902\n",
            "Non-trainable params: 0\n",
            "_________________________________________________________________\n"
          ]
        }
      ]
    },
    {
      "cell_type": "markdown",
      "metadata": {
        "id": "b_42XnZdQZKU"
      },
      "source": [
        "# **Model accuracy**"
      ]
    },
    {
      "cell_type": "code",
      "metadata": {
        "colab": {
          "base_uri": "https://localhost:8080/"
        },
        "id": "CSbO0FtbP0Y_",
        "outputId": "17d4c0cc-db57-4c2a-d933-b17df163ed0c"
      },
      "source": [
        "[test_loss, test_acc] = model.evaluate(X_test,y_test)\n",
        "print(\"Model Evaluation result on Test Data : Loss = {}, accuracy = {}\".format(test_loss, test_acc))"
      ],
      "execution_count": 9,
      "outputs": [
        {
          "output_type": "stream",
          "name": "stdout",
          "text": [
            "391/391 [==============================] - 1s 3ms/step - loss: 0.4499 - accuracy: 0.8794\n",
            "Model Evaluation result on Test Data : Loss = 0.44992321729660034, accuracy = 0.879360020160675\n"
          ]
        }
      ]
    },
    {
      "cell_type": "markdown",
      "metadata": {
        "id": "2xYwp9qPQlbb"
      },
      "source": [
        "# **Task 2. Add embedding layer to the model, check improvement, if any**\n",
        "\n",
        "## **Preparing data for embedding layer**"
      ]
    },
    {
      "cell_type": "code",
      "metadata": {
        "colab": {
          "base_uri": "https://localhost:8080/"
        },
        "id": "kiqqnHlwQu4r",
        "outputId": "fb0c10fe-7fdc-4fde-baad-553b25406c8c"
      },
      "source": [
        "df = pd.read_csv(\"/content/imdb_master.csv\", encoding=\"latin-1\")\n",
        "#df = pd.read_csv('imdb_master.csv', encoding='latin-1')\n",
        "\n",
        "# Remove the unsup classifier data from the dataset\n",
        "data = df.loc[(df['label'] != 'unsup')]\n",
        "\n",
        "sentences = data['review'].values\n",
        "y = data['label'].values\n",
        "print(np.unique(y))\n",
        "\n",
        "#tokenizing data\n",
        "tokenizer = Tokenizer(num_words=2000)\n",
        "tokenizer.fit_on_texts(sentences)\n",
        "\n",
        "#getting the vocabulary of data\n",
        "max_review_len= max([len(s.split()) for s in sentences])\n",
        "vocab_size= len(tokenizer.word_index)+1\n",
        "sentences = tokenizer.texts_to_sequences(sentences)\n",
        "padded_docs= pad_sequences(sentences,maxlen=max_review_len)"
      ],
      "execution_count": 10,
      "outputs": [
        {
          "output_type": "stream",
          "name": "stdout",
          "text": [
            "['neg' 'pos']\n"
          ]
        }
      ]
    },
    {
      "cell_type": "code",
      "metadata": {
        "id": "QTB0Z56YQxPw"
      },
      "source": [
        "le = preprocessing.LabelEncoder()\n",
        "y = le.fit_transform(y)\n",
        "X_train, X_test, y_train, y_test = train_test_split(padded_docs, y, test_size=0.25, random_state=1000)"
      ],
      "execution_count": 11,
      "outputs": []
    },
    {
      "cell_type": "markdown",
      "metadata": {
        "id": "ueSjM453Q0lF"
      },
      "source": [
        "## **Adding embedding layer in keras**"
      ]
    },
    {
      "cell_type": "code",
      "metadata": {
        "id": "uKrpw-ryQzw9"
      },
      "source": [
        "emb_model = Sequential()\n",
        "\n",
        "# Add embedding layer to the existing model\n",
        "emb_model.add(Embedding(vocab_size, 50, input_length=max_review_len))\n",
        "emb_model.add(Flatten())\n",
        "\n",
        "emb_model.add(layers.Dense(256,input_dim=2000, activation='relu'))\n",
        "emb_model.add(layers.Dense(2, activation='softmax'))\n",
        "\n",
        "emb_model.compile(loss='sparse_categorical_crossentropy',optimizer='adam',metrics=['accuracy'])"
      ],
      "execution_count": 12,
      "outputs": []
    },
    {
      "cell_type": "code",
      "metadata": {
        "colab": {
          "base_uri": "https://localhost:8080/"
        },
        "id": "5f1S6T9_Q7vf",
        "outputId": "3397b332-c032-44d4-a839-aaf57e7cf9fe"
      },
      "source": [
        "history = emb_model.fit(X_train,y_train, epochs=10, verbose=True, validation_data = (X_test,y_test), batch_size=256)"
      ],
      "execution_count": 13,
      "outputs": [
        {
          "output_type": "stream",
          "name": "stdout",
          "text": [
            "Epoch 1/10\n",
            "147/147 [==============================] - 197s 1s/step - loss: 0.6150 - accuracy: 0.7423 - val_loss: 0.3025 - val_accuracy: 0.8700\n",
            "Epoch 2/10\n",
            "147/147 [==============================] - 199s 1s/step - loss: 0.2494 - accuracy: 0.8979 - val_loss: 0.2893 - val_accuracy: 0.8782\n",
            "Epoch 3/10\n",
            "147/147 [==============================] - 198s 1s/step - loss: 0.1680 - accuracy: 0.9400 - val_loss: 0.3144 - val_accuracy: 0.8730\n",
            "Epoch 4/10\n",
            "147/147 [==============================] - 200s 1s/step - loss: 0.0905 - accuracy: 0.9755 - val_loss: 0.3541 - val_accuracy: 0.8657\n",
            "Epoch 5/10\n",
            "147/147 [==============================] - 197s 1s/step - loss: 0.0382 - accuracy: 0.9946 - val_loss: 0.4055 - val_accuracy: 0.8657\n",
            "Epoch 6/10\n",
            "147/147 [==============================] - 197s 1s/step - loss: 0.0156 - accuracy: 0.9990 - val_loss: 0.4616 - val_accuracy: 0.8643\n",
            "Epoch 7/10\n",
            "147/147 [==============================] - 197s 1s/step - loss: 0.0083 - accuracy: 0.9995 - val_loss: 0.4871 - val_accuracy: 0.8650\n",
            "Epoch 8/10\n",
            "147/147 [==============================] - 197s 1s/step - loss: 0.0052 - accuracy: 0.9997 - val_loss: 0.5110 - val_accuracy: 0.8654\n",
            "Epoch 9/10\n",
            "147/147 [==============================] - 198s 1s/step - loss: 0.0036 - accuracy: 0.9998 - val_loss: 0.5486 - val_accuracy: 0.8633\n",
            "Epoch 10/10\n",
            "147/147 [==============================] - 197s 1s/step - loss: 0.0026 - accuracy: 0.9998 - val_loss: 0.5671 - val_accuracy: 0.8639\n"
          ]
        }
      ]
    },
    {
      "cell_type": "code",
      "metadata": {
        "colab": {
          "base_uri": "https://localhost:8080/"
        },
        "id": "_xSI26lLQ7sj",
        "outputId": "9b2ece7c-e714-4f07-cc80-7848d8ee4d7c"
      },
      "source": [
        "emb_model.summary()"
      ],
      "execution_count": 14,
      "outputs": [
        {
          "output_type": "stream",
          "name": "stdout",
          "text": [
            "Model: \"sequential_1\"\n",
            "_________________________________________________________________\n",
            " Layer (type)                Output Shape              Param #   \n",
            "=================================================================\n",
            " embedding (Embedding)       (None, 2470, 50)          6184100   \n",
            "                                                                 \n",
            " flatten (Flatten)           (None, 123500)            0         \n",
            "                                                                 \n",
            " dense_2 (Dense)             (None, 256)               31616256  \n",
            "                                                                 \n",
            " dense_3 (Dense)             (None, 2)                 514       \n",
            "                                                                 \n",
            "=================================================================\n",
            "Total params: 37,800,870\n",
            "Trainable params: 37,800,870\n",
            "Non-trainable params: 0\n",
            "_________________________________________________________________\n"
          ]
        }
      ]
    },
    {
      "cell_type": "markdown",
      "metadata": {
        "id": "gd-8zV74RCXd"
      },
      "source": [
        "# **Model Accuracy of model with embedding layers**"
      ]
    },
    {
      "cell_type": "code",
      "metadata": {
        "colab": {
          "base_uri": "https://localhost:8080/"
        },
        "id": "pZQqF37FQ7no",
        "outputId": "5c37707f-de73-4ed4-d60d-d16b4db574d1"
      },
      "source": [
        "[test_loss, test_acc] = emb_model.evaluate(X_test, y_test)\n",
        "print(\"Embedded Model Evaluation result on Test Data : Loss = {}, accuracy = {}\".format(test_loss, test_acc))"
      ],
      "execution_count": 15,
      "outputs": [
        {
          "output_type": "stream",
          "name": "stdout",
          "text": [
            "391/391 [==============================] - 23s 58ms/step - loss: 0.5671 - accuracy: 0.8639\n",
            "Embedded Model Evaluation result on Test Data : Loss = 0.5671080350875854, accuracy = 0.8639199733734131\n"
          ]
        }
      ]
    },
    {
      "cell_type": "markdown",
      "metadata": {
        "id": "PJrxsFS3SD1V"
      },
      "source": [
        "**Observation:** We see that the model accuracy has slightly decreased with embedding layers.\n"
      ]
    },
    {
      "cell_type": "markdown",
      "metadata": {
        "id": "YBHuG6omSHd1"
      },
      "source": [
        "# **Plot the loss and accuracy using history object.**"
      ]
    },
    {
      "cell_type": "code",
      "metadata": {
        "colab": {
          "base_uri": "https://localhost:8080/",
          "height": 350
        },
        "id": "-4XT4-oaSFRI",
        "outputId": "5c079e28-ac74-4881-acbf-4586d1603a6d"
      },
      "source": [
        "import matplotlib.pyplot as plt\n",
        "pd.DataFrame(history.history).plot(figsize=(8, 5))\n",
        "plt.grid(True)\n",
        "plt.title('Model Accuracy and Loss for Train and Validation data')\n",
        "plt.ylabel('Accuracy/ Loss')\n",
        "plt.xlabel('Epoch')\n",
        "plt.gca().set_ylim(0, 1) \n",
        "plt.show()"
      ],
      "execution_count": 16,
      "outputs": [
        {
          "output_type": "display_data",
          "data": {
            "image/png": "[encoded data removed]",
            "text/plain": [
              "<Figure size 576x360 with 1 Axes>"
            ]
          },
          "metadata": {
            "needs_background": "light"
          }
        }
      ]
    },
    {
      "cell_type": "code",
      "metadata": {
        "colab": {
          "base_uri": "https://localhost:8080/",
          "height": 573
        },
        "id": "Ewmnvh5lSVrT",
        "outputId": "698d8a28-7321-40c8-e9cb-2545e1244238"
      },
      "source": [
        "import matplotlib.pyplot as plt\n",
        "\n",
        "plt.plot(history.history['accuracy'])\n",
        "plt.plot(history.history['val_accuracy'])\n",
        "plt.title('Model Accuracy')\n",
        "plt.ylabel('Accuracy')\n",
        "plt.xlabel('Epoch')\n",
        "plt.legend(['Train', 'Test'], loc='lower right')\n",
        "plt.show()\n",
        "\n",
        "plt.plot(history.history['loss'])\n",
        "plt.plot(history.history['val_loss'])\n",
        "plt.title('Model Loss')\n",
        "plt.ylabel('Loss')\n",
        "plt.xlabel('Epoch')\n",
        "plt.legend(['Train', 'Test'], loc='upper right')\n",
        "plt.show()"
      ],
      "execution_count": 17,
      "outputs": [
        {
          "output_type": "display_data",
          "data": {
            "image/png": "[encoded data removed]",
            "text/plain": [
              "<Figure size 432x288 with 1 Axes>"
            ]
          },
          "metadata": {
            "needs_background": "light"
          }
        },
        {
          "output_type": "display_data",
          "data": {
            "image/png": "[encoded data removed]",
            "text/plain": [
              "<Figure size 432x288 with 1 Axes>"
            ]
          },
          "metadata": {
            "needs_background": "light"
          }
        }
      ]
    },
    {
      "cell_type": "markdown",
      "metadata": {
        "id": "BZwWhDC6ZbGG"
      },
      "source": [
        "# **Predict over one sample of data and check what will be the prediction for that.**"
      ]
    },
    {
      "cell_type": "code",
      "metadata": {
        "colab": {
          "base_uri": "https://localhost:8080/"
        },
        "id": "B3P6ata7Zayz",
        "outputId": "a95c3300-e95e-424c-8f70-0de0e4bc7d1c"
      },
      "source": [
        "predicted = emb_model.predict(X_test[24].reshape(1, 2470))\n",
        "print(\"Actual value=\" + str(y_test[24]) + \"    Predicted value=\" + str(predicted.argmax()))"
      ],
      "execution_count": 18,
      "outputs": [
        {
          "output_type": "stream",
          "name": "stdout",
          "text": [
            "Actual value=0    Predicted value=0\n"
          ]
        }
      ]
    }
  ]
}