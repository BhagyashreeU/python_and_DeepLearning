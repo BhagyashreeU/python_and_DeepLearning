{
  "nbformat": 4,
  "nbformat_minor": 0,
  "metadata": {
    "colab": {
      "name": "ICP9.ipynb",
      "provenance": []
    },
    "kernelspec": {
      "name": "python3",
      "display_name": "Python 3"
    },
    "language_info": {
      "name": "python"
    },
    "accelerator": "GPU"
  },
  "cells": [
    {
      "cell_type": "markdown",
      "metadata": {
        "id": "yGRJTPDfzQeI"
      },
      "source": [
        "# **Import required libraries**"
      ]
    },
    {
      "cell_type": "code",
      "metadata": {
        "id": "vIq1pcPm7g_f"
      },
      "source": [
        "from keras import Sequential\n",
        "from keras.datasets import mnist\n",
        "import numpy as np\n",
        "from keras.layers import Dense\n",
        "from tensorflow.keras.utils import to_categorical\n",
        "import matplotlib.pyplot as plt"
      ],
      "execution_count": 1,
      "outputs": []
    },
    {
      "cell_type": "markdown",
      "metadata": {
        "id": "9s3SYc5BzVc-"
      },
      "source": [
        "# **Load data**"
      ]
    },
    {
      "cell_type": "code",
      "metadata": {
        "colab": {
          "base_uri": "https://localhost:8080/"
        },
        "id": "2Hqs36808GXd",
        "outputId": "536ee2f8-109f-402b-a9c3-5aed13685097"
      },
      "source": [
        "(train_images,train_labels),(test_images, test_labels) = mnist.load_data()"
      ],
      "execution_count": 2,
      "outputs": [
        {
          "output_type": "stream",
          "name": "stdout",
          "text": [
            "Downloading data from https://storage.googleapis.com/tensorflow/tf-keras-datasets/mnist.npz\n",
            "11493376/11490434 [==============================] - 0s 0us/step\n",
            "11501568/11490434 [==============================] - 0s 0us/step\n"
          ]
        }
      ]
    },
    {
      "cell_type": "code",
      "metadata": {
        "colab": {
          "base_uri": "https://localhost:8080/"
        },
        "id": "Grw3mSm28GUc",
        "outputId": "6a3bb69d-d5d5-47eb-924c-e76ae2449b73"
      },
      "source": [
        "print(type(train_images))\n",
        "print(train_images.shape)\n",
        "print(train_images[251].shape)"
      ],
      "execution_count": 3,
      "outputs": [
        {
          "output_type": "stream",
          "name": "stdout",
          "text": [
            "<class 'numpy.ndarray'>\n",
            "(60000, 28, 28)\n",
            "(28, 28)\n"
          ]
        }
      ]
    },
    {
      "cell_type": "code",
      "metadata": {
        "colab": {
          "base_uri": "https://localhost:8080/",
          "height": 283
        },
        "id": "ixdtFJDU8GRT",
        "outputId": "e2bf01e0-1437-4eab-dd33-fdd86db1923b"
      },
      "source": [
        "plt.imshow(train_images[500])"
      ],
      "execution_count": 4,
      "outputs": [
        {
          "output_type": "execute_result",
          "data": {
            "text/plain": [
              "<matplotlib.image.AxesImage at 0x7f053bc69990>"
            ]
          },
          "metadata": {},
          "execution_count": 4
        },
        {
          "output_type": "display_data",
          "data": {
            "image/png": "[encoded data removed]",
            "text/plain": [
              "<Figure size 432x288 with 1 Axes>"
            ]
          },
          "metadata": {
            "needs_background": "light"
          }
        }
      ]
    },
    {
      "cell_type": "markdown",
      "metadata": {
        "id": "qQwUpamOrF0p"
      },
      "source": [
        "# **process the data**\n",
        "\n",
        "1. convert each image of shape 28*28 to 784 dimensional which will be fed to the network as a single feature"
      ]
    },
    {
      "cell_type": "code",
      "metadata": {
        "colab": {
          "base_uri": "https://localhost:8080/"
        },
        "id": "ZIEIEt468GPS",
        "outputId": "3024af6d-d595-4ab1-f0f7-7610f45cc29b"
      },
      "source": [
        "dimData = np.prod(train_images.shape[1:])\n",
        "print(dimData)\n",
        "train_data = train_images.reshape(train_images.shape[0],dimData)\n",
        "test_data = test_images.reshape(test_images.shape[0],dimData)\n",
        "print(train_data.shape)"
      ],
      "execution_count": 5,
      "outputs": [
        {
          "output_type": "stream",
          "name": "stdout",
          "text": [
            "784\n",
            "(60000, 784)\n"
          ]
        }
      ]
    },
    {
      "cell_type": "markdown",
      "metadata": {
        "id": "7Ft-VoFsrnnG"
      },
      "source": [
        "# **Convert data to float and scale values between 0 and 1**"
      ]
    },
    {
      "cell_type": "code",
      "metadata": {
        "colab": {
          "base_uri": "https://localhost:8080/"
        },
        "id": "HbVlx6gM8GM6",
        "outputId": "dd5fadf8-e8b2-44e5-ea46-1018cc669922"
      },
      "source": [
        "print(train_data.dtype)\n",
        "train_data = train_data.astype('float')\n",
        "test_data = test_data.astype('float')\n",
        "print(train_data.dtype)\n",
        "\n"
      ],
      "execution_count": 6,
      "outputs": [
        {
          "output_type": "stream",
          "name": "stdout",
          "text": [
            "uint8\n",
            "float64\n"
          ]
        }
      ]
    },
    {
      "cell_type": "markdown",
      "metadata": {
        "id": "Sakqp4Y1rwk_"
      },
      "source": [
        "# **scale data**"
      ]
    },
    {
      "cell_type": "code",
      "metadata": {
        "colab": {
          "base_uri": "https://localhost:8080/"
        },
        "id": "JQP8tZpN8GJ0",
        "outputId": "13fa1d91-d925-45f3-e1b0-6d8082aa77dd"
      },
      "source": [
        "print(\"max = \", np.amax(train_data))\n",
        "print(\"min = \", np.amin(train_data))\n",
        "train_data /=255.0\n",
        "test_data /=255.0\n",
        "print(\"max = \", np.amax(train_data))\n",
        "print(\"min = \", np.amin(train_data))"
      ],
      "execution_count": 7,
      "outputs": [
        {
          "output_type": "stream",
          "name": "stdout",
          "text": [
            "max =  255.0\n",
            "min =  0.0\n",
            "max =  1.0\n",
            "min =  0.0\n"
          ]
        }
      ]
    },
    {
      "cell_type": "code",
      "metadata": {
        "colab": {
          "base_uri": "https://localhost:8080/"
        },
        "id": "XY4nfYit5TUK",
        "outputId": "dd59532a-b8f5-485e-b97c-1a63b0757fe0"
      },
      "source": [
        "print(train_labels[:20])"
      ],
      "execution_count": 8,
      "outputs": [
        {
          "output_type": "stream",
          "name": "stdout",
          "text": [
            "[5 0 4 1 9 2 1 3 1 4 3 5 3 6 1 7 2 8 6 9]\n"
          ]
        }
      ]
    },
    {
      "cell_type": "markdown",
      "metadata": {
        "id": "dL5GI9Hs5LTZ"
      },
      "source": [
        "# **change the labels from integer to one-hot encoding**"
      ]
    },
    {
      "cell_type": "code",
      "metadata": {
        "colab": {
          "base_uri": "https://localhost:8080/"
        },
        "id": "1jvu026d8GHg",
        "outputId": "f140c21e-9571-40ef-a412-126658f7974e"
      },
      "source": [
        "train_labels_one_hot = to_categorical(train_labels)\n",
        "\n",
        "test_labels_one_hot = to_categorical(test_labels)\n",
        "\n",
        "\n",
        "\n",
        "print(test_labels[0])\n",
        "print(train_labels_one_hot[0])\n",
        "\n",
        "\n",
        "\n"
      ],
      "execution_count": 9,
      "outputs": [
        {
          "output_type": "stream",
          "name": "stdout",
          "text": [
            "7\n",
            "[0. 0. 0. 0. 0. 1. 0. 0. 0. 0.]\n"
          ]
        }
      ]
    },
    {
      "cell_type": "markdown",
      "metadata": {
        "id": "kCRgTxkT5c30"
      },
      "source": [
        "# **creating network**"
      ]
    },
    {
      "cell_type": "code",
      "metadata": {
        "colab": {
          "base_uri": "https://localhost:8080/"
        },
        "id": "tja01vSv8GE_",
        "outputId": "add0be36-a050-4986-ebbc-f787dd8e2d12"
      },
      "source": [
        "# Build model\n",
        "model = Sequential()\n",
        "model.add(Dense(16, activation='relu', input_shape=(dimData,)))   #Input layer\n",
        "model.add(Dense(32, activation='relu'))                           #hidden layer\n",
        "model.add(Dense(10, activation='softmax'))                        #output layer\n",
        "\n",
        "\n",
        "model.summary()\n",
        "\n"
      ],
      "execution_count": 10,
      "outputs": [
        {
          "output_type": "stream",
          "name": "stdout",
          "text": [
            "Model: \"sequential\"\n",
            "_________________________________________________________________\n",
            "Layer (type)                 Output Shape              Param #   \n",
            "=================================================================\n",
            "dense (Dense)                (None, 16)                12560     \n",
            "_________________________________________________________________\n",
            "dense_1 (Dense)              (None, 32)                544       \n",
            "_________________________________________________________________\n",
            "dense_2 (Dense)              (None, 10)                330       \n",
            "=================================================================\n",
            "Total params: 13,434\n",
            "Trainable params: 13,434\n",
            "Non-trainable params: 0\n",
            "_________________________________________________________________\n"
          ]
        }
      ]
    },
    {
      "cell_type": "code",
      "metadata": {
        "id": "y36OdAtT8GCb"
      },
      "source": [
        "# Compile model\n",
        "model.compile(optimizer='adam', loss='categorical_crossentropy', metrics=['accuracy'])"
      ],
      "execution_count": 11,
      "outputs": []
    },
    {
      "cell_type": "markdown",
      "metadata": {
        "id": "oo4WVcnN5qZ0"
      },
      "source": [
        "# **Fit model**"
      ]
    },
    {
      "cell_type": "code",
      "metadata": {
        "colab": {
          "base_uri": "https://localhost:8080/"
        },
        "id": "6frDMsXH8GAS",
        "outputId": "4446f42a-5bb1-4fe8-e22a-31d626c09d95"
      },
      "source": [
        "history = model.fit(train_data, train_labels_one_hot, batch_size=256, epochs=10, verbose=1)"
      ],
      "execution_count": 12,
      "outputs": [
        {
          "output_type": "stream",
          "name": "stdout",
          "text": [
            "Epoch 1/10\n",
            "235/235 [==============================] - 1s 3ms/step - loss: 0.7934 - accuracy: 0.7728\n",
            "Epoch 2/10\n",
            "235/235 [==============================] - 1s 3ms/step - loss: 0.3024 - accuracy: 0.9123\n",
            "Epoch 3/10\n",
            "235/235 [==============================] - 1s 3ms/step - loss: 0.2544 - accuracy: 0.9274\n",
            "Epoch 4/10\n",
            "235/235 [==============================] - 1s 3ms/step - loss: 0.2283 - accuracy: 0.9342\n",
            "Epoch 5/10\n",
            "235/235 [==============================] - 1s 3ms/step - loss: 0.2073 - accuracy: 0.9396\n",
            "Epoch 6/10\n",
            "235/235 [==============================] - 1s 3ms/step - loss: 0.1908 - accuracy: 0.9446\n",
            "Epoch 7/10\n",
            "235/235 [==============================] - 1s 3ms/step - loss: 0.1777 - accuracy: 0.9483\n",
            "Epoch 8/10\n",
            "235/235 [==============================] - 1s 3ms/step - loss: 0.1672 - accuracy: 0.9514\n",
            "Epoch 9/10\n",
            "235/235 [==============================] - 1s 3ms/step - loss: 0.1587 - accuracy: 0.9539\n",
            "Epoch 10/10\n",
            "235/235 [==============================] - 1s 3ms/step - loss: 0.1515 - accuracy: 0.9559\n"
          ]
        }
      ]
    },
    {
      "cell_type": "code",
      "metadata": {
        "colab": {
          "base_uri": "https://localhost:8080/",
          "height": 295
        },
        "id": "r_FPx1cL8F95",
        "outputId": "3a2d7188-1140-4065-b0df-e57005691a67"
      },
      "source": [
        "# Plot accuracy , loss plot\n",
        "plt.plot(history.history['loss'])\n",
        "plt.title('Model Loss')\n",
        "plt.ylabel('Loss')\n",
        "plt.xlabel('Epoch')\n",
        "plt.legend(['Training Loss'], loc='upper right')\n",
        "plt.show()\n",
        "\n"
      ],
      "execution_count": 13,
      "outputs": [
        {
          "output_type": "display_data",
          "data": {
            "image/png": "[encoded data removed]",
            "text/plain": [
              "<Figure size 432x288 with 1 Axes>"
            ]
          },
          "metadata": {
            "needs_background": "light"
          }
        }
      ]
    },
    {
      "cell_type": "code",
      "metadata": {
        "colab": {
          "base_uri": "https://localhost:8080/",
          "height": 295
        },
        "id": "_TAj_CzQ8F7f",
        "outputId": "5211991b-b640-4057-d7e7-157808246ab1"
      },
      "source": [
        "plt.plot(history.history['accuracy'])\n",
        "plt.title('Model accuracy')\n",
        "plt.ylabel('Accuracy')\n",
        "plt.xlabel('Epoch')\n",
        "plt.legend(['Training Accuracy'], loc='upper left')\n",
        "plt.show()"
      ],
      "execution_count": 14,
      "outputs": [
        {
          "output_type": "display_data",
          "data": {
            "image/png": "[encoded data removed]",
            "text/plain": [
              "<Figure size 432x288 with 1 Axes>"
            ]
          },
          "metadata": {
            "needs_background": "light"
          }
        }
      ]
    },
    {
      "cell_type": "markdown",
      "metadata": {
        "id": "5omr1XFr6A9-"
      },
      "source": [
        "# **Task1:** \n",
        "\n",
        "1.Change the number of hidden layers and the activation to tanh or sigmoid \n",
        "\n",
        "  First I am changing to **tanh** and also added 2 hidden layers of Dense.\n",
        "\n",
        "  **Findings:** After adding more layers of dense and changing activation   function to tanh accuracy increased from 95% to 98%"
      ]
    },
    {
      "cell_type": "code",
      "metadata": {
        "colab": {
          "base_uri": "https://localhost:8080/"
        },
        "id": "Dk0rTpHd8F5c",
        "outputId": "bf70045d-1756-4726-b4f3-c7691d87ccad"
      },
      "source": [
        "model_2 = Sequential()\n",
        "model_2.add(Dense(64, activation='relu', input_shape=(dimData,))) # input layer\n",
        "model_2.add(Dense(128, activation='tanh'))                        # hidden layer\n",
        "model_2.add(Dense(256, activation='tanh'))                        # hidden layer\n",
        "model_2.add(Dense(10, activation='softmax'))                      # output layer\n",
        "\n",
        "\n",
        "model_2.summary()"
      ],
      "execution_count": 15,
      "outputs": [
        {
          "output_type": "stream",
          "name": "stdout",
          "text": [
            "Model: \"sequential_1\"\n",
            "_________________________________________________________________\n",
            "Layer (type)                 Output Shape              Param #   \n",
            "=================================================================\n",
            "dense_3 (Dense)              (None, 64)                50240     \n",
            "_________________________________________________________________\n",
            "dense_4 (Dense)              (None, 128)               8320      \n",
            "_________________________________________________________________\n",
            "dense_5 (Dense)              (None, 256)               33024     \n",
            "_________________________________________________________________\n",
            "dense_6 (Dense)              (None, 10)                2570      \n",
            "=================================================================\n",
            "Total params: 94,154\n",
            "Trainable params: 94,154\n",
            "Non-trainable params: 0\n",
            "_________________________________________________________________\n"
          ]
        }
      ]
    },
    {
      "cell_type": "code",
      "metadata": {
        "id": "oyEVilU78F3J"
      },
      "source": [
        "model_2.compile(optimizer='adam', loss='categorical_crossentropy', metrics=['accuracy'])"
      ],
      "execution_count": 16,
      "outputs": []
    },
    {
      "cell_type": "code",
      "metadata": {
        "colab": {
          "base_uri": "https://localhost:8080/"
        },
        "id": "HJShfoIz8F09",
        "outputId": "f4c6a8c3-5e06-48f0-fdd0-24a5e304a7f6"
      },
      "source": [
        "history = model_2.fit(train_data, train_labels_one_hot, batch_size=256, epochs=10, verbose=1)"
      ],
      "execution_count": 17,
      "outputs": [
        {
          "output_type": "stream",
          "name": "stdout",
          "text": [
            "Epoch 1/10\n",
            "235/235 [==============================] - 2s 6ms/step - loss: 0.3792 - accuracy: 0.8896\n",
            "Epoch 2/10\n",
            "235/235 [==============================] - 1s 6ms/step - loss: 0.1426 - accuracy: 0.9568\n",
            "Epoch 3/10\n",
            "235/235 [==============================] - 1s 6ms/step - loss: 0.1043 - accuracy: 0.9686\n",
            "Epoch 4/10\n",
            "235/235 [==============================] - 2s 7ms/step - loss: 0.0807 - accuracy: 0.9747\n",
            "Epoch 5/10\n",
            "235/235 [==============================] - 1s 6ms/step - loss: 0.0646 - accuracy: 0.9799\n",
            "Epoch 6/10\n",
            "235/235 [==============================] - 1s 5ms/step - loss: 0.0545 - accuracy: 0.9826\n",
            "Epoch 7/10\n",
            "235/235 [==============================] - 1s 6ms/step - loss: 0.0461 - accuracy: 0.9848\n",
            "Epoch 8/10\n",
            "235/235 [==============================] - 1s 6ms/step - loss: 0.0366 - accuracy: 0.9883\n",
            "Epoch 9/10\n",
            "235/235 [==============================] - 1s 6ms/step - loss: 0.0326 - accuracy: 0.9897\n",
            "Epoch 10/10\n",
            "235/235 [==============================] - 2s 6ms/step - loss: 0.0274 - accuracy: 0.9912\n"
          ]
        }
      ]
    },
    {
      "cell_type": "markdown",
      "metadata": {
        "id": "CgGCUsSa933X"
      },
      "source": [
        "1.Change the number of hidden layers and the activation to tanh or sigmoid \n",
        "\n",
        "Here, I am changing to **sigmoid** and also added 2 hidden layers of Dense.\n",
        "\n",
        "**Findings** After changing activation function from tanh to sigmoid there is slight decrease in accuracy. We got good accuracy for tanh function than sigmoid."
      ]
    },
    {
      "cell_type": "code",
      "metadata": {
        "colab": {
          "base_uri": "https://localhost:8080/"
        },
        "id": "hjQV-CF98Fx9",
        "outputId": "c4c10c4d-2a11-49be-feee-3465af9795e2"
      },
      "source": [
        "model_3 = Sequential()\n",
        "model_3.add(Dense(64, activation='relu', input_shape=(dimData,)))   # input layer\n",
        "model_3.add(Dense(128, activation='sigmoid'))                       # hidden layer\n",
        "model_3.add(Dense(256, activation='sigmoid'))                       # hidden layer\n",
        "model_3.add(Dense(10, activation='softmax'))                        # Output layer  \n",
        "\n",
        "\n",
        "model_3.summary()"
      ],
      "execution_count": 18,
      "outputs": [
        {
          "output_type": "stream",
          "name": "stdout",
          "text": [
            "Model: \"sequential_2\"\n",
            "_________________________________________________________________\n",
            "Layer (type)                 Output Shape              Param #   \n",
            "=================================================================\n",
            "dense_7 (Dense)              (None, 64)                50240     \n",
            "_________________________________________________________________\n",
            "dense_8 (Dense)              (None, 128)               8320      \n",
            "_________________________________________________________________\n",
            "dense_9 (Dense)              (None, 256)               33024     \n",
            "_________________________________________________________________\n",
            "dense_10 (Dense)             (None, 10)                2570      \n",
            "=================================================================\n",
            "Total params: 94,154\n",
            "Trainable params: 94,154\n",
            "Non-trainable params: 0\n",
            "_________________________________________________________________\n"
          ]
        }
      ]
    },
    {
      "cell_type": "code",
      "metadata": {
        "id": "oq9VuYil-EGQ"
      },
      "source": [
        "model_3.compile(optimizer='adam', loss='categorical_crossentropy', metrics=['accuracy'])"
      ],
      "execution_count": 19,
      "outputs": []
    },
    {
      "cell_type": "code",
      "metadata": {
        "colab": {
          "base_uri": "https://localhost:8080/"
        },
        "id": "1mzX2Yhw-EDJ",
        "outputId": "3e907f98-d14d-41f2-ff21-018eedf0fcb6"
      },
      "source": [
        "history = model_3.fit(train_data, train_labels_one_hot, batch_size=256, epochs=10, verbose=1,\n",
        "                    validation_data=(test_data, test_labels_one_hot))\n",
        "\n",
        "[test_loss, test_acc] = model_3.evaluate(test_data, test_labels_one_hot)\n",
        "print(\"Evaluation result on Test Data : Loss = {}, accuracy = {}\".format(test_loss, test_acc))"
      ],
      "execution_count": 20,
      "outputs": [
        {
          "output_type": "stream",
          "name": "stdout",
          "text": [
            "Epoch 1/10\n",
            "235/235 [==============================] - 2s 7ms/step - loss: 0.8594 - accuracy: 0.7574 - val_loss: 0.2968 - val_accuracy: 0.9145\n",
            "Epoch 2/10\n",
            "235/235 [==============================] - 2s 6ms/step - loss: 0.2511 - accuracy: 0.9265 - val_loss: 0.2069 - val_accuracy: 0.9382\n",
            "Epoch 3/10\n",
            "235/235 [==============================] - 2s 7ms/step - loss: 0.1819 - accuracy: 0.9456 - val_loss: 0.1625 - val_accuracy: 0.9518\n",
            "Epoch 4/10\n",
            "235/235 [==============================] - 1s 6ms/step - loss: 0.1457 - accuracy: 0.9564 - val_loss: 0.1393 - val_accuracy: 0.9592\n",
            "Epoch 5/10\n",
            "235/235 [==============================] - 1s 6ms/step - loss: 0.1226 - accuracy: 0.9631 - val_loss: 0.1292 - val_accuracy: 0.9617\n",
            "Epoch 6/10\n",
            "235/235 [==============================] - 1s 6ms/step - loss: 0.1054 - accuracy: 0.9680 - val_loss: 0.1216 - val_accuracy: 0.9634\n",
            "Epoch 7/10\n",
            "235/235 [==============================] - 2s 7ms/step - loss: 0.0931 - accuracy: 0.9715 - val_loss: 0.1076 - val_accuracy: 0.9676\n",
            "Epoch 8/10\n",
            "235/235 [==============================] - 2s 7ms/step - loss: 0.0826 - accuracy: 0.9752 - val_loss: 0.1032 - val_accuracy: 0.9692\n",
            "Epoch 9/10\n",
            "235/235 [==============================] - 2s 7ms/step - loss: 0.0731 - accuracy: 0.9777 - val_loss: 0.1024 - val_accuracy: 0.9686\n",
            "Epoch 10/10\n",
            "235/235 [==============================] - 2s 6ms/step - loss: 0.0643 - accuracy: 0.9804 - val_loss: 0.0984 - val_accuracy: 0.9704\n",
            "313/313 [==============================] - 0s 1ms/step - loss: 0.0984 - accuracy: 0.9704\n",
            "Evaluation result on Test Data : Loss = 0.09836024791002274, accuracy = 0.9703999757766724\n"
          ]
        }
      ]
    },
    {
      "cell_type": "markdown",
      "metadata": {
        "id": "haTnQhHS--C9"
      },
      "source": [
        "# **Task 2**\n",
        "\n",
        "2. Using the history object in the source code, plot the loss and accuracy for both training data and validation data on the same graph."
      ]
    },
    {
      "cell_type": "code",
      "metadata": {
        "colab": {
          "base_uri": "https://localhost:8080/",
          "height": 295
        },
        "id": "-_RpSd4M-EA3",
        "outputId": "a234fded-4efa-475c-f4c5-b83113f07a14"
      },
      "source": [
        "plt.plot(history.history['loss'], color=\"red\")\n",
        "plt.plot(history.history['accuracy'], color=\"green\")\n",
        "plt.plot(history.history['val_loss'], color=\"black\")\n",
        "plt.plot(history.history['val_accuracy'], color=\"brown\")\n",
        "plt.title('Loss & Accuracy')\n",
        "plt.xlabel('Epoch')\n",
        "plt.legend(['train loss', 'train acc', 'val loss', 'val acc'], loc='center right')\n",
        "plt.show()"
      ],
      "execution_count": 21,
      "outputs": [
        {
          "output_type": "display_data",
          "data": {
            "image/png": "[encoded data removed]",
            "text/plain": [
              "<Figure size 432x288 with 1 Axes>"
            ]
          },
          "metadata": {
            "needs_background": "light"
          }
        }
      ]
    },
    {
      "cell_type": "markdown",
      "metadata": {
        "id": "d2MogKBHxhH6"
      },
      "source": [
        "# **Task3**\n",
        "\n",
        "Run the same code without scaling the images\n",
        "\n",
        "**Findings:** From the above we see that accuracy decreases if we train the model without scaling the data. Accuracy decreased from 98% to 96%"
      ]
    },
    {
      "cell_type": "code",
      "metadata": {
        "colab": {
          "base_uri": "https://localhost:8080/",
          "height": 703
        },
        "id": "71ov2u3L-D-T",
        "outputId": "5b910b75-58c6-4ab4-8604-941270bc5bc3"
      },
      "source": [
        "#load the data\n",
        "(train_images,train_labels),(test_images, test_labels) = mnist.load_data()\n",
        "\n",
        "#convert each image of shape 28*28 to 784 dimensional which will be fed to the network as a single feature\n",
        "dimData = np.prod(train_images.shape[1:])\n",
        "print(dimData)\n",
        "train_data = train_images.reshape(train_images.shape[0],dimData)\n",
        "test_data = test_images.reshape(test_images.shape[0],dimData)\n",
        "\n",
        "#convert data to float and scale values between 0 and 1\n",
        "train_data = train_data.astype('float')\n",
        "test_data = test_data.astype('float')\n",
        "\n",
        "#change the labels from integer to one-hot encoding \n",
        "train_labels_one_hot = to_categorical(train_labels)\n",
        "test_labels_one_hot = to_categorical(test_labels)\n",
        "\n",
        "#Build model\n",
        "\n",
        "model_4 = Sequential()\n",
        "model_4.add(Dense(64, activation='relu', input_shape=(dimData,)))\n",
        "model_4.add(Dense(128, activation='sigmoid'))\n",
        "model_4.add(Dense(256, activation='sigmoid'))\n",
        "model_4.add(Dense(10, activation='softmax'))\n",
        "\n",
        "#Compile model \n",
        "\n",
        "model_4.compile(optimizer='adam', loss='categorical_crossentropy', metrics=['accuracy'])\n",
        "\n",
        "# Fit model \n",
        "history = model_4.fit(train_data, train_labels_one_hot, batch_size=256, epochs=10, verbose=1,\n",
        "                    validation_data=(test_data, test_labels_one_hot))\n",
        "\n",
        "# Evaluate the result on test data\n",
        "[test_loss, test_acc] = model_4.evaluate(test_data, test_labels_one_hot)\n",
        "print(\"Evaluation result on Test Data : Loss = {}, accuracy = {}\".format(test_loss, test_acc))\n",
        "\n",
        "# plot train and test accuracy, loss plot\n",
        "plt.plot(history.history['loss'], color=\"red\")\n",
        "plt.plot(history.history['accuracy'], color=\"green\")\n",
        "plt.plot(history.history['val_loss'], color=\"black\")\n",
        "plt.plot(history.history['val_accuracy'], color=\"brown\")\n",
        "plt.title('Loss & Accuracy')\n",
        "plt.legend(['train loss', 'train acc', 'val loss', 'val acc'], loc='center right')\n",
        "plt.show()"
      ],
      "execution_count": 22,
      "outputs": [
        {
          "output_type": "stream",
          "name": "stdout",
          "text": [
            "784\n",
            "Epoch 1/10\n",
            "235/235 [==============================] - 2s 7ms/step - loss: 0.6712 - accuracy: 0.8258 - val_loss: 0.2457 - val_accuracy: 0.9290\n",
            "Epoch 2/10\n",
            "235/235 [==============================] - 2s 7ms/step - loss: 0.2151 - accuracy: 0.9369 - val_loss: 0.1896 - val_accuracy: 0.9429\n",
            "Epoch 3/10\n",
            "235/235 [==============================] - 2s 7ms/step - loss: 0.1734 - accuracy: 0.9477 - val_loss: 0.1774 - val_accuracy: 0.9486\n",
            "Epoch 4/10\n",
            "235/235 [==============================] - 1s 6ms/step - loss: 0.1494 - accuracy: 0.9559 - val_loss: 0.1471 - val_accuracy: 0.9560\n",
            "Epoch 5/10\n",
            "235/235 [==============================] - 1s 6ms/step - loss: 0.1363 - accuracy: 0.9598 - val_loss: 0.1535 - val_accuracy: 0.9522\n",
            "Epoch 6/10\n",
            "235/235 [==============================] - 1s 6ms/step - loss: 0.1255 - accuracy: 0.9626 - val_loss: 0.1426 - val_accuracy: 0.9567\n",
            "Epoch 7/10\n",
            "235/235 [==============================] - 2s 7ms/step - loss: 0.1185 - accuracy: 0.9643 - val_loss: 0.1325 - val_accuracy: 0.9597\n",
            "Epoch 8/10\n",
            "235/235 [==============================] - 1s 6ms/step - loss: 0.1159 - accuracy: 0.9646 - val_loss: 0.1497 - val_accuracy: 0.9527\n",
            "Epoch 9/10\n",
            "235/235 [==============================] - 2s 7ms/step - loss: 0.1080 - accuracy: 0.9660 - val_loss: 0.1213 - val_accuracy: 0.9647\n",
            "Epoch 10/10\n",
            "235/235 [==============================] - 2s 7ms/step - loss: 0.1024 - accuracy: 0.9686 - val_loss: 0.1198 - val_accuracy: 0.9649\n",
            "313/313 [==============================] - 0s 1ms/step - loss: 0.1198 - accuracy: 0.9649\n",
            "Evaluation result on Test Data : Loss = 0.11978432536125183, accuracy = 0.964900016784668\n"
          ]
        },
        {
          "output_type": "display_data",
          "data": {
            "image/png": "[encoded data removed]",
            "text/plain": [
              "<Figure size 432x288 with 1 Axes>"
            ]
          },
          "metadata": {
            "needs_background": "light"
          }
        }
      ]
    },
    {
      "cell_type": "markdown",
      "metadata": {
        "id": "5xIFkr0r0gRn"
      },
      "source": [
        "# **Task4**\n",
        "\n",
        " Convert the sequential model to a functional API model."
      ]
    },
    {
      "cell_type": "code",
      "metadata": {
        "id": "wcSYfy3j0XBZ"
      },
      "source": [
        "from keras.layers import Input, Reshape, Concatenate\n",
        "from keras.layers import Dense, Flatten\n",
        "from keras.models import Model\n",
        "\n",
        "(x_train_full, y_train_full), (x_test, y_test) = mnist.load_data()\n",
        "\n",
        "X_valid, X_train = x_train_full[:5000] / 255.0, x_train_full[5000:] / 255.0\n",
        "y_valid, y_train = y_train_full[:5000], y_train_full[5000:]\n",
        "\n",
        "input_ = Input(shape=[28, 28])\n",
        "flatten = Flatten(input_shape=[28, 28])(input_)\n",
        "hidden1 = Dense(28, activation=\"relu\")(flatten)\n",
        "hidden2 = Dense(512, activation='relu')(hidden1)\n",
        "hidden3 = Dense(28*28, activation='relu')(hidden2)\n",
        "reshap = Reshape((28, 28))(hidden3)\n",
        "concat_ = Concatenate()([input_, reshap])\n",
        "flatten2 = Flatten(input_shape=[28, 28])(concat_)\n",
        "output = Dense(10, activation='softmax')(flatten2)\n",
        "model_func = Model(inputs=[input_], outputs=[output] )"
      ],
      "execution_count": 23,
      "outputs": []
    },
    {
      "cell_type": "code",
      "metadata": {
        "colab": {
          "base_uri": "https://localhost:8080/"
        },
        "id": "F7d98mdL1jFS",
        "outputId": "4bc7552b-38da-4ebd-88b1-99561cabd19b"
      },
      "source": [
        "model_func.compile(loss=\"sparse_categorical_crossentropy\", optimizer=\"sgd\",\n",
        "              metrics=[\"accuracy\"])\n",
        "h = model_func.fit(X_train, y_train, epochs=10, validation_data=(X_valid, y_valid))"
      ],
      "execution_count": 24,
      "outputs": [
        {
          "output_type": "stream",
          "name": "stdout",
          "text": [
            "Epoch 1/10\n",
            "1719/1719 [==============================] - 12s 7ms/step - loss: 0.7697 - accuracy: 0.8249 - val_loss: 0.4564 - val_accuracy: 0.8876\n",
            "Epoch 2/10\n",
            "1719/1719 [==============================] - 11s 7ms/step - loss: 0.4173 - accuracy: 0.8877 - val_loss: 0.3470 - val_accuracy: 0.9056\n",
            "Epoch 3/10\n",
            "1719/1719 [==============================] - 11s 7ms/step - loss: 0.3438 - accuracy: 0.9028 - val_loss: 0.2969 - val_accuracy: 0.9170\n",
            "Epoch 4/10\n",
            "1719/1719 [==============================] - 12s 7ms/step - loss: 0.3005 - accuracy: 0.9140 - val_loss: 0.2631 - val_accuracy: 0.9284\n",
            "Epoch 5/10\n",
            "1719/1719 [==============================] - 11s 6ms/step - loss: 0.2704 - accuracy: 0.9223 - val_loss: 0.2388 - val_accuracy: 0.9322\n",
            "Epoch 6/10\n",
            "1719/1719 [==============================] - 11s 7ms/step - loss: 0.2466 - accuracy: 0.9293 - val_loss: 0.2202 - val_accuracy: 0.9396\n",
            "Epoch 7/10\n",
            "1719/1719 [==============================] - 11s 6ms/step - loss: 0.2260 - accuracy: 0.9345 - val_loss: 0.1999 - val_accuracy: 0.9440\n",
            "Epoch 8/10\n",
            "1719/1719 [==============================] - 11s 6ms/step - loss: 0.2086 - accuracy: 0.9402 - val_loss: 0.1870 - val_accuracy: 0.9472\n",
            "Epoch 9/10\n",
            "1719/1719 [==============================] - 12s 7ms/step - loss: 0.1928 - accuracy: 0.9448 - val_loss: 0.1791 - val_accuracy: 0.9508\n",
            "Epoch 10/10\n",
            "1719/1719 [==============================] - 12s 7ms/step - loss: 0.1787 - accuracy: 0.9493 - val_loss: 0.1632 - val_accuracy: 0.9548\n"
          ]
        }
      ]
    },
    {
      "cell_type": "code",
      "metadata": {
        "colab": {
          "base_uri": "https://localhost:8080/"
        },
        "id": "fFyxvtcQ3agB",
        "outputId": "eb6b35f7-1818-4736-c422-9c7bd34b6dba"
      },
      "source": [
        "[test_loss, test_acc] = model_func.evaluate(X_valid, y_valid)\n",
        "print(\"API Model Evaluation result on Test Data : Loss = {}, accuracy = {}\".format(test_loss, test_acc))"
      ],
      "execution_count": 25,
      "outputs": [
        {
          "output_type": "stream",
          "name": "stdout",
          "text": [
            "157/157 [==============================] - 0s 3ms/step - loss: 0.1632 - accuracy: 0.9548\n",
            "API Model Evaluation result on Test Data : Loss = 0.16319726407527924, accuracy = 0.954800009727478\n"
          ]
        }
      ]
    },
    {
      "cell_type": "code",
      "metadata": {
        "colab": {
          "base_uri": "https://localhost:8080/",
          "height": 350
        },
        "id": "aKyC3UYT3eVo",
        "outputId": "fe4124e3-3886-42b9-b1c5-d5185694f79b"
      },
      "source": [
        "import pandas as pd\n",
        "\n",
        "pd.DataFrame(h.history).plot(figsize=(8, 5))\n",
        "plt.grid(True)\n",
        "plt.title('Model Accuracy and Loss for Train and Validation data')\n",
        "plt.ylabel('Accuracy/ Loss')\n",
        "plt.xlabel('Epoch')\n",
        "plt.gca().set_ylim(0, 1) \n",
        "plt.show()"
      ],
      "execution_count": 26,
      "outputs": [
        {
          "output_type": "display_data",
          "data": {
            "image/png": "[encoded data removed]",
            "text/plain": [
              "<Figure size 576x360 with 1 Axes>"
            ]
          },
          "metadata": {
            "needs_background": "light"
          }
        }
      ]
    },
    {
      "cell_type": "markdown",
      "metadata": {
        "id": "9yT6vjgh3le7"
      },
      "source": [
        "# **Task5**\n",
        "\n",
        "5. Plot one of the images in the test data, and then do inferencing to check what is the prediction of the model on that single image in the test data."
      ]
    },
    {
      "cell_type": "code",
      "metadata": {
        "colab": {
          "base_uri": "https://localhost:8080/",
          "height": 336
        },
        "id": "5u6seZbJ3eNV",
        "outputId": "2fc2f3cf-7a46-4896-bcac-10a70cddcc83"
      },
      "source": [
        "# Loading and predicting the image using the test data\n",
        "random_index = np.random.randint(100)                                                                          # It takes random index ranging from 1 to 100\n",
        "predict_test = model_2.predict(test_data[[random_index], :])\n",
        "print(\"The prediction for the {} image in the test dataset is: {}\".format(random_index, predict_test))\n",
        "\n",
        "# plot image and its prediction by model\n",
        "plt.imshow(test_images[random_index, :, :],cmap='gray')\n",
        "plt.title('Ground Truth : {}'.format(test_labels[random_index]))\n",
        "plt.show()\n",
        "\n"
      ],
      "execution_count": 33,
      "outputs": [
        {
          "output_type": "stream",
          "name": "stdout",
          "text": [
            "The prediction for the 6 image in the test dataset is: [[2.89343260e-09 1.72769585e-08 9.11787623e-08 8.74303652e-09\n",
            "  9.96019304e-01 5.08724760e-08 1.44727110e-08 1.15324966e-07\n",
            "  6.29246875e-04 3.35115730e-03]]\n"
          ]
        },
        {
          "output_type": "display_data",
          "data": {
            "image/png": "[encoded data removed]",
            "text/plain": [
              "<Figure size 432x288 with 1 Axes>"
            ]
          },
          "metadata": {
            "needs_background": "light"
          }
        }
      ]
    },
    {
      "cell_type": "markdown",
      "metadata": {
        "id": "6ea1PQk163yk"
      },
      "source": [
        "# **Task6**\n",
        "\n",
        "Change the loss method to (sparce categorical_crossentropy)\n",
        "\n",
        "\n",
        "**Encountered error in this case because we did change labels from integer to one-hot encoding but SparseCategoricalCrossentropy expects labels to be provided as integers so to change from categorical_crossentropy to SparseCategoricalCrossentropy no need to do one-hot encoding.**"
      ]
    },
    {
      "cell_type": "code",
      "metadata": {
        "colab": {
          "base_uri": "https://localhost:8080/"
        },
        "id": "ZE6GDR1l-q12",
        "outputId": "8c228235-8480-41ab-b25f-bbe0083dd881"
      },
      "source": [
        "# load data\n",
        "(train_images,train_labels),(test_images, test_labels) = mnist.load_data()\n",
        "\n",
        "# print shape\n",
        "print(type(train_images))\n",
        "print(train_images.shape)\n",
        "print(train_images[251].shape)\n",
        "\n",
        "# convert each image of shape 28*28 to 784 dimensional which will be fed to the network as a single feature\n",
        "\n",
        "dimData = np.prod(train_images.shape[1:])\n",
        "print(dimData)\n",
        "train_data = train_images.reshape(train_images.shape[0],dimData)\n",
        "test_data = test_images.reshape(test_images.shape[0],dimData)\n",
        "print(train_data.shape)\n",
        "\n",
        "# Convert data to float and scale values between 0 and 1 \n",
        "print(train_data.dtype)\n",
        "train_data = train_data.astype('float')\n",
        "test_data = test_data.astype('float')\n",
        "print(train_data.dtype)\n",
        "\n",
        "# Scale data\n",
        "\n",
        "print(\"max = \", np.amax(train_data))\n",
        "print(\"min = \", np.amin(train_data))\n",
        "train_data /=255.0\n",
        "test_data /=255.0\n",
        "print(\"max = \", np.amax(train_data))\n",
        "print(\"min = \", np.amin(train_data))\n",
        "\n",
        "\n",
        "\n",
        "\n",
        "\n"
      ],
      "execution_count": 28,
      "outputs": [
        {
          "output_type": "stream",
          "name": "stdout",
          "text": [
            "<class 'numpy.ndarray'>\n",
            "(60000, 28, 28)\n",
            "(28, 28)\n",
            "784\n",
            "(60000, 784)\n",
            "uint8\n",
            "float64\n",
            "max =  255.0\n",
            "min =  0.0\n",
            "max =  1.0\n",
            "min =  0.0\n"
          ]
        }
      ]
    },
    {
      "cell_type": "code",
      "metadata": {
        "colab": {
          "base_uri": "https://localhost:8080/"
        },
        "id": "W6hN7qBR63Z5",
        "outputId": "2c248cae-9692-4503-ca0e-1031dc9e2afd"
      },
      "source": [
        "model_5 = Sequential()\n",
        "model_5.add(Dense(64, activation='relu', input_dim = dimData))      # input layer\n",
        "model_5.add(Dense(128, activation='relu'))                          # hidden layer\n",
        "model_5.add(Dense(10, activation='softmax'))                        # output layer\n",
        "\n",
        "\n",
        "model_5.summary()"
      ],
      "execution_count": 29,
      "outputs": [
        {
          "output_type": "stream",
          "name": "stdout",
          "text": [
            "Model: \"sequential_4\"\n",
            "_________________________________________________________________\n",
            "Layer (type)                 Output Shape              Param #   \n",
            "=================================================================\n",
            "dense_19 (Dense)             (None, 64)                50240     \n",
            "_________________________________________________________________\n",
            "dense_20 (Dense)             (None, 128)               8320      \n",
            "_________________________________________________________________\n",
            "dense_21 (Dense)             (None, 10)                1290      \n",
            "=================================================================\n",
            "Total params: 59,850\n",
            "Trainable params: 59,850\n",
            "Non-trainable params: 0\n",
            "_________________________________________________________________\n"
          ]
        }
      ]
    },
    {
      "cell_type": "code",
      "metadata": {
        "id": "dwYr36dq7oNA"
      },
      "source": [
        "model_5.compile(optimizer='adam', loss='sparse_categorical_crossentropy', metrics=['accuracy'])"
      ],
      "execution_count": 30,
      "outputs": []
    },
    {
      "cell_type": "code",
      "metadata": {
        "colab": {
          "base_uri": "https://localhost:8080/"
        },
        "id": "G5GpVUlN737Y",
        "outputId": "28f26323-86d3-4714-c0c5-60c7b8984ade"
      },
      "source": [
        "history = model.fit(train_data, train_labels_one_hot, batch_size=256, epochs=10, verbose=1)"
      ],
      "execution_count": 31,
      "outputs": [
        {
          "output_type": "stream",
          "name": "stdout",
          "text": [
            "Epoch 1/10\n",
            "235/235 [==============================] - 1s 3ms/step - loss: 0.1453 - accuracy: 0.9574\n",
            "Epoch 2/10\n",
            "235/235 [==============================] - 1s 3ms/step - loss: 0.1386 - accuracy: 0.9596\n",
            "Epoch 3/10\n",
            "235/235 [==============================] - 1s 3ms/step - loss: 0.1341 - accuracy: 0.9596\n",
            "Epoch 4/10\n",
            "235/235 [==============================] - 1s 3ms/step - loss: 0.1299 - accuracy: 0.9606\n",
            "Epoch 5/10\n",
            "235/235 [==============================] - 1s 3ms/step - loss: 0.1252 - accuracy: 0.9625\n",
            "Epoch 6/10\n",
            "235/235 [==============================] - 1s 3ms/step - loss: 0.1214 - accuracy: 0.9640\n",
            "Epoch 7/10\n",
            "235/235 [==============================] - 1s 3ms/step - loss: 0.1179 - accuracy: 0.9646\n",
            "Epoch 8/10\n",
            "235/235 [==============================] - 1s 3ms/step - loss: 0.1147 - accuracy: 0.9661\n",
            "Epoch 9/10\n",
            "235/235 [==============================] - 1s 3ms/step - loss: 0.1114 - accuracy: 0.9672\n",
            "Epoch 10/10\n",
            "235/235 [==============================] - 1s 3ms/step - loss: 0.1087 - accuracy: 0.9676\n"
          ]
        }
      ]
    },
    {
      "cell_type": "markdown",
      "metadata": {
        "id": "BS-xWtMQa-20"
      },
      "source": [
        "# **Task7**\n",
        "\n",
        "Use a method (from NumPy) to print the correct class from the model prediction."
      ]
    },
    {
      "cell_type": "code",
      "metadata": {
        "colab": {
          "base_uri": "https://localhost:8080/"
        },
        "id": "sSpuG2eIa-qU",
        "outputId": "62136615-f037-4384-8676-aac5124899c9"
      },
      "source": [
        "# Loading and predicting the image using the test data\n",
        "random_index = np.random.randint(100)\n",
        "predict_test= np.argmax(model_5.predict(test_data[[random_index], :]))\n",
        "predict_test = model_5.predict(test_data[[random_index], :])\n",
        "print(\"The prediction for the {} image in the test dataset is: {}\".format(random_index, predict_test))"
      ],
      "execution_count": 32,
      "outputs": [
        {
          "output_type": "stream",
          "name": "stdout",
          "text": [
            "The prediction for the 33 image in the test dataset is: [[0.09842987 0.14772248 0.10909886 0.07140186 0.08643859 0.1026496\n",
            "  0.13491532 0.10592449 0.08241335 0.06100557]]\n"
          ]
        }
      ]
    }
  ]
}