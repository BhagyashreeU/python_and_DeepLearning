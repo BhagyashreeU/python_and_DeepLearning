{
  "nbformat": 4,
  "nbformat_minor": 0,
  "metadata": {
    "colab": {
      "name": "restaurant.ipynb",
      "provenance": [],
      "collapsed_sections": []
    },
    "kernelspec": {
      "name": "python3",
      "display_name": "Python 3"
    },
    "language_info": {
      "name": "python"
    }
  },
  "cells": [
    {
      "cell_type": "markdown",
      "metadata": {
        "id": "3NCheg-W9jNY"
      },
      "source": [
        "#**Import required libraries**"
      ]
    },
    {
      "cell_type": "code",
      "metadata": {
        "id": "Oz8HEX_Wscn2"
      },
      "source": [
        "import pandas as pd\n",
        "import numpy   as np\n",
        "import matplotlib.pyplot as plt\n",
        "from sklearn.model_selection import train_test_split\n",
        "from sklearn import linear_model\n",
        "import sklearn.metrics as metrics\n",
        "\n",
        "plt.style.use(style='ggplot')\n",
        "plt.rcParams['figure.figsize'] = (10, 6)"
      ],
      "execution_count": 49,
      "outputs": []
    },
    {
      "cell_type": "markdown",
      "metadata": {
        "id": "n506Jx-69o0b"
      },
      "source": [
        "#**Function to plot scatterplot**"
      ]
    },
    {
      "cell_type": "code",
      "metadata": {
        "id": "A_TkkTIcv3V6"
      },
      "source": [
        "def scatter_plot(x_axis_data, y_axis_data, x_label, y_label, figure_label):\n",
        "    plt.scatter(x_axis_data, y_axis_data, alpha=.75,\n",
        "                color='b')  # alpha helps to show overlapping data\n",
        "    plt.xlabel(x_label)\n",
        "    plt.ylabel(y_label)\n",
        "    plt.title(figure_label)\n",
        "    plt.show()"
      ],
      "execution_count": 50,
      "outputs": []
    },
    {
      "cell_type": "markdown",
      "metadata": {
        "id": "yAgeWjiD9ugb"
      },
      "source": [
        "# **Read restaurant_data**"
      ]
    },
    {
      "cell_type": "code",
      "metadata": {
        "colab": {
          "base_uri": "https://localhost:8080/"
        },
        "id": "FYod073vvS6o",
        "outputId": "24c364cb-9b33-49b4-d35c-68834a4e027c"
      },
      "source": [
        "restaurant_data = pd.read_csv('/content/rest_data.csv')\n",
        "print(restaurant_data)"
      ],
      "execution_count": 51,
      "outputs": [
        {
          "output_type": "stream",
          "name": "stdout",
          "text": [
            "      Id  City Group Type  P1   P2   P3  ...  P33  P34  P35  P36  P37  revenue\n",
            "0      0  Big Cities   IL   4  5.0  4.0  ...    5    5    4    3    4  5653753\n",
            "1      1  Big Cities   FC   4  5.0  4.0  ...    0    0    0    0    0  6923131\n",
            "2      2       Other   IL   2  4.0  2.0  ...    0    0    0    0    0  2055379\n",
            "3      3       Other   IL   6  4.5  6.0  ...    6   18   12   12    6  2675511\n",
            "4      4       Other   IL   3  4.0  3.0  ...    2    3    4    3    3  4316715\n",
            "..   ...         ...  ...  ..  ...  ...  ...  ...  ...  ...  ...  ...      ...\n",
            "132  132       Other   FC   2  3.0  3.0  ...    0    0    0    0    0  5787594\n",
            "133  133  Big Cities   FC   4  5.0  4.0  ...    0    0    0    0    0  9262754\n",
            "134  134       Other   FC   3  4.0  4.0  ...    0    0    0    0    0  2544857\n",
            "135  135  Big Cities   FC   4  5.0  4.0  ...    0    0    0    0    0  7217634\n",
            "136  136  Big Cities   FC   4  5.0  3.0  ...    0    0    0    0    0  6363241\n",
            "\n",
            "[137 rows x 41 columns]\n"
          ]
        }
      ]
    },
    {
      "cell_type": "markdown",
      "metadata": {
        "id": "c5vJMnh6911p"
      },
      "source": [
        "#**Print data information**"
      ]
    },
    {
      "cell_type": "code",
      "metadata": {
        "colab": {
          "base_uri": "https://localhost:8080/"
        },
        "id": "TsHN6_ENxb1X",
        "outputId": "a3e08eeb-c64a-4054-bbf7-1d3361656223"
      },
      "source": [
        "restaurant_data.info() "
      ],
      "execution_count": 52,
      "outputs": [
        {
          "output_type": "stream",
          "name": "stdout",
          "text": [
            "<class 'pandas.core.frame.DataFrame'>\n",
            "RangeIndex: 137 entries, 0 to 136\n",
            "Data columns (total 41 columns):\n",
            " #   Column      Non-Null Count  Dtype  \n",
            "---  ------      --------------  -----  \n",
            " 0   Id          137 non-null    int64  \n",
            " 1   City Group  137 non-null    object \n",
            " 2   Type        137 non-null    object \n",
            " 3   P1          137 non-null    int64  \n",
            " 4   P2          137 non-null    float64\n",
            " 5   P3          137 non-null    float64\n",
            " 6   P4          137 non-null    float64\n",
            " 7   P5          137 non-null    int64  \n",
            " 8   P6          137 non-null    int64  \n",
            " 9   P7          137 non-null    int64  \n",
            " 10  P8          137 non-null    int64  \n",
            " 11  P9          137 non-null    int64  \n",
            " 12  P10         137 non-null    int64  \n",
            " 13  P11         137 non-null    int64  \n",
            " 14  P12         137 non-null    int64  \n",
            " 15  P13         137 non-null    float64\n",
            " 16  P14         137 non-null    int64  \n",
            " 17  P15         137 non-null    int64  \n",
            " 18  P16         137 non-null    int64  \n",
            " 19  P17         137 non-null    int64  \n",
            " 20  P18         137 non-null    int64  \n",
            " 21  P19         137 non-null    int64  \n",
            " 22  P20         137 non-null    int64  \n",
            " 23  P21         137 non-null    int64  \n",
            " 24  P22         137 non-null    int64  \n",
            " 25  P23         137 non-null    int64  \n",
            " 26  P24         137 non-null    int64  \n",
            " 27  P25         137 non-null    int64  \n",
            " 28  P26         137 non-null    float64\n",
            " 29  P27         137 non-null    float64\n",
            " 30  P28         137 non-null    float64\n",
            " 31  P29         137 non-null    float64\n",
            " 32  P30         137 non-null    int64  \n",
            " 33  P31         137 non-null    int64  \n",
            " 34  P32         137 non-null    int64  \n",
            " 35  P33         137 non-null    int64  \n",
            " 36  P34         137 non-null    int64  \n",
            " 37  P35         137 non-null    int64  \n",
            " 38  P36         137 non-null    int64  \n",
            " 39  P37         137 non-null    int64  \n",
            " 40  revenue     137 non-null    int64  \n",
            "dtypes: float64(8), int64(31), object(2)\n",
            "memory usage: 44.0+ KB\n"
          ]
        }
      ]
    },
    {
      "cell_type": "markdown",
      "metadata": {
        "id": "UVh4kw-s986g"
      },
      "source": [
        "#**Check skeweness of data**"
      ]
    },
    {
      "cell_type": "code",
      "metadata": {
        "colab": {
          "base_uri": "https://localhost:8080/",
          "height": 404
        },
        "id": "FCyHoAo13skq",
        "outputId": "1b8eeb25-3970-4ee3-d845-b6b390af29aa"
      },
      "source": [
        "print (\"Skew is:\", restaurant_data.revenue.skew())\n",
        "plt.hist(restaurant_data[\"revenue\"])\n",
        "plt.show()"
      ],
      "execution_count": 53,
      "outputs": [
        {
          "output_type": "stream",
          "name": "stdout",
          "text": [
            "Skew is: 2.793478695162504\n"
          ]
        },
        {
          "output_type": "display_data",
          "data": {
            "image/png": "[encoded data removed]",
            "text/plain": [
              "<Figure size 720x432 with 1 Axes>"
            ]
          },
          "metadata": {}
        }
      ]
    },
    {
      "cell_type": "markdown",
      "metadata": {
        "id": "pRYsV5xT-AqT"
      },
      "source": [
        "#**Distribute data using np.log**"
      ]
    },
    {
      "cell_type": "code",
      "metadata": {
        "colab": {
          "base_uri": "https://localhost:8080/",
          "height": 391
        },
        "id": "_tHEMO2M36HM",
        "outputId": "adb3d631-45ce-4e6b-cde1-996f7c0cccdb"
      },
      "source": [
        "target = np.log(restaurant_data.revenue)\n",
        "print('skew is', target.skew())\n",
        "plt.hist(target)\n",
        "plt.show()"
      ],
      "execution_count": 54,
      "outputs": [
        {
          "output_type": "stream",
          "name": "stdout",
          "text": [
            "skew is 0.30740162838726504\n"
          ]
        },
        {
          "output_type": "display_data",
          "data": {
            "image/png": "[encoded data removed]",
            "text/plain": [
              "<Figure size 720x432 with 1 Axes>"
            ]
          },
          "metadata": {}
        }
      ]
    },
    {
      "cell_type": "markdown",
      "metadata": {
        "id": "vT8nSsjS-FpI"
      },
      "source": [
        "**Preprocess data by dropping null values and including only numeric values**"
      ]
    },
    {
      "cell_type": "code",
      "metadata": {
        "id": "yTO8ERgn8n8s"
      },
      "source": [
        "filtered_data = restaurant_data.select_dtypes(include=[np.number]).interpolate().dropna()"
      ],
      "execution_count": 55,
      "outputs": []
    },
    {
      "cell_type": "markdown",
      "metadata": {
        "id": "qYAUEcUP-Tdl"
      },
      "source": [
        "# **Build the multiple linear regression model**\n",
        "\n",
        "1. **split data into test and train**\n",
        "\n",
        "2. **fit the model**\n",
        "\n",
        "3. **Predict the test data** \n",
        "\n"
      ]
    },
    {
      "cell_type": "code",
      "metadata": {
        "id": "GJAgD5UH73_c"
      },
      "source": [
        "X = filtered_data.drop(['revenue', 'Id'], axis=1)\n",
        "y = np.log(filtered_data.revenue)\n",
        "\n",
        "# Split the data into test and train\n",
        "X_train, X_test, y_train, y_test = train_test_split(X, y, random_state=42, test_size=0.2)"
      ],
      "execution_count": 56,
      "outputs": []
    },
    {
      "cell_type": "code",
      "metadata": {
        "id": "uLxqYRy08OpZ"
      },
      "source": [
        "# Fit the model\n",
        "lr = linear_model.LinearRegression()\n",
        "model_lr = lr.fit(X_train, y_train)\n",
        "\n",
        "# Predict the test data using model\n",
        "predictions = model_lr.predict(X_test)\n",
        "\n"
      ],
      "execution_count": 57,
      "outputs": []
    },
    {
      "cell_type": "markdown",
      "metadata": {
        "id": "Rp0oijknKAhy"
      },
      "source": [
        "**Evaluate model performance with multiple regression model on all features**"
      ]
    },
    {
      "cell_type": "code",
      "metadata": {
        "colab": {
          "base_uri": "https://localhost:8080/"
        },
        "id": "za2yNXYZvPei",
        "outputId": "9a105dd8-aca6-4db1-b4ba-262ffdc534d1"
      },
      "source": [
        "mae = metrics.mean_absolute_error(y_test, predictions)\n",
        "mse = metrics.mean_squared_error(y_test, predictions)\n",
        "rmse = np.sqrt(mse) \n",
        "r2 = model_lr.score(X_test, y_test)\n",
        "\n",
        "# print results\n",
        "print(\"Results of Model Evaluation: \")\n",
        "print(\"\\nMean Absolute error (MAE):\", mae)\n",
        "print(\"\\nMean squared error regression loss (MSE):\", mse)\n",
        "print(\"\\nRoot Mean squared error (RMSE):\", rmse)\n",
        "print(\"\\nR-squared Score:\", r2)"
      ],
      "execution_count": 58,
      "outputs": [
        {
          "output_type": "stream",
          "name": "stdout",
          "text": [
            "Results of Model Evaluation: \n",
            "\n",
            "Mean Absolute error (MAE): 0.5802193856635445\n",
            "\n",
            "Mean squared error regression loss (MSE): 0.6344522415501069\n",
            "\n",
            "Root Mean squared error (RMSE): 0.796525104155611\n",
            "\n",
            "R-squared Score: -1.1280520942721401\n"
          ]
        }
      ]
    },
    {
      "cell_type": "markdown",
      "metadata": {
        "id": "-Rs4ZlZtKwlb"
      },
      "source": [
        "**Scatter plot for linear regression model including all features**"
      ]
    },
    {
      "cell_type": "code",
      "metadata": {
        "colab": {
          "base_uri": "https://localhost:8080/",
          "height": 408
        },
        "id": "ydrsfq5Zv9Rs",
        "outputId": "8e04ed63-7b34-4019-e4a0-5fbb29c4027b"
      },
      "source": [
        "scatter_plot(predictions, y_test, 'Predicted Price', 'Actual Price','Linear Regression Model_All features')"
      ],
      "execution_count": 59,
      "outputs": [
        {
          "output_type": "display_data",
          "data": {
            "image/png": "[encoded data removed]",
            "text/plain": [
              "<Figure size 720x432 with 1 Axes>"
            ]
          },
          "metadata": {}
        }
      ]
    },
    {
      "cell_type": "markdown",
      "metadata": {
        "id": "Koui4szkK6Fk"
      },
      "source": [
        "# **3.Find top 5 most correlated features to the target label(revenue) and then build a model on top of those 5 features**\n",
        "\n",
        "As we can see from the output we got 5 most positive correlation between P2, p28, p6, p21 and p11 columns to target label."
      ]
    },
    {
      "cell_type": "code",
      "metadata": {
        "colab": {
          "base_uri": "https://localhost:8080/"
        },
        "id": "92d4-Zsz4Tpr",
        "outputId": "66ccae67-93cf-4e3a-c73f-5f67d18b408d"
      },
      "source": [
        "numeric_features = restaurant_data.select_dtypes(include=[np.number])\n",
        "corr = numeric_features.corr()\n",
        "print(\"Positive Correlation:\")\n",
        "print(corr['revenue'].sort_values(ascending=False)[:6], '\\n')"
      ],
      "execution_count": 60,
      "outputs": [
        {
          "output_type": "stream",
          "name": "stdout",
          "text": [
            "Positive Correlation:\n",
            "revenue    1.000000\n",
            "P2         0.191518\n",
            "P28        0.155534\n",
            "P6         0.139094\n",
            "P21        0.097411\n",
            "P11        0.084247\n",
            "Name: revenue, dtype: float64 \n",
            "\n"
          ]
        }
      ]
    },
    {
      "cell_type": "code",
      "metadata": {
        "id": "E0bPQWPVzYJa"
      },
      "source": [
        "# Build the model\n",
        "X = filtered_data[['P2', 'P28', 'P6', 'P21', 'P11']]\n",
        "y = np.log(filtered_data.revenue)\n",
        "\n",
        "# Split the data into test and train\n",
        "X_train, X_test, y_train, y_test = train_test_split(X, y, random_state=42, test_size=0.2)"
      ],
      "execution_count": 61,
      "outputs": []
    },
    {
      "cell_type": "code",
      "metadata": {
        "id": "DBnaP_DvzYG8"
      },
      "source": [
        "# Fit the model\n",
        "lr = linear_model.LinearRegression()\n",
        "model_2 = lr.fit(X_train, y_train)\n",
        "\n",
        "# Predict the test data using model\n",
        "predictions = model_2.predict(X_test)"
      ],
      "execution_count": 62,
      "outputs": []
    },
    {
      "cell_type": "code",
      "metadata": {
        "colab": {
          "base_uri": "https://localhost:8080/"
        },
        "id": "kJPPojh5snrg",
        "outputId": "e54d7ad7-4c61-4972-ea8e-ad538ae0c287"
      },
      "source": [
        "#Model evaluation on 5 most correlated features\n",
        "\n",
        "# Caluculate MAE, MSE, RMSE and R2 score\n",
        "mae = metrics.mean_absolute_error(y_test, predictions)\n",
        "mse = metrics.mean_squared_error(y_test, predictions)\n",
        "rmse = np.sqrt(mse) \n",
        "r2 = model_2.score(X_test, y_test)\n",
        "\n",
        "# print results\n",
        "print(\"Results of Model Evaluation: \")\n",
        "print(\"\\nMean Absolute error (MAE):\", mae)\n",
        "print(\"\\nMean squared error regression loss (MSE):\", mse)\n",
        "print(\"\\nRoot Mean squared error (RMSE):\", rmse)\n",
        "print(\"\\nR-squared Score:\", r2)"
      ],
      "execution_count": 63,
      "outputs": [
        {
          "output_type": "stream",
          "name": "stdout",
          "text": [
            "Results of Model Evaluation: \n",
            "\n",
            "Mean Absolute error (MAE): 0.4194617239443305\n",
            "\n",
            "Mean squared error regression loss (MSE): 0.2995321167823231\n",
            "\n",
            "Root Mean squared error (RMSE): 0.5472952738534502\n",
            "\n",
            "R-squared Score: -0.004677589069639554\n"
          ]
        }
      ]
    },
    {
      "cell_type": "markdown",
      "metadata": {
        "id": "gZz3RXOwOH_I"
      },
      "source": [
        "**Scatter plot for linear regression model including 5 most correlated columns with target label**"
      ]
    },
    {
      "cell_type": "code",
      "metadata": {
        "colab": {
          "base_uri": "https://localhost:8080/",
          "height": 408
        },
        "id": "GWbxkyZjwc6u",
        "outputId": "9ecb0f92-1bf5-4c82-f0b5-136bacb3dbcb"
      },
      "source": [
        "scatter_plot(predictions, y_test, 'Predicted Price', 'Actual Price',\n",
        "             'Linear Regression Model_best correlated features')"
      ],
      "execution_count": 64,
      "outputs": [
        {
          "output_type": "display_data",
          "data": {
            "image/png": "[encoded data removed]",
            "text/plain": [
              "<Figure size 720x432 with 1 Axes>"
            ]
          },
          "metadata": {}
        }
      ]
    },
    {
      "cell_type": "markdown",
      "metadata": {
        "id": "as4ZDWq5RWNS"
      },
      "source": [
        "# Comparision: We got better evaluation results than the previous model which includes all the features. Because we only considered most of the correlated variables instead of considering all characteristics."
      ]
    }
  ]
}