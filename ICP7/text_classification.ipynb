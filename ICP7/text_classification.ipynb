{
  "nbformat": 4,
  "nbformat_minor": 0,
  "metadata": {
    "colab": {
      "name": "text_classification.ipynb",
      "provenance": []
    },
    "kernelspec": {
      "name": "python3",
      "display_name": "Python 3"
    },
    "language_info": {
      "name": "python"
    },
    "accelerator": "GPU"
  },
  "cells": [
    {
      "cell_type": "markdown",
      "metadata": {
        "id": "168-9viTQ80r"
      },
      "source": [
        "# **Import Required libraries**"
      ]
    },
    {
      "cell_type": "code",
      "metadata": {
        "id": "R8h1Wr20XFCL"
      },
      "source": [
        "from sklearn.datasets import fetch_20newsgroups\n",
        "\n",
        "from sklearn.feature_extraction.text import CountVectorizer, TfidfVectorizer\n",
        "from sklearn.feature_extraction.text import TfidfTransformer\n",
        "from sklearn import metrics\n",
        "from sklearn.pipeline import Pipeline\n",
        "from sklearn.naive_bayes import MultinomialNB"
      ],
      "execution_count": 1,
      "outputs": []
    },
    {
      "cell_type": "code",
      "metadata": {
        "colab": {
          "base_uri": "https://localhost:8080/"
        },
        "id": "ePSc_CVQZwWI",
        "outputId": "391346f0-b3d9-4498-aaf3-c33c51ce04bd"
      },
      "source": [
        "twenty_train = fetch_20newsgroups(subset='train', shuffle=True)"
      ],
      "execution_count": 2,
      "outputs": [
        {
          "output_type": "stream",
          "name": "stderr",
          "text": [
            "Downloading 20news dataset. This may take a few minutes.\n",
            "Downloading dataset from https://ndownloader.figshare.com/files/5975967 (14 MB)\n"
          ]
        }
      ]
    },
    {
      "cell_type": "code",
      "metadata": {
        "colab": {
          "base_uri": "https://localhost:8080/"
        },
        "id": "TxepcZXobAss",
        "outputId": "63d130dd-5acf-433f-8262-0b23c8cf78b6"
      },
      "source": [
        "tfidf_Vect = TfidfVectorizer()\n",
        "X_train_tfidf = tfidf_Vect.fit_transform(twenty_train.data)\n",
        "\n",
        "# Create a MultinomialNB Classifier\n",
        "clf = MultinomialNB()\n",
        "clf.fit(X_train_tfidf, twenty_train.target)\n",
        "\n",
        "twenty_test = fetch_20newsgroups(subset='test', shuffle=True)\n",
        "X_test_tfidf = tfidf_Vect.transform(twenty_test.data)\n",
        "\n",
        "predicted = clf.predict(X_test_tfidf)\n",
        "score = metrics.accuracy_score(twenty_test.target, predicted)\n",
        "print(\"Accuracy of multinomial naive bayes model is\",score)"
      ],
      "execution_count": 23,
      "outputs": [
        {
          "output_type": "stream",
          "name": "stdout",
          "text": [
            "Accuracy of multinomial naive bayes model is 0.7738980350504514\n"
          ]
        }
      ]
    },
    {
      "cell_type": "markdown",
      "metadata": {
        "id": "avN0u2DAepB4"
      },
      "source": [
        "# **1. Apply SVM and check Accuracy**\n",
        "\n",
        "1. Import required svm model\n",
        "2. Create a svm Classifier\n",
        "3. Fit the model\n",
        "4. Predict the test data\n",
        "5. Check accuracy using accuracy_score()"
      ]
    },
    {
      "cell_type": "code",
      "metadata": {
        "colab": {
          "base_uri": "https://localhost:8080/"
        },
        "id": "xTiwWRUIbAgt",
        "outputId": "33c2b65a-93d2-45ba-de05-cb30a422e224"
      },
      "source": [
        "# Import svm model\n",
        "from sklearn.svm import LinearSVC\n",
        "\n",
        "\n",
        "# Create a svm Classifier\n",
        "clf_svm = LinearSVC()\n",
        "\n",
        "# Fit the model\n",
        "clf_svm.fit(X_train_tfidf, twenty_train.target)\n",
        "\n",
        "# Predict the test data\n",
        "y_pred_svm = clf_svm.predict(X_test_tfidf)\n",
        "\n",
        "# Model Accuracy\n",
        "score_svm = metrics.accuracy_score(twenty_test.target, y_pred_svm)\n",
        "print(\"SVM Accuracy: \", score_svm)"
      ],
      "execution_count": 8,
      "outputs": [
        {
          "output_type": "stream",
          "name": "stdout",
          "text": [
            "SVM Accuracy:  0.8531598513011153\n"
          ]
        }
      ]
    },
    {
      "cell_type": "markdown",
      "metadata": {
        "id": "r2uA9A5CfK1w"
      },
      "source": [
        "# **2. Classification_report for SVM**"
      ]
    },
    {
      "cell_type": "code",
      "metadata": {
        "colab": {
          "base_uri": "https://localhost:8080/"
        },
        "id": "cKTLSV7bbAcl",
        "outputId": "171e20e2-c1b0-4b07-b0cf-ab01564f409c"
      },
      "source": [
        "from sklearn.metrics import classification_report\n",
        "\n",
        "print(classification_report(twenty_test.target, y_pred_svm))"
      ],
      "execution_count": 9,
      "outputs": [
        {
          "output_type": "stream",
          "name": "stdout",
          "text": [
            "              precision    recall  f1-score   support\n",
            "\n",
            "           0       0.82      0.80      0.81       319\n",
            "           1       0.76      0.80      0.78       389\n",
            "           2       0.77      0.73      0.75       394\n",
            "           3       0.71      0.76      0.74       392\n",
            "           4       0.84      0.86      0.85       385\n",
            "           5       0.87      0.76      0.81       395\n",
            "           6       0.83      0.91      0.87       390\n",
            "           7       0.92      0.91      0.91       396\n",
            "           8       0.95      0.95      0.95       398\n",
            "           9       0.92      0.95      0.93       397\n",
            "          10       0.96      0.98      0.97       399\n",
            "          11       0.93      0.94      0.93       396\n",
            "          12       0.81      0.79      0.80       393\n",
            "          13       0.90      0.87      0.88       396\n",
            "          14       0.90      0.93      0.92       394\n",
            "          15       0.84      0.93      0.88       398\n",
            "          16       0.75      0.92      0.82       364\n",
            "          17       0.97      0.89      0.93       376\n",
            "          18       0.82      0.62      0.71       310\n",
            "          19       0.75      0.61      0.68       251\n",
            "\n",
            "    accuracy                           0.85      7532\n",
            "   macro avg       0.85      0.85      0.85      7532\n",
            "weighted avg       0.85      0.85      0.85      7532\n",
            "\n"
          ]
        }
      ]
    },
    {
      "cell_type": "markdown",
      "metadata": {
        "id": "fzaJZJnDfi8I"
      },
      "source": [
        "# **3.Apply KNeighborsClassifier and check accuracy**"
      ]
    },
    {
      "cell_type": "code",
      "metadata": {
        "colab": {
          "base_uri": "https://localhost:8080/"
        },
        "id": "_I2T_YIJbAY-",
        "outputId": "c58389c5-6f9f-4ba2-d9d8-9b69f8fac24a"
      },
      "source": [
        "# Import KNeighborsClassifier model\n",
        "from sklearn.neighbors import KNeighborsClassifier\n",
        "\n",
        "# Create a KNeighborsClassifier\n",
        "clf_knn = KNeighborsClassifier(n_neighbors=3)\n",
        "\n",
        "# Train the model using the training sets\n",
        "clf_knn.fit(X_train_tfidf, twenty_train.target)\n",
        "\n",
        "# Predict the response for test dataset\n",
        "y_pred_knn = clf_knn.predict(X_test_tfidf)\n",
        "\n",
        "# Model Accuracy\n",
        "score_knn = metrics.accuracy_score(twenty_test.target, y_pred_knn)\n",
        "print(\"KNeighborsClassifier Accuracy: \", score_knn)"
      ],
      "execution_count": 10,
      "outputs": [
        {
          "output_type": "stream",
          "name": "stdout",
          "text": [
            "KNeighborsClassifier Accuracy:  0.6578597981943707\n"
          ]
        }
      ]
    },
    {
      "cell_type": "markdown",
      "metadata": {
        "id": "fgJeY6OngO1S"
      },
      "source": [
        "# **4. classification_report for KNeighborsClassifier**"
      ]
    },
    {
      "cell_type": "code",
      "metadata": {
        "colab": {
          "base_uri": "https://localhost:8080/"
        },
        "id": "xiTF9O5QgUfa",
        "outputId": "37d846a8-4d9a-4f42-9ee1-fe0476820be3"
      },
      "source": [
        "print(classification_report(twenty_test.target, y_pred_knn))"
      ],
      "execution_count": 11,
      "outputs": [
        {
          "output_type": "stream",
          "name": "stdout",
          "text": [
            "              precision    recall  f1-score   support\n",
            "\n",
            "           0       0.43      0.75      0.54       319\n",
            "           1       0.45      0.65      0.53       389\n",
            "           2       0.52      0.56      0.54       394\n",
            "           3       0.52      0.62      0.57       392\n",
            "           4       0.55      0.58      0.56       385\n",
            "           5       0.69      0.59      0.64       395\n",
            "           6       0.59      0.48      0.53       390\n",
            "           7       0.75      0.68      0.71       396\n",
            "           8       0.83      0.80      0.82       398\n",
            "           9       0.77      0.75      0.76       397\n",
            "          10       0.88      0.82      0.85       399\n",
            "          11       0.74      0.83      0.78       396\n",
            "          12       0.72      0.47      0.57       393\n",
            "          13       0.78      0.51      0.62       396\n",
            "          14       0.81      0.77      0.79       394\n",
            "          15       0.80      0.72      0.76       398\n",
            "          16       0.72      0.72      0.72       364\n",
            "          17       0.70      0.72      0.71       376\n",
            "          18       0.60      0.56      0.58       310\n",
            "          19       0.62      0.51      0.56       251\n",
            "\n",
            "    accuracy                           0.66      7532\n",
            "   macro avg       0.67      0.65      0.66      7532\n",
            "weighted avg       0.68      0.66      0.66      7532\n",
            "\n"
          ]
        }
      ]
    },
    {
      "cell_type": "markdown",
      "metadata": {
        "id": "lIrrrHlWjpWt"
      },
      "source": [
        "# **5.Set the tfidf vectorizer parameter to use bigram and check accuracy**"
      ]
    },
    {
      "cell_type": "code",
      "metadata": {
        "colab": {
          "base_uri": "https://localhost:8080/"
        },
        "id": "0U8taqstgwuM",
        "outputId": "dec63a94-6108-4694-a1d3-f1d051edcdae"
      },
      "source": [
        "# Setting the vectorizer parameter to use bigram \n",
        "tfidf_Vect = TfidfVectorizer(ngram_range=(1, 2))\n",
        "\n",
        "X_train_tfidf = tfidf_Vect.fit_transform(twenty_train.data)\n",
        "\n",
        "# Create a svm Classifier\n",
        "clf_svm = LinearSVC()\n",
        "\n",
        "# Train the model using the training sets\n",
        "clf_svm.fit(X_train_tfidf, twenty_train.target)\n",
        "\n",
        "X_test_tfidf = tfidf_Vect.transform(twenty_test.data)\n",
        "\n",
        "# Predict the response for test dataset\n",
        "y_pred_svm_bigram = clf_svm.predict(X_test_tfidf)\n",
        "\n",
        "# Model Accuracy\n",
        "score_svm_bigram = metrics.accuracy_score(twenty_test.target, y_pred_svm_bigram)\n",
        "print(\"SVM Accuracy after using bigram: \", score_svm_bigram)"
      ],
      "execution_count": 17,
      "outputs": [
        {
          "output_type": "stream",
          "name": "stdout",
          "text": [
            "SVM Accuracy after using bigram:  0.8574083908656399\n"
          ]
        }
      ]
    },
    {
      "cell_type": "markdown",
      "metadata": {
        "id": "XdqC4k9kkEG9"
      },
      "source": [
        "# **6. Set tfidf vectorizer argument to use stop_words='english' and check accuracy**"
      ]
    },
    {
      "cell_type": "code",
      "metadata": {
        "colab": {
          "base_uri": "https://localhost:8080/"
        },
        "id": "cysliZfqgwr-",
        "outputId": "95e134f0-f559-46b3-d732-7c98151dd95f"
      },
      "source": [
        "tfidf_Vect = TfidfVectorizer(stop_words='english')\n",
        "\n",
        "X_train_tfidf = tfidf_Vect.fit_transform(twenty_train.data)\n",
        "\n",
        "# Create a svm Classifier\n",
        "clf_svm = LinearSVC()\n",
        "\n",
        "# Fit the model using train data\n",
        "clf_svm.fit(X_train_tfidf, twenty_train.target)\n",
        "\n",
        "\n",
        "X_test_tfidf = tfidf_Vect.transform(twenty_test.data)\n",
        "\n",
        "# Predict the test data\n",
        "y_pred_svm_stopwords = clf_svm.predict(X_test_tfidf)\n",
        "\n",
        "# Model Accuracy\n",
        "score_svm_stopwords = metrics.accuracy_score(twenty_test.target, y_pred_svm_stopwords)\n",
        "print(\"SVM Accuracy with tfidf vectorizer argument as stopwards: \", score_svm_stopwords)"
      ],
      "execution_count": 20,
      "outputs": [
        {
          "output_type": "stream",
          "name": "stdout",
          "text": [
            "SVM Accuracy with tfidf vectorizer argument as stopwards:  0.851035581518853\n"
          ]
        }
      ]
    },
    {
      "cell_type": "markdown",
      "metadata": {
        "id": "f4H9YszdQBgo"
      },
      "source": [
        "## Accuracy Observation:\n",
        "\n",
        "1. I have tested accuracy on SVM model initially got accuracy of 85.31%\n",
        "2. After setting tfidf parameter to bigram tested accuracy of SVM model again and got accuracy as 85.74%. Accuracy increased slightly.\n",
        "3. Third time did setting in tfidf parameters by passing stopword = 'english'\n",
        "and tested SVM model and got accuracy of 85.10%. Accuracy decreased slightly. "
      ]
    },
    {
      "cell_type": "code",
      "metadata": {
        "colab": {
          "base_uri": "https://localhost:8080/"
        },
        "id": "4jaa_ILAOuqd",
        "outputId": "066c3846-9969-473b-de38-1e8a1b74be88"
      },
      "source": [
        "print(\"SVM Accuracy: \", score_svm)\n",
        "print(\"SVM Accuracy with tfidf vectorizer parameter of bigram: \", score_svm_bigram)\n",
        "print(\"SVM Accuracy with tfidf vectorizer argument as stopwards: \", score_svm_stopwords)"
      ],
      "execution_count": 21,
      "outputs": [
        {
          "output_type": "stream",
          "name": "stdout",
          "text": [
            "SVM Accuracy:  0.8531598513011153\n",
            "SVM Accuracy with tfidf vectorizer parameter of bigram:  0.8574083908656399\n",
            "SVM Accuracy with tfidf vectorizer argument as stopwards:  0.851035581518853\n"
          ]
        }
      ]
    },
    {
      "cell_type": "markdown",
      "metadata": {
        "id": "34QQxnEaPzs7"
      },
      "source": [
        "# 7. Accuracy plot for all model"
      ]
    },
    {
      "cell_type": "code",
      "metadata": {
        "colab": {
          "base_uri": "https://localhost:8080/",
          "height": 337
        },
        "id": "dySh3M-Bgwpk",
        "outputId": "f47ff89f-9826-4e20-ec16-0bed4df33b9c"
      },
      "source": [
        "import matplotlib.pyplot as plt\n",
        "fig = plt.figure()\n",
        "ax = fig.add_axes([0,0,1,1])\n",
        "langs = ['KNN', 'MNB', 'SVM', 'SVM_Bigram', 'SVM_stopword']\n",
        "students = [65.78,77.38,85.31,85.74,85.10]\n",
        "ax.bar(langs,students)\n",
        "plt.show()"
      ],
      "execution_count": 22,
      "outputs": [
        {
          "output_type": "display_data",
          "data": {
            "image/png": "[encoded data removed]",
            "text/plain": [
              "<Figure size 432x288 with 1 Axes>"
            ]
          },
          "metadata": {
            "needs_background": "light"
          }
        }
      ]
    }
  ]
}