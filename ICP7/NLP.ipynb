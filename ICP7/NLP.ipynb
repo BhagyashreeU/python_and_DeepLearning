{
  "nbformat": 4,
  "nbformat_minor": 0,
  "metadata": {
    "colab": {
      "name": "NLP.ipynb",
      "provenance": []
    },
    "kernelspec": {
      "name": "python3",
      "display_name": "Python 3"
    },
    "language_info": {
      "name": "python"
    }
  },
  "cells": [
    {
      "cell_type": "markdown",
      "metadata": {
        "id": "N-AymcYKZT3W"
      },
      "source": [
        "# **Import required libraries**"
      ]
    },
    {
      "cell_type": "code",
      "metadata": {
        "id": "hVqLJnFeU8Ik",
        "colab": {
          "base_uri": "https://localhost:8080/"
        },
        "outputId": "15f50b58-daf3-4ecb-e79b-27fc35f40907"
      },
      "source": [
        "# import libraries\n",
        "from bs4 import BeautifulSoup\n",
        "import requests\n",
        "import nltk\n",
        "nltk.download('popular')"
      ],
      "execution_count": 13,
      "outputs": [
        {
          "output_type": "stream",
          "name": "stdout",
          "text": [
            "[nltk_data] Downloading collection 'popular'\n",
            "[nltk_data]    | \n",
            "[nltk_data]    | Downloading package cmudict to /root/nltk_data...\n",
            "[nltk_data]    |   Package cmudict is already up-to-date!\n",
            "[nltk_data]    | Downloading package gazetteers to /root/nltk_data...\n",
            "[nltk_data]    |   Package gazetteers is already up-to-date!\n",
            "[nltk_data]    | Downloading package genesis to /root/nltk_data...\n",
            "[nltk_data]    |   Package genesis is already up-to-date!\n",
            "[nltk_data]    | Downloading package gutenberg to /root/nltk_data...\n",
            "[nltk_data]    |   Package gutenberg is already up-to-date!\n",
            "[nltk_data]    | Downloading package inaugural to /root/nltk_data...\n",
            "[nltk_data]    |   Package inaugural is already up-to-date!\n",
            "[nltk_data]    | Downloading package movie_reviews to\n",
            "[nltk_data]    |     /root/nltk_data...\n",
            "[nltk_data]    |   Package movie_reviews is already up-to-date!\n",
            "[nltk_data]    | Downloading package names to /root/nltk_data...\n",
            "[nltk_data]    |   Package names is already up-to-date!\n",
            "[nltk_data]    | Downloading package shakespeare to /root/nltk_data...\n",
            "[nltk_data]    |   Package shakespeare is already up-to-date!\n",
            "[nltk_data]    | Downloading package stopwords to /root/nltk_data...\n",
            "[nltk_data]    |   Package stopwords is already up-to-date!\n",
            "[nltk_data]    | Downloading package treebank to /root/nltk_data...\n",
            "[nltk_data]    |   Package treebank is already up-to-date!\n",
            "[nltk_data]    | Downloading package twitter_samples to\n",
            "[nltk_data]    |     /root/nltk_data...\n",
            "[nltk_data]    |   Package twitter_samples is already up-to-date!\n",
            "[nltk_data]    | Downloading package omw to /root/nltk_data...\n",
            "[nltk_data]    |   Package omw is already up-to-date!\n",
            "[nltk_data]    | Downloading package wordnet to /root/nltk_data...\n",
            "[nltk_data]    |   Package wordnet is already up-to-date!\n",
            "[nltk_data]    | Downloading package wordnet_ic to /root/nltk_data...\n",
            "[nltk_data]    |   Package wordnet_ic is already up-to-date!\n",
            "[nltk_data]    | Downloading package words to /root/nltk_data...\n",
            "[nltk_data]    |   Package words is already up-to-date!\n",
            "[nltk_data]    | Downloading package maxent_ne_chunker to\n",
            "[nltk_data]    |     /root/nltk_data...\n",
            "[nltk_data]    |   Package maxent_ne_chunker is already up-to-date!\n",
            "[nltk_data]    | Downloading package punkt to /root/nltk_data...\n",
            "[nltk_data]    |   Package punkt is already up-to-date!\n",
            "[nltk_data]    | Downloading package snowball_data to\n",
            "[nltk_data]    |     /root/nltk_data...\n",
            "[nltk_data]    |   Package snowball_data is already up-to-date!\n",
            "[nltk_data]    | Downloading package averaged_perceptron_tagger to\n",
            "[nltk_data]    |     /root/nltk_data...\n",
            "[nltk_data]    |   Package averaged_perceptron_tagger is already up-\n",
            "[nltk_data]    |       to-date!\n",
            "[nltk_data]    | \n",
            "[nltk_data]  Done downloading collection popular\n"
          ]
        },
        {
          "output_type": "execute_result",
          "data": {
            "text/plain": [
              "True"
            ]
          },
          "metadata": {},
          "execution_count": 13
        }
      ]
    },
    {
      "cell_type": "markdown",
      "metadata": {
        "id": "TMP_A0MXZgmu"
      },
      "source": [
        "**1. Extract information from the web https://en.wikipedia.org/wiki/Natural_language_processing using BeautifulSoup library:**\n",
        "\n",
        "**2. Save the result in input.txt file\"**"
      ]
    },
    {
      "cell_type": "code",
      "metadata": {
        "id": "diFerVWfRyFG"
      },
      "source": [
        "\n",
        "# create objects for the BeautifulSoup library\n",
        "url = \"https://en.wikipedia.org/wiki/Natural_language_processing\"\n",
        "webpage = requests.get(url)\n",
        "webpage_content = BeautifulSoup(webpage.content, \"html.parser\")\n",
        "webpage_content = webpage_content.findAll('p')\n",
        "\n",
        "# Save the result in input.txt file\n",
        "in_file = open(\"input.txt\", \"w\")\n",
        "in_file.writelines([str(item.text) for item in webpage_content])\n",
        "in_file.close()"
      ],
      "execution_count": 14,
      "outputs": []
    },
    {
      "cell_type": "markdown",
      "metadata": {
        "id": "DAveIzvVaBsl"
      },
      "source": [
        "# **1. Tokenization**\n",
        "\n",
        "1. open input.txt file\n",
        "2. read file \n",
        "3. Perform **sentence tokenization**: Sentence tokenization is the process of splitting text into individual sentences.\n"
      ]
    },
    {
      "cell_type": "code",
      "metadata": {
        "colab": {
          "base_uri": "https://localhost:8080/"
        },
        "id": "IqoH2HMrUNt8",
        "outputId": "c45e0903-0276-41c1-9b21-545f0a7f36d7"
      },
      "source": [
        "from nltk.tokenize import sent_tokenize\n",
        "in_file = open('input.txt')\n",
        "sentences = in_file.read()\n",
        "\n",
        "# Printing all the sentences\n",
        "s_tokens = sent_tokenize(sentences)\n",
        "for i in s_tokens:\n",
        "    print(i)\n",
        "\n",
        "in_file.close()"
      ],
      "execution_count": 17,
      "outputs": [
        {
          "output_type": "stream",
          "name": "stdout",
          "text": [
            "Natural language processing (NLP) is a subfield of linguistics, computer science, and artificial intelligence concerned with the interactions between computers and human language, in particular how to program computers to process and analyze large amounts of natural language data.\n",
            "The goal is a computer capable of \"understanding\" the contents of documents, including the contextual nuances of the language within them.\n",
            "The technology can then accurately extract information and insights contained in the documents as well as categorize and organize the documents themselves.\n",
            "Challenges in natural language processing frequently involve speech recognition, natural language understanding, and natural language generation.\n",
            "Natural language processing has its roots in the 1950s.\n",
            "Already in 1950, Alan Turing published an article titled \"Computing Machinery and Intelligence\" which proposed what is now called the Turing test as a criterion of intelligence, a task that involves the automated interpretation and generation of natural language, but at the time not articulated as a problem separate from artificial intelligence.\n",
            "The premise of symbolic NLP is well-summarized by John Searle's Chinese room experiment: Given a collection of rules (e.g., a Chinese phrasebook, with questions and matching answers), the computer emulates natural language understanding (or other NLP tasks) by applying those rules to the data it is confronted with.\n",
            "Up to the 1980s, most natural language processing systems were based on complex sets of hand-written rules.\n",
            "Starting in the late 1980s, however, there was a revolution in natural language processing with the introduction of machine learning algorithms for language processing.\n",
            "This was due to both the steady increase in computational power (see Moore's law) and the gradual lessening of the dominance of Chomskyan theories of linguistics (e.g.\n",
            "transformational grammar), whose theoretical underpinnings discouraged the sort of corpus linguistics that underlies the machine-learning approach to language processing.\n",
            "[6]\n",
            "In the 2010s, representation learning and deep neural network-style machine learning methods became widespread in natural language processing, due in part to a flurry of results showing that such techniques[7][8] can achieve state-of-the-art results in many natural language tasks, for example in language modeling,[9] parsing,[10][11] and many others.\n",
            "This is increasingly important in medicine and healthcare, where NLP is being used to analyze notes and text in electronic health records that would otherwise be inaccessible for study when seeking to improve care.\n",
            "[12]\n",
            "In the early days, many language-processing systems were designed by symbolic methods, i.e., the hand-coding of a set of rules, coupled with a dictionary lookup:[13][14] such as by writing grammars or devising heuristic rules for stemming.\n",
            "More recent systems based on machine-learning algorithms have many advantages over hand-produced rules: \n",
            "Despite the popularity of machine learning in NLP research, symbolic methods are still (2020) commonly used:\n",
            "Since the so-called \"statistical revolution\"[15][16] in the late 1980s and mid-1990s, much natural language processing research has relied heavily on machine learning.\n",
            "The machine-learning paradigm calls instead for using statistical inference to automatically learn such rules through the analysis of large corpora (the plural form of corpus, is a set of documents, possibly with human or computer annotations) of typical real-world examples.\n",
            "Many different classes of machine-learning algorithms have been applied to natural-language-processing tasks.\n",
            "These algorithms take as input a large set of \"features\" that are generated from the input data.\n",
            "Increasingly, however, research has focused on statistical models, which make soft, probabilistic decisions based on attaching real-valued weights to each input feature (complex-valued embeddings,[17] and neural networks in general have also been proposed, for e.g.\n",
            "speech[18]).\n",
            "Such models have the advantage that they can express the relative certainty of many different possible answers rather than only one, producing more reliable results when such a model is included as a component of a larger system.\n",
            "Some of the earliest-used machine learning algorithms, such as decision trees, produced systems of hard if-then rules similar to existing hand-written rules.\n",
            "However, part-of-speech tagging introduced the use of hidden Markov models to natural language processing, and increasingly, research has focused on statistical models, which make soft, probabilistic decisions based on attaching real-valued weights to the features making up the input data.\n",
            "The cache language models upon which many speech recognition systems now rely are examples of such statistical models.\n",
            "Such models are generally more robust when given unfamiliar input, especially input that contains errors (as is very common for real-world data), and produce more reliable results when integrated into a larger system comprising multiple subtasks.\n",
            "Since the neural turn, statistical methods in NLP research have been largely replaced by neural networks.\n",
            "However, they continue to be relevant for contexts in which statistical interpretability and transparency is required.\n",
            "A major drawback of statistical methods is that they require elaborate feature engineering.\n",
            "Since 2015,[19] the field has thus largely abandoned statistical methods and shifted to neural networks for machine learning.\n",
            "Popular techniques include the use of word embeddings to capture semantic properties of words, and an increase in end-to-end learning of a higher-level task (e.g., question answering) instead of relying on a pipeline of separate intermediate tasks (e.g., part-of-speech tagging and dependency parsing).\n",
            "In some areas, this shift has entailed substantial changes in how NLP systems are designed, such that deep neural network-based approaches may be viewed as a new paradigm distinct from statistical natural language processing.\n",
            "For instance, the term neural machine translation (NMT) emphasizes the fact that deep learning-based approaches to machine translation directly learn sequence-to-sequence transformations, obviating the need for intermediate steps such as word alignment and language modeling that was used in statistical machine translation (SMT).\n",
            "Latest works tend to use non-technical structure of a given task to build proper neural network.\n",
            "[20]\n",
            "The following is a list of some of the most commonly researched tasks in natural language processing.\n",
            "Some of these tasks have direct real-world applications, while others more commonly serve as subtasks that are used to aid in solving larger tasks.\n",
            "Though natural language processing tasks are closely intertwined, they can be subdivided into categories for convenience.\n",
            "A coarse division is given below.\n",
            "Based on long-standing trends in the field, it is possible to extrapolate future directions of NLP.\n",
            "As of 2020, three trends among the topics of the long-standing series of CoNLL Shared Tasks can be observed:[36]\n",
            "Most higher-level NLP applications involve aspects that emulate intelligent behaviour and apparent comprehension of natural language.\n",
            "More broadly speaking, the technical operationalization of increasingly advanced aspects of cognitive behaviour represents one of the developmental trajectories of NLP (see trends among CoNLL shared tasks above).\n",
            "Cognition refers to \"the mental action or process of acquiring knowledge and understanding through thought, experience, and the senses.\n",
            "\"[37] Cognitive science is the interdisciplinary, scientific study of the mind and its processes.\n",
            "[38] Cognitive linguistics is an interdisciplinary branch of linguistics, combining knowledge and research from both psychology and linguistics.\n",
            "[39] Especially during the age of symbolic NLP, the area of computational linguistics maintained strong ties with cognitive studies.\n",
            "As an example, George Lakoff offers a methodology to build natural language processing (NLP) algorithms through the perspective of cognitive science, along with the findings of cognitive linguistics,[40] with two defining aspects:\n",
            "Ties with cognitive linguistics are part of the historical heritage of NLP, but they have been less frequently addressed since the statistical turn during the 1990s.\n",
            "Nevertheless, approaches to develop cognitive models towards technically operationalizable frameworks have been pursued in the context of various frameworks, e.g., of cognitive grammar,[42] functional grammar,[43] construction grammar,[44] computational psycholinguistics and cognitive neuroscience (e.g., ACT-R), however, with limited uptake in mainstream NLP (as measured by presence on major conferences[45] of the ACL).\n",
            "More recently, ideas of cognitive NLP have been revived as an approach to achieve explainability, e.g., under the notion of \"cognitive AI\".\n",
            "[46] Likewise, ideas of cognitive NLP are inherent to neural models multimodal NLP (although rarely made explicit).\n",
            "[47]\n",
            " Media related to Natural language processing at Wikimedia Commons\n"
          ]
        }
      ]
    },
    {
      "cell_type": "markdown",
      "metadata": {
        "id": "FAKVvhPNanMA"
      },
      "source": [
        " **2. Word Tokenization**: Word tokenization is the process of splitting a large sample of text into words"
      ]
    },
    {
      "cell_type": "code",
      "metadata": {
        "colab": {
          "base_uri": "https://localhost:8080/"
        },
        "id": "eQdKzhMAUhvS",
        "outputId": "87c5c26f-d1d5-41df-f40b-ef47dd082d02"
      },
      "source": [
        "#import word_tokenize from nltk\n",
        "from nltk.tokenize import word_tokenize\n",
        "#open input file \n",
        "in_file = open('input.txt')\n",
        "\n",
        "# read each line to convert text to word\n",
        "sentences = in_file.readlines()\n",
        "\n",
        "# take only third sentence and convert to words\n",
        "sentence = sentences[3]\n",
        "tokens = word_tokenize(sentence)\n",
        "tokens"
      ],
      "execution_count": 19,
      "outputs": [
        {
          "output_type": "execute_result",
          "data": {
            "text/plain": [
              "['The',\n",
              " 'premise',\n",
              " 'of',\n",
              " 'symbolic',\n",
              " 'NLP',\n",
              " 'is',\n",
              " 'well-summarized',\n",
              " 'by',\n",
              " 'John',\n",
              " 'Searle',\n",
              " \"'s\",\n",
              " 'Chinese',\n",
              " 'room',\n",
              " 'experiment',\n",
              " ':',\n",
              " 'Given',\n",
              " 'a',\n",
              " 'collection',\n",
              " 'of',\n",
              " 'rules',\n",
              " '(',\n",
              " 'e.g.',\n",
              " ',',\n",
              " 'a',\n",
              " 'Chinese',\n",
              " 'phrasebook',\n",
              " ',',\n",
              " 'with',\n",
              " 'questions',\n",
              " 'and',\n",
              " 'matching',\n",
              " 'answers',\n",
              " ')',\n",
              " ',',\n",
              " 'the',\n",
              " 'computer',\n",
              " 'emulates',\n",
              " 'natural',\n",
              " 'language',\n",
              " 'understanding',\n",
              " '(',\n",
              " 'or',\n",
              " 'other',\n",
              " 'NLP',\n",
              " 'tasks',\n",
              " ')',\n",
              " 'by',\n",
              " 'applying',\n",
              " 'those',\n",
              " 'rules',\n",
              " 'to',\n",
              " 'the',\n",
              " 'data',\n",
              " 'it',\n",
              " 'is',\n",
              " 'confronted',\n",
              " 'with',\n",
              " '.']"
            ]
          },
          "metadata": {},
          "execution_count": 19
        }
      ]
    },
    {
      "cell_type": "markdown",
      "metadata": {
        "id": "xOkV4SuWkdNv"
      },
      "source": [
        "# **2. POS**\n",
        "\n",
        "Part of Speech tagging : Grammatically tags each word to particular parts of speech."
      ]
    },
    {
      "cell_type": "code",
      "metadata": {
        "colab": {
          "base_uri": "https://localhost:8080/"
        },
        "id": "u0swKLclVUBU",
        "outputId": "e6358106-ef1b-4371-e691-95d8015904e9"
      },
      "source": [
        "# import pos_tag from nltk\n",
        "from nltk import pos_tag\n",
        "\n",
        "#tag each word to part of speech\n",
        "tagged_sentence = pos_tag(tokens)\n",
        "\n",
        "# print tagged words\n",
        "tagged_sentence"
      ],
      "execution_count": 33,
      "outputs": [
        {
          "output_type": "execute_result",
          "data": {
            "text/plain": [
              "[('the', 'DT'),\n",
              " ('premise', 'NN'),\n",
              " ('of', 'IN'),\n",
              " ('symbolic', 'JJ'),\n",
              " ('nlp', 'NN'),\n",
              " ('is', 'VBZ'),\n",
              " ('well', 'RB'),\n",
              " ('summarized', 'VBN'),\n",
              " ('by', 'IN'),\n",
              " ('john', 'NN'),\n",
              " ('searle', 'NN'),\n",
              " ('s', 'VBP'),\n",
              " ('chinese', 'JJ'),\n",
              " ('room', 'NN'),\n",
              " ('experiment', 'NN'),\n",
              " ('given', 'VBN'),\n",
              " ('a', 'DT'),\n",
              " ('collection', 'NN'),\n",
              " ('of', 'IN'),\n",
              " ('rules', 'NNS'),\n",
              " ('e', 'VBP'),\n",
              " ('g', 'VBP'),\n",
              " ('a', 'DT'),\n",
              " ('chinese', 'JJ'),\n",
              " ('phrasebook', 'NN'),\n",
              " ('with', 'IN'),\n",
              " ('questions', 'NNS'),\n",
              " ('and', 'CC'),\n",
              " ('matching', 'VBG'),\n",
              " ('answers', 'NNS'),\n",
              " ('the', 'DT'),\n",
              " ('computer', 'NN'),\n",
              " ('emulates', 'VBZ'),\n",
              " ('natural', 'JJ'),\n",
              " ('language', 'NN'),\n",
              " ('understanding', 'NN'),\n",
              " ('or', 'CC'),\n",
              " ('other', 'JJ'),\n",
              " ('nlp', 'JJ'),\n",
              " ('tasks', 'NNS'),\n",
              " ('by', 'IN'),\n",
              " ('applying', 'VBG'),\n",
              " ('those', 'DT'),\n",
              " ('rules', 'NNS'),\n",
              " ('to', 'TO'),\n",
              " ('the', 'DT'),\n",
              " ('data', 'NN'),\n",
              " ('it', 'PRP'),\n",
              " ('is', 'VBZ'),\n",
              " ('confronted', 'VBN'),\n",
              " ('with', 'IN')]"
            ]
          },
          "metadata": {},
          "execution_count": 33
        }
      ]
    },
    {
      "cell_type": "markdown",
      "metadata": {
        "id": "CpvAoN9blTE-"
      },
      "source": [
        "# **3. Stemming**\n",
        "\n",
        "Words are reduced to a root by removing inflection through dropping unnecessary characters, usually a suffix\n",
        "\n",
        "Below Performed 3 differnt kinds of stemming:\n",
        "1. Porter stemmer: \n",
        "2. LancasterStemmer\n",
        "3. SnowballStemmer"
      ]
    },
    {
      "cell_type": "code",
      "metadata": {
        "colab": {
          "base_uri": "https://localhost:8080/"
        },
        "id": "UthqwFQRVpCQ",
        "outputId": "cf8727b8-9c65-467b-e75d-9ccb7557cf94"
      },
      "source": [
        "# PorterStemmer\n",
        "from nltk.stem import PorterStemmer\n",
        "stemmer = PorterStemmer()\n",
        "words = sentence.split(' ')\n",
        "[stemmer.stem(word) for word in words]"
      ],
      "execution_count": 21,
      "outputs": [
        {
          "output_type": "execute_result",
          "data": {
            "text/plain": [
              "['the',\n",
              " 'premis',\n",
              " 'of',\n",
              " 'symbol',\n",
              " 'nlp',\n",
              " 'is',\n",
              " 'well-summar',\n",
              " 'by',\n",
              " 'john',\n",
              " \"searle'\",\n",
              " 'chines',\n",
              " 'room',\n",
              " 'experiment:',\n",
              " 'given',\n",
              " 'a',\n",
              " 'collect',\n",
              " 'of',\n",
              " 'rule',\n",
              " '(e.g.,',\n",
              " 'a',\n",
              " 'chines',\n",
              " 'phrasebook,',\n",
              " 'with',\n",
              " 'question',\n",
              " 'and',\n",
              " 'match',\n",
              " 'answers),',\n",
              " 'the',\n",
              " 'comput',\n",
              " 'emul',\n",
              " 'natur',\n",
              " 'languag',\n",
              " 'understand',\n",
              " '(or',\n",
              " 'other',\n",
              " 'nlp',\n",
              " 'tasks)',\n",
              " 'by',\n",
              " 'appli',\n",
              " 'those',\n",
              " 'rule',\n",
              " 'to',\n",
              " 'the',\n",
              " 'data',\n",
              " 'it',\n",
              " 'is',\n",
              " 'confront',\n",
              " 'with.\\n']"
            ]
          },
          "metadata": {},
          "execution_count": 21
        }
      ]
    },
    {
      "cell_type": "code",
      "metadata": {
        "colab": {
          "base_uri": "https://localhost:8080/"
        },
        "id": "aNakrqLaWOzy",
        "outputId": "21170ce7-f8c8-4e91-ecff-a4bcbcf695da"
      },
      "source": [
        "# LancasterStemmer\n",
        "from nltk.stem import LancasterStemmer\n",
        "lancaster_stemmer = LancasterStemmer()\n",
        "\n",
        "[lancaster_stemmer.stem(word) for word in words]"
      ],
      "execution_count": 22,
      "outputs": [
        {
          "output_type": "execute_result",
          "data": {
            "text/plain": [
              "['the',\n",
              " 'prem',\n",
              " 'of',\n",
              " 'symbol',\n",
              " 'nlp',\n",
              " 'is',\n",
              " 'well-summarized',\n",
              " 'by',\n",
              " 'john',\n",
              " \"searle's\",\n",
              " 'chines',\n",
              " 'room',\n",
              " 'experiment:',\n",
              " 'giv',\n",
              " 'a',\n",
              " 'collect',\n",
              " 'of',\n",
              " 'rul',\n",
              " '(e.g.,',\n",
              " 'a',\n",
              " 'chines',\n",
              " 'phrasebook,',\n",
              " 'with',\n",
              " 'quest',\n",
              " 'and',\n",
              " 'match',\n",
              " 'answers),',\n",
              " 'the',\n",
              " 'comput',\n",
              " 'em',\n",
              " 'nat',\n",
              " 'langu',\n",
              " 'understand',\n",
              " '(or',\n",
              " 'oth',\n",
              " 'nlp',\n",
              " 'tasks)',\n",
              " 'by',\n",
              " 'apply',\n",
              " 'thos',\n",
              " 'rul',\n",
              " 'to',\n",
              " 'the',\n",
              " 'dat',\n",
              " 'it',\n",
              " 'is',\n",
              " 'confront',\n",
              " 'with.\\n']"
            ]
          },
          "metadata": {},
          "execution_count": 22
        }
      ]
    },
    {
      "cell_type": "code",
      "metadata": {
        "colab": {
          "base_uri": "https://localhost:8080/"
        },
        "id": "-hBHLPFAWSs8",
        "outputId": "ea81bd45-fe04-4a51-ac05-629bffafaa5c"
      },
      "source": [
        "# SnowballStemmer\n",
        "from nltk.stem import SnowballStemmer\n",
        "snowball_stemmer = SnowballStemmer('english')\n",
        "\n",
        "[snowball_stemmer.stem(word) for word in words]"
      ],
      "execution_count": 23,
      "outputs": [
        {
          "output_type": "execute_result",
          "data": {
            "text/plain": [
              "['the',\n",
              " 'premis',\n",
              " 'of',\n",
              " 'symbol',\n",
              " 'nlp',\n",
              " 'is',\n",
              " 'well-summar',\n",
              " 'by',\n",
              " 'john',\n",
              " 'searl',\n",
              " 'chines',\n",
              " 'room',\n",
              " 'experiment:',\n",
              " 'given',\n",
              " 'a',\n",
              " 'collect',\n",
              " 'of',\n",
              " 'rule',\n",
              " '(e.g.,',\n",
              " 'a',\n",
              " 'chines',\n",
              " 'phrasebook,',\n",
              " 'with',\n",
              " 'question',\n",
              " 'and',\n",
              " 'match',\n",
              " 'answers),',\n",
              " 'the',\n",
              " 'comput',\n",
              " 'emul',\n",
              " 'natur',\n",
              " 'languag',\n",
              " 'understand',\n",
              " '(or',\n",
              " 'other',\n",
              " 'nlp',\n",
              " 'tasks)',\n",
              " 'by',\n",
              " 'appli',\n",
              " 'those',\n",
              " 'rule',\n",
              " 'to',\n",
              " 'the',\n",
              " 'data',\n",
              " 'it',\n",
              " 'is',\n",
              " 'confront',\n",
              " 'with.\\n']"
            ]
          },
          "metadata": {},
          "execution_count": 23
        }
      ]
    },
    {
      "cell_type": "markdown",
      "metadata": {
        "id": "dYNiLqnBmHU-"
      },
      "source": [
        "# **4. Lemmatization**\n",
        "\n",
        "Another approach to remove inflection by determining the part of speech and utilizing detailed database of the language"
      ]
    },
    {
      "cell_type": "code",
      "metadata": {
        "colab": {
          "base_uri": "https://localhost:8080/"
        },
        "id": "9Olt7kBPWYrE",
        "outputId": "c7f8d381-2c13-40e6-d335-8bce7ba59e49"
      },
      "source": [
        "from nltk.stem import WordNetLemmatizer\n",
        "lemmatiser = WordNetLemmatizer()\n",
        "# [lemmatiser.lemmatize(word) for word in words]\n",
        "print(\"Lemmatization output: \")\n",
        "for w in words:\n",
        "    print(lemmatiser.lemmatize(w))"
      ],
      "execution_count": 24,
      "outputs": [
        {
          "output_type": "stream",
          "name": "stdout",
          "text": [
            "Lemmatization output: \n",
            "The\n",
            "premise\n",
            "of\n",
            "symbolic\n",
            "NLP\n",
            "is\n",
            "well-summarized\n",
            "by\n",
            "John\n",
            "Searle's\n",
            "Chinese\n",
            "room\n",
            "experiment:\n",
            "Given\n",
            "a\n",
            "collection\n",
            "of\n",
            "rule\n",
            "(e.g.,\n",
            "a\n",
            "Chinese\n",
            "phrasebook,\n",
            "with\n",
            "question\n",
            "and\n",
            "matching\n",
            "answers),\n",
            "the\n",
            "computer\n",
            "emulates\n",
            "natural\n",
            "language\n",
            "understanding\n",
            "(or\n",
            "other\n",
            "NLP\n",
            "tasks)\n",
            "by\n",
            "applying\n",
            "those\n",
            "rule\n",
            "to\n",
            "the\n",
            "data\n",
            "it\n",
            "is\n",
            "confronted\n",
            "with.\n",
            "\n"
          ]
        }
      ]
    },
    {
      "cell_type": "markdown",
      "metadata": {
        "id": "1f3foI7Pmfa2"
      },
      "source": [
        "# **5. Trigram**\n",
        "\n",
        "A set of co-occurring or continuous sequence of n items (where n is 3) from a sequence of large text or sentence"
      ]
    },
    {
      "cell_type": "code",
      "metadata": {
        "colab": {
          "base_uri": "https://localhost:8080/"
        },
        "id": "sW-oV8jHWcPq",
        "outputId": "9ac8c491-364e-466f-d81a-db614e848b76"
      },
      "source": [
        "from nltk import trigrams\n",
        "trigram_list = list(trigrams(tokens))\n",
        "trigram_list\n",
        "\n"
      ],
      "execution_count": 26,
      "outputs": [
        {
          "output_type": "execute_result",
          "data": {
            "text/plain": [
              "[('The', 'premise', 'of'),\n",
              " ('premise', 'of', 'symbolic'),\n",
              " ('of', 'symbolic', 'NLP'),\n",
              " ('symbolic', 'NLP', 'is'),\n",
              " ('NLP', 'is', 'well-summarized'),\n",
              " ('is', 'well-summarized', 'by'),\n",
              " ('well-summarized', 'by', 'John'),\n",
              " ('by', 'John', 'Searle'),\n",
              " ('John', 'Searle', \"'s\"),\n",
              " ('Searle', \"'s\", 'Chinese'),\n",
              " (\"'s\", 'Chinese', 'room'),\n",
              " ('Chinese', 'room', 'experiment'),\n",
              " ('room', 'experiment', ':'),\n",
              " ('experiment', ':', 'Given'),\n",
              " (':', 'Given', 'a'),\n",
              " ('Given', 'a', 'collection'),\n",
              " ('a', 'collection', 'of'),\n",
              " ('collection', 'of', 'rules'),\n",
              " ('of', 'rules', '('),\n",
              " ('rules', '(', 'e.g.'),\n",
              " ('(', 'e.g.', ','),\n",
              " ('e.g.', ',', 'a'),\n",
              " (',', 'a', 'Chinese'),\n",
              " ('a', 'Chinese', 'phrasebook'),\n",
              " ('Chinese', 'phrasebook', ','),\n",
              " ('phrasebook', ',', 'with'),\n",
              " (',', 'with', 'questions'),\n",
              " ('with', 'questions', 'and'),\n",
              " ('questions', 'and', 'matching'),\n",
              " ('and', 'matching', 'answers'),\n",
              " ('matching', 'answers', ')'),\n",
              " ('answers', ')', ','),\n",
              " (')', ',', 'the'),\n",
              " (',', 'the', 'computer'),\n",
              " ('the', 'computer', 'emulates'),\n",
              " ('computer', 'emulates', 'natural'),\n",
              " ('emulates', 'natural', 'language'),\n",
              " ('natural', 'language', 'understanding'),\n",
              " ('language', 'understanding', '('),\n",
              " ('understanding', '(', 'or'),\n",
              " ('(', 'or', 'other'),\n",
              " ('or', 'other', 'NLP'),\n",
              " ('other', 'NLP', 'tasks'),\n",
              " ('NLP', 'tasks', ')'),\n",
              " ('tasks', ')', 'by'),\n",
              " (')', 'by', 'applying'),\n",
              " ('by', 'applying', 'those'),\n",
              " ('applying', 'those', 'rules'),\n",
              " ('those', 'rules', 'to'),\n",
              " ('rules', 'to', 'the'),\n",
              " ('to', 'the', 'data'),\n",
              " ('the', 'data', 'it'),\n",
              " ('data', 'it', 'is'),\n",
              " ('it', 'is', 'confronted'),\n",
              " ('is', 'confronted', 'with'),\n",
              " ('confronted', 'with', '.')]"
            ]
          },
          "metadata": {},
          "execution_count": 26
        }
      ]
    },
    {
      "cell_type": "markdown",
      "metadata": {
        "id": "Pnlwr5hgmls5"
      },
      "source": [
        "# **6. Named Entity Recognition**\n",
        "\n",
        "It is one kind of information extraction.classifies named entities in text into pre-defined categories such as the names of persons, organizations, locations etc"
      ]
    },
    {
      "cell_type": "code",
      "metadata": {
        "colab": {
          "base_uri": "https://localhost:8080/"
        },
        "id": "7EKHct66WfqP",
        "outputId": "4488f0ce-b3b8-41e1-8648-ab4c917c987d"
      },
      "source": [
        "from nltk import ne_chunk\n",
        "print(ne_chunk(tagged_sentence, binary=True))"
      ],
      "execution_count": 27,
      "outputs": [
        {
          "output_type": "stream",
          "name": "stdout",
          "text": [
            "(S\n",
            "  The/DT\n",
            "  premise/NN\n",
            "  of/IN\n",
            "  symbolic/JJ\n",
            "  (NE NLP/NNP)\n",
            "  is/VBZ\n",
            "  well-summarized/JJ\n",
            "  by/IN\n",
            "  (NE John/NNP Searle/NNP)\n",
            "  's/POS\n",
            "  (NE Chinese/JJ)\n",
            "  room/NN\n",
            "  experiment/NN\n",
            "  :/:\n",
            "  Given/VBN\n",
            "  a/DT\n",
            "  collection/NN\n",
            "  of/IN\n",
            "  rules/NNS\n",
            "  (/(\n",
            "  e.g./NN\n",
            "  ,/,\n",
            "  a/DT\n",
            "  (NE Chinese/JJ)\n",
            "  phrasebook/NN\n",
            "  ,/,\n",
            "  with/IN\n",
            "  questions/NNS\n",
            "  and/CC\n",
            "  matching/VBG\n",
            "  answers/NNS\n",
            "  )/)\n",
            "  ,/,\n",
            "  the/DT\n",
            "  computer/NN\n",
            "  emulates/VBZ\n",
            "  natural/JJ\n",
            "  language/NN\n",
            "  understanding/NN\n",
            "  (/(\n",
            "  or/CC\n",
            "  other/JJ\n",
            "  NLP/NNP\n",
            "  tasks/NNS\n",
            "  )/)\n",
            "  by/IN\n",
            "  applying/VBG\n",
            "  those/DT\n",
            "  rules/NNS\n",
            "  to/TO\n",
            "  the/DT\n",
            "  data/NN\n",
            "  it/PRP\n",
            "  is/VBZ\n",
            "  confronted/VBN\n",
            "  with/IN\n",
            "  ./.)\n"
          ]
        }
      ]
    },
    {
      "cell_type": "markdown",
      "metadata": {
        "id": "WS12bu1zx_kw"
      },
      "source": [
        "# 7. **Plot the Frequencies of words.**"
      ]
    },
    {
      "cell_type": "code",
      "metadata": {
        "colab": {
          "base_uri": "https://localhost:8080/"
        },
        "id": "8xYyYw53tV9m",
        "outputId": "f75fb2b2-21c5-49f6-c0a8-37dc803d7797"
      },
      "source": [
        "from collections import Counter\n",
        "from nltk.tokenize import RegexpTokenizer\n",
        "\n",
        "# Use tokenizer to remove all the regular expression and extract only words\n",
        "tokenizer = RegexpTokenizer(r'\\w+')\n",
        "tokens = tokenizer.tokenize(sentence.lower())\n",
        "\n",
        "# Create a non-empty dictionary\n",
        "word_count = {}\n",
        "\n",
        "# Start storing the words and their occurances in the dictionary\n",
        "for word in tokens:\n",
        "    if word in word_count.keys():\n",
        "        word_count[word] += 1\n",
        "    else:\n",
        "        word_count[word] = 1\n",
        "\n",
        "# Print the contents of dictionary\n",
        "for x, y in word_count.items():\n",
        "    print(x + \" : \", y)"
      ],
      "execution_count": 28,
      "outputs": [
        {
          "output_type": "stream",
          "name": "stdout",
          "text": [
            "the :  3\n",
            "premise :  1\n",
            "of :  2\n",
            "symbolic :  1\n",
            "nlp :  2\n",
            "is :  2\n",
            "well :  1\n",
            "summarized :  1\n",
            "by :  2\n",
            "john :  1\n",
            "searle :  1\n",
            "s :  1\n",
            "chinese :  2\n",
            "room :  1\n",
            "experiment :  1\n",
            "given :  1\n",
            "a :  2\n",
            "collection :  1\n",
            "rules :  2\n",
            "e :  1\n",
            "g :  1\n",
            "phrasebook :  1\n",
            "with :  2\n",
            "questions :  1\n",
            "and :  1\n",
            "matching :  1\n",
            "answers :  1\n",
            "computer :  1\n",
            "emulates :  1\n",
            "natural :  1\n",
            "language :  1\n",
            "understanding :  1\n",
            "or :  1\n",
            "other :  1\n",
            "tasks :  1\n",
            "applying :  1\n",
            "those :  1\n",
            "to :  1\n",
            "data :  1\n",
            "it :  1\n",
            "confronted :  1\n"
          ]
        }
      ]
    },
    {
      "cell_type": "code",
      "metadata": {
        "colab": {
          "base_uri": "https://localhost:8080/",
          "height": 420
        },
        "id": "jI_y_YnNbKQb",
        "outputId": "f71b3928-785d-489e-f693-fe7c8094b3e4"
      },
      "source": [
        "import pandas as pd\n",
        "import matplotlib.pyplot as plt\n",
        "import seaborn as sns\n",
        "import numpy as np\n",
        "\n",
        "plt.figure(figsize=(15,5))\n",
        "sns.set_theme(style=\"darkgrid\")\n",
        "\n",
        "data_words = word_count.keys()\n",
        "words_counts = word_count.values()\n",
        "indexes = np.arange(len(data_words))\n",
        "width = 0.7\n",
        "\n",
        "plt.title('Plot for Frequencies of words', size=14)\n",
        "plt.xlabel('words', size=14)\n",
        "plt.xticks(size=10, rotation= 90)\n",
        "plt.ylabel('frequency', size=14)\n",
        "plt.yticks(size=10)\n",
        "plt.bar(indexes, words_counts, width)\n",
        "plt.xticks(indexes + width * 0.5, data_words)\n",
        "plt.show()\n",
        "\n"
      ],
      "execution_count": 29,
      "outputs": [
        {
          "output_type": "display_data",
          "data": {
            "image/png": "[encoded data removed]",
            "text/plain": [
              "<Figure size 1080x360 with 1 Axes>"
            ]
          },
          "metadata": {
            "needs_background": "light"
          }
        }
      ]
    }
  ]
}