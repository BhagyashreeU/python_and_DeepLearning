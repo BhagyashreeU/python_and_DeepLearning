{
  "nbformat": 4,
  "nbformat_minor": 0,
  "metadata": {
    "colab": {
      "name": "Diabetes.ipynb",
      "provenance": [],
      "collapsed_sections": []
    },
    "kernelspec": {
      "name": "python3",
      "display_name": "Python 3"
    },
    "language_info": {
      "name": "python"
    },
    "accelerator": "GPU"
  },
  "cells": [
    {
      "cell_type": "markdown",
      "metadata": {
        "id": "-2iUWenwxLy8"
      },
      "source": [
        "# **Import required libraries**"
      ]
    },
    {
      "cell_type": "code",
      "metadata": {
        "id": "s1ZGnVF_j92P"
      },
      "source": [
        "import pandas\n",
        "from keras.models import Sequential\n",
        "from keras.layers.core import Dense, Activation\n",
        "from keras.layers import Input, Dropout\n",
        "\n",
        "from sklearn.model_selection import train_test_split\n",
        "import pandas as pd\n",
        "import numpy as np\n",
        "from matplotlib import pyplot as plt"
      ],
      "execution_count": null,
      "outputs": []
    },
    {
      "cell_type": "code",
      "metadata": {
        "id": "42_pzaVSlccL"
      },
      "source": [
        "# Reads .csv file as DataFrame.\n",
        "dataset = pd.read_csv(\"/content/diabetes.csv\",header=None).values"
      ],
      "execution_count": null,
      "outputs": []
    },
    {
      "cell_type": "code",
      "metadata": {
        "colab": {
          "base_uri": "https://localhost:8080/"
        },
        "id": "MkZBzN42lnkE",
        "outputId": "3357d07b-5bb1-4c1e-f1d9-3cbed061db4e"
      },
      "source": [
        "print(type(dataset))\n",
        "print(dataset.shape)\n",
        "\n"
      ],
      "execution_count": null,
      "outputs": [
        {
          "output_type": "stream",
          "name": "stdout",
          "text": [
            "<class 'numpy.ndarray'>\n",
            "(768, 9)\n"
          ]
        }
      ]
    },
    {
      "cell_type": "markdown",
      "metadata": {
        "id": "JgeMdE59Zhqx"
      },
      "source": [
        "# **Split data into test and train**"
      ]
    },
    {
      "cell_type": "code",
      "metadata": {
        "colab": {
          "base_uri": "https://localhost:8080/"
        },
        "id": "oB5CTTGplngG",
        "outputId": "afff05a4-696d-4828-bd68-7bab0057765e"
      },
      "source": [
        "X = dataset[:,0:8]\n",
        "y = dataset[:,8]\n",
        "\n",
        "X_train, X_test, Y_train, Y_test = train_test_split(X, y, test_size=0.25, random_state=22)\n",
        "\n",
        "print(\"X_train.shape: \", X_train.shape)\n",
        "print(\"Y_train.shape: \", Y_train.shape)\n",
        "print(\"X_test.shape: \", X_test.shape)\n",
        "print(\"Y_test.shape: \", Y_test.shape)"
      ],
      "execution_count": null,
      "outputs": [
        {
          "output_type": "stream",
          "name": "stdout",
          "text": [
            "X_train.shape:  (576, 8)\n",
            "Y_train.shape:  (576,)\n",
            "X_test.shape:  (192, 8)\n",
            "Y_test.shape:  (192,)\n"
          ]
        }
      ]
    },
    {
      "cell_type": "markdown",
      "metadata": {
        "id": "uGlE2EDjnvdv"
      },
      "source": [
        "# **Existing model provided in the usecase**"
      ]
    },
    {
      "cell_type": "code",
      "metadata": {
        "colab": {
          "base_uri": "https://localhost:8080/"
        },
        "id": "itJxzGtplnef",
        "outputId": "8e64dce5-8cc9-4073-cd33-9812da49a51a"
      },
      "source": [
        "my_first_nn = Sequential() # create a Sequential model\n",
        "\n",
        "my_first_nn.add(Input(shape=(8,))) # Input Layer\n",
        "\n",
        "my_first_nn.add(Dense(32, activation='relu')) # hidden layer\n",
        "\n",
        "my_first_nn.add(Dense(1, activation='sigmoid')) # output layer \n",
        "\n",
        "my_first_nn.compile(loss='binary_crossentropy', optimizer='adam', metrics=['acc'])\n",
        "\n",
        "print(my_first_nn.summary())\n",
        "\n",
        "# The returned history object holds a record of the loss values and metric values during training\n",
        "history =  my_first_nn_fitted = my_first_nn.fit(X_train, Y_train, epochs=100, verbose=1, shuffle=True)"
      ],
      "execution_count": null,
      "outputs": [
        {
          "output_type": "stream",
          "name": "stdout",
          "text": [
            "Model: \"sequential_2\"\n",
            "_________________________________________________________________\n",
            "Layer (type)                 Output Shape              Param #   \n",
            "=================================================================\n",
            "dense_5 (Dense)              (None, 32)                288       \n",
            "_________________________________________________________________\n",
            "dense_6 (Dense)              (None, 1)                 33        \n",
            "=================================================================\n",
            "Total params: 321\n",
            "Trainable params: 321\n",
            "Non-trainable params: 0\n",
            "_________________________________________________________________\n",
            "None\n",
            "Epoch 1/100\n",
            "18/18 [==============================] - 0s 1ms/step - loss: 11.0660 - acc: 0.6128\n",
            "Epoch 2/100\n",
            "18/18 [==============================] - 0s 1ms/step - loss: 5.1352 - acc: 0.5486\n",
            "Epoch 3/100\n",
            "18/18 [==============================] - 0s 1ms/step - loss: 2.4195 - acc: 0.4583\n",
            "Epoch 4/100\n",
            "18/18 [==============================] - 0s 1ms/step - loss: 1.7267 - acc: 0.5469\n",
            "Epoch 5/100\n",
            "18/18 [==============================] - 0s 2ms/step - loss: 1.5163 - acc: 0.5660\n",
            "Epoch 6/100\n",
            "18/18 [==============================] - 0s 1ms/step - loss: 1.3126 - acc: 0.5833\n",
            "Epoch 7/100\n",
            "18/18 [==============================] - 0s 2ms/step - loss: 1.2447 - acc: 0.6042\n",
            "Epoch 8/100\n",
            "18/18 [==============================] - 0s 1ms/step - loss: 1.1177 - acc: 0.6111\n",
            "Epoch 9/100\n",
            "18/18 [==============================] - 0s 2ms/step - loss: 1.0946 - acc: 0.5972\n",
            "Epoch 10/100\n",
            "18/18 [==============================] - 0s 2ms/step - loss: 1.0554 - acc: 0.6059\n",
            "Epoch 11/100\n",
            "18/18 [==============================] - 0s 1ms/step - loss: 1.0311 - acc: 0.6163\n",
            "Epoch 12/100\n",
            "18/18 [==============================] - 0s 2ms/step - loss: 1.0225 - acc: 0.6024\n",
            "Epoch 13/100\n",
            "18/18 [==============================] - 0s 1ms/step - loss: 0.9935 - acc: 0.6181\n",
            "Epoch 14/100\n",
            "18/18 [==============================] - 0s 1ms/step - loss: 0.9795 - acc: 0.6198\n",
            "Epoch 15/100\n",
            "18/18 [==============================] - 0s 2ms/step - loss: 0.9445 - acc: 0.6372\n",
            "Epoch 16/100\n",
            "18/18 [==============================] - 0s 1ms/step - loss: 0.8147 - acc: 0.6406\n",
            "Epoch 17/100\n",
            "18/18 [==============================] - 0s 2ms/step - loss: 0.8658 - acc: 0.6337\n",
            "Epoch 18/100\n",
            "18/18 [==============================] - 0s 2ms/step - loss: 0.7817 - acc: 0.6632\n",
            "Epoch 19/100\n",
            "18/18 [==============================] - 0s 2ms/step - loss: 0.7934 - acc: 0.6545\n",
            "Epoch 20/100\n",
            "18/18 [==============================] - 0s 2ms/step - loss: 0.8165 - acc: 0.6632\n",
            "Epoch 21/100\n",
            "18/18 [==============================] - 0s 2ms/step - loss: 0.7644 - acc: 0.6406\n",
            "Epoch 22/100\n",
            "18/18 [==============================] - 0s 2ms/step - loss: 0.6994 - acc: 0.6667\n",
            "Epoch 23/100\n",
            "18/18 [==============================] - 0s 2ms/step - loss: 0.7076 - acc: 0.6615\n",
            "Epoch 24/100\n",
            "18/18 [==============================] - 0s 1ms/step - loss: 0.7076 - acc: 0.6736\n",
            "Epoch 25/100\n",
            "18/18 [==============================] - 0s 2ms/step - loss: 0.6632 - acc: 0.6823\n",
            "Epoch 26/100\n",
            "18/18 [==============================] - 0s 2ms/step - loss: 0.6786 - acc: 0.6753\n",
            "Epoch 27/100\n",
            "18/18 [==============================] - 0s 2ms/step - loss: 0.6799 - acc: 0.6597\n",
            "Epoch 28/100\n",
            "18/18 [==============================] - 0s 2ms/step - loss: 0.6804 - acc: 0.6632\n",
            "Epoch 29/100\n",
            "18/18 [==============================] - 0s 2ms/step - loss: 0.6404 - acc: 0.6927\n",
            "Epoch 30/100\n",
            "18/18 [==============================] - 0s 1ms/step - loss: 0.6937 - acc: 0.6701\n",
            "Epoch 31/100\n",
            "18/18 [==============================] - 0s 2ms/step - loss: 0.6327 - acc: 0.6840\n",
            "Epoch 32/100\n",
            "18/18 [==============================] - 0s 2ms/step - loss: 0.6118 - acc: 0.6997\n",
            "Epoch 33/100\n",
            "18/18 [==============================] - 0s 2ms/step - loss: 0.6803 - acc: 0.6719\n",
            "Epoch 34/100\n",
            "18/18 [==============================] - 0s 1ms/step - loss: 0.6504 - acc: 0.6597\n",
            "Epoch 35/100\n",
            "18/18 [==============================] - 0s 2ms/step - loss: 0.6525 - acc: 0.6823\n",
            "Epoch 36/100\n",
            "18/18 [==============================] - 0s 1ms/step - loss: 0.6085 - acc: 0.7153\n",
            "Epoch 37/100\n",
            "18/18 [==============================] - 0s 1ms/step - loss: 0.5968 - acc: 0.7049\n",
            "Epoch 38/100\n",
            "18/18 [==============================] - 0s 2ms/step - loss: 0.6553 - acc: 0.6771\n",
            "Epoch 39/100\n",
            "18/18 [==============================] - 0s 2ms/step - loss: 0.5994 - acc: 0.7014\n",
            "Epoch 40/100\n",
            "18/18 [==============================] - 0s 2ms/step - loss: 0.6447 - acc: 0.6840\n",
            "Epoch 41/100\n",
            "18/18 [==============================] - 0s 2ms/step - loss: 0.6162 - acc: 0.7031\n",
            "Epoch 42/100\n",
            "18/18 [==============================] - 0s 2ms/step - loss: 0.6013 - acc: 0.7118\n",
            "Epoch 43/100\n",
            "18/18 [==============================] - 0s 1ms/step - loss: 0.6277 - acc: 0.6979\n",
            "Epoch 44/100\n",
            "18/18 [==============================] - 0s 2ms/step - loss: 0.5784 - acc: 0.7118\n",
            "Epoch 45/100\n",
            "18/18 [==============================] - 0s 2ms/step - loss: 0.5947 - acc: 0.7170\n",
            "Epoch 46/100\n",
            "18/18 [==============================] - 0s 2ms/step - loss: 0.6002 - acc: 0.7031\n",
            "Epoch 47/100\n",
            "18/18 [==============================] - 0s 2ms/step - loss: 0.6357 - acc: 0.7031\n",
            "Epoch 48/100\n",
            "18/18 [==============================] - 0s 2ms/step - loss: 0.6109 - acc: 0.7014\n",
            "Epoch 49/100\n",
            "18/18 [==============================] - 0s 2ms/step - loss: 0.5593 - acc: 0.7413\n",
            "Epoch 50/100\n",
            "18/18 [==============================] - 0s 2ms/step - loss: 0.6002 - acc: 0.7101\n",
            "Epoch 51/100\n",
            "18/18 [==============================] - 0s 2ms/step - loss: 0.6458 - acc: 0.7101\n",
            "Epoch 52/100\n",
            "18/18 [==============================] - 0s 1ms/step - loss: 0.6917 - acc: 0.6684\n",
            "Epoch 53/100\n",
            "18/18 [==============================] - 0s 1ms/step - loss: 0.6065 - acc: 0.6997\n",
            "Epoch 54/100\n",
            "18/18 [==============================] - 0s 2ms/step - loss: 0.5724 - acc: 0.7240\n",
            "Epoch 55/100\n",
            "18/18 [==============================] - 0s 1ms/step - loss: 0.5658 - acc: 0.7292\n",
            "Epoch 56/100\n",
            "18/18 [==============================] - 0s 2ms/step - loss: 0.5904 - acc: 0.7257\n",
            "Epoch 57/100\n",
            "18/18 [==============================] - 0s 2ms/step - loss: 0.5682 - acc: 0.7170\n",
            "Epoch 58/100\n",
            "18/18 [==============================] - 0s 1ms/step - loss: 0.5567 - acc: 0.7222\n",
            "Epoch 59/100\n",
            "18/18 [==============================] - 0s 2ms/step - loss: 0.5758 - acc: 0.7205\n",
            "Epoch 60/100\n",
            "18/18 [==============================] - 0s 2ms/step - loss: 0.5703 - acc: 0.7326\n",
            "Epoch 61/100\n",
            "18/18 [==============================] - 0s 2ms/step - loss: 0.5645 - acc: 0.7205\n",
            "Epoch 62/100\n",
            "18/18 [==============================] - 0s 2ms/step - loss: 0.5917 - acc: 0.7083\n",
            "Epoch 63/100\n",
            "18/18 [==============================] - 0s 1ms/step - loss: 0.5593 - acc: 0.7257\n",
            "Epoch 64/100\n",
            "18/18 [==============================] - 0s 2ms/step - loss: 0.5552 - acc: 0.7396\n",
            "Epoch 65/100\n",
            "18/18 [==============================] - 0s 2ms/step - loss: 0.5444 - acc: 0.7431\n",
            "Epoch 66/100\n",
            "18/18 [==============================] - 0s 2ms/step - loss: 0.5529 - acc: 0.7378\n",
            "Epoch 67/100\n",
            "18/18 [==============================] - 0s 2ms/step - loss: 0.5767 - acc: 0.7344\n",
            "Epoch 68/100\n",
            "18/18 [==============================] - 0s 2ms/step - loss: 0.5938 - acc: 0.7257\n",
            "Epoch 69/100\n",
            "18/18 [==============================] - 0s 2ms/step - loss: 0.6500 - acc: 0.6944\n",
            "Epoch 70/100\n",
            "18/18 [==============================] - 0s 2ms/step - loss: 0.5958 - acc: 0.7153\n",
            "Epoch 71/100\n",
            "18/18 [==============================] - 0s 2ms/step - loss: 0.5554 - acc: 0.7465\n",
            "Epoch 72/100\n",
            "18/18 [==============================] - 0s 2ms/step - loss: 0.5391 - acc: 0.7431\n",
            "Epoch 73/100\n",
            "18/18 [==============================] - 0s 2ms/step - loss: 0.5926 - acc: 0.6962\n",
            "Epoch 74/100\n",
            "18/18 [==============================] - 0s 2ms/step - loss: 0.6010 - acc: 0.6979\n",
            "Epoch 75/100\n",
            "18/18 [==============================] - 0s 2ms/step - loss: 0.5521 - acc: 0.7483\n",
            "Epoch 76/100\n",
            "18/18 [==============================] - 0s 1ms/step - loss: 0.5672 - acc: 0.7448\n",
            "Epoch 77/100\n",
            "18/18 [==============================] - 0s 2ms/step - loss: 0.5949 - acc: 0.7153\n",
            "Epoch 78/100\n",
            "18/18 [==============================] - 0s 2ms/step - loss: 0.5583 - acc: 0.7431\n",
            "Epoch 79/100\n",
            "18/18 [==============================] - 0s 2ms/step - loss: 0.5374 - acc: 0.7483\n",
            "Epoch 80/100\n",
            "18/18 [==============================] - 0s 2ms/step - loss: 0.5565 - acc: 0.7378\n",
            "Epoch 81/100\n",
            "18/18 [==============================] - 0s 2ms/step - loss: 0.5946 - acc: 0.7222\n",
            "Epoch 82/100\n",
            "18/18 [==============================] - 0s 2ms/step - loss: 0.5642 - acc: 0.7240\n",
            "Epoch 83/100\n",
            "18/18 [==============================] - 0s 2ms/step - loss: 0.5492 - acc: 0.7413\n",
            "Epoch 84/100\n",
            "18/18 [==============================] - 0s 2ms/step - loss: 0.5571 - acc: 0.7326\n",
            "Epoch 85/100\n",
            "18/18 [==============================] - 0s 2ms/step - loss: 0.5957 - acc: 0.7378\n",
            "Epoch 86/100\n",
            "18/18 [==============================] - 0s 2ms/step - loss: 0.7093 - acc: 0.6615\n",
            "Epoch 87/100\n",
            "18/18 [==============================] - 0s 2ms/step - loss: 0.6064 - acc: 0.6997\n",
            "Epoch 88/100\n",
            "18/18 [==============================] - 0s 2ms/step - loss: 0.6079 - acc: 0.6944\n",
            "Epoch 89/100\n",
            "18/18 [==============================] - 0s 1ms/step - loss: 0.5987 - acc: 0.7118\n",
            "Epoch 90/100\n",
            "18/18 [==============================] - 0s 2ms/step - loss: 0.5267 - acc: 0.7587\n",
            "Epoch 91/100\n",
            "18/18 [==============================] - 0s 2ms/step - loss: 0.5297 - acc: 0.7274\n",
            "Epoch 92/100\n",
            "18/18 [==============================] - 0s 2ms/step - loss: 0.5506 - acc: 0.7413\n",
            "Epoch 93/100\n",
            "18/18 [==============================] - 0s 2ms/step - loss: 0.6039 - acc: 0.7344\n",
            "Epoch 94/100\n",
            "18/18 [==============================] - 0s 2ms/step - loss: 0.5804 - acc: 0.7205\n",
            "Epoch 95/100\n",
            "18/18 [==============================] - 0s 2ms/step - loss: 0.5465 - acc: 0.7413\n",
            "Epoch 96/100\n",
            "18/18 [==============================] - 0s 2ms/step - loss: 0.5342 - acc: 0.7431\n",
            "Epoch 97/100\n",
            "18/18 [==============================] - 0s 2ms/step - loss: 0.5787 - acc: 0.7361\n",
            "Epoch 98/100\n",
            "18/18 [==============================] - 0s 1ms/step - loss: 0.5331 - acc: 0.7517\n",
            "Epoch 99/100\n",
            "18/18 [==============================] - 0s 2ms/step - loss: 0.5166 - acc: 0.7656\n",
            "Epoch 100/100\n",
            "18/18 [==============================] - 0s 1ms/step - loss: 0.5397 - acc: 0.7483\n"
          ]
        }
      ]
    },
    {
      "cell_type": "markdown",
      "metadata": {
        "id": "WSZTO952oZog"
      },
      "source": [
        "# **Accuracy of the first model**"
      ]
    },
    {
      "cell_type": "code",
      "metadata": {
        "colab": {
          "base_uri": "https://localhost:8080/"
        },
        "id": "4m0A_wz9lnb-",
        "outputId": "d3fa28f6-7544-44ef-d1b2-14aef88ab54b"
      },
      "source": [
        "print(my_first_nn.summary())\n",
        "\n",
        "loss, accuracy = my_first_nn.evaluate(X_test, Y_test, verbose=0)\n",
        "\n",
        "print(\"\\nModel 1 Accuracy: \", accuracy)\n",
        "print(\"Model 1 Loss: \", loss)"
      ],
      "execution_count": null,
      "outputs": [
        {
          "output_type": "stream",
          "name": "stdout",
          "text": [
            "Model: \"sequential_2\"\n",
            "_________________________________________________________________\n",
            "Layer (type)                 Output Shape              Param #   \n",
            "=================================================================\n",
            "dense_5 (Dense)              (None, 32)                288       \n",
            "_________________________________________________________________\n",
            "dense_6 (Dense)              (None, 1)                 33        \n",
            "=================================================================\n",
            "Total params: 321\n",
            "Trainable params: 321\n",
            "Non-trainable params: 0\n",
            "_________________________________________________________________\n",
            "None\n",
            "\n",
            "Model 1 Accuracy:  0.7083333134651184\n",
            "Model 1 Loss:  0.6141995787620544\n"
          ]
        }
      ]
    },
    {
      "cell_type": "markdown",
      "metadata": {
        "id": "oYuGkVtjogtp"
      },
      "source": [
        "# **Add more Dense layers to the existing code and check accuracy**\n",
        "\n"
      ]
    },
    {
      "cell_type": "code",
      "metadata": {
        "colab": {
          "base_uri": "https://localhost:8080/"
        },
        "id": "p33glTP5lnZZ",
        "outputId": "860cdaf9-8765-4a85-feee-cc5914e534fe"
      },
      "source": [
        "my_second_nn = Sequential() # create a Sequential model\n",
        "\n",
        "my_second_nn.add(Input(shape=(8,))) # Input Layer\n",
        "\n",
        "my_second_nn.add(Dense(32, activation='relu')) # hidden layer\n",
        "\n",
        "my_second_nn.add(Dense(64, activation='relu')) # hidden layer\n",
        "\n",
        "\n",
        "my_second_nn.add(Dense(1, activation='sigmoid')) # output layer \n",
        "\n",
        "my_second_nn.compile(loss='binary_crossentropy', optimizer='adam', metrics=['acc'])\n",
        "\n",
        "print(my_second_nn.summary())\n",
        "\n"
      ],
      "execution_count": null,
      "outputs": [
        {
          "output_type": "stream",
          "name": "stdout",
          "text": [
            "Model: \"sequential_3\"\n",
            "_________________________________________________________________\n",
            "Layer (type)                 Output Shape              Param #   \n",
            "=================================================================\n",
            "dense_7 (Dense)              (None, 32)                288       \n",
            "_________________________________________________________________\n",
            "dense_8 (Dense)              (None, 64)                2112      \n",
            "_________________________________________________________________\n",
            "dense_9 (Dense)              (None, 1)                 65        \n",
            "=================================================================\n",
            "Total params: 2,465\n",
            "Trainable params: 2,465\n",
            "Non-trainable params: 0\n",
            "_________________________________________________________________\n",
            "None\n"
          ]
        }
      ]
    },
    {
      "cell_type": "markdown",
      "metadata": {
        "id": "6UhU3LokpcV-"
      },
      "source": [
        "# **Add the validation_data=(X_test, Y_test) attribute to .fit() method**"
      ]
    },
    {
      "cell_type": "code",
      "metadata": {
        "colab": {
          "base_uri": "https://localhost:8080/"
        },
        "id": "stAtwZWflnVT",
        "outputId": "3c5b1c0a-0c78-41c8-9dc2-6735ff43f4f0"
      },
      "source": [
        "# The returned history object holds a record of the loss values and metric values during training\n",
        "history =  my_second_nn_fitted = my_second_nn.fit(X_train, Y_train, validation_data=(X_test, Y_test),epochs=100, verbose=1, shuffle=True)"
      ],
      "execution_count": null,
      "outputs": [
        {
          "output_type": "stream",
          "name": "stdout",
          "text": [
            "Epoch 1/100\n",
            "18/18 [==============================] - 1s 11ms/step - loss: 4.7575 - acc: 0.5990 - val_loss: 2.1947 - val_acc: 0.5312\n",
            "Epoch 2/100\n",
            "18/18 [==============================] - 0s 4ms/step - loss: 1.4252 - acc: 0.6285 - val_loss: 0.9378 - val_acc: 0.6198\n",
            "Epoch 3/100\n",
            "18/18 [==============================] - 0s 3ms/step - loss: 0.8190 - acc: 0.6458 - val_loss: 0.9675 - val_acc: 0.5260\n",
            "Epoch 4/100\n",
            "18/18 [==============================] - 0s 3ms/step - loss: 0.7381 - acc: 0.6510 - val_loss: 0.7423 - val_acc: 0.6354\n",
            "Epoch 5/100\n",
            "18/18 [==============================] - 0s 4ms/step - loss: 0.6871 - acc: 0.6719 - val_loss: 0.7281 - val_acc: 0.6354\n",
            "Epoch 6/100\n",
            "18/18 [==============================] - 0s 4ms/step - loss: 0.7260 - acc: 0.6580 - val_loss: 0.8212 - val_acc: 0.6094\n",
            "Epoch 7/100\n",
            "18/18 [==============================] - 0s 3ms/step - loss: 0.7363 - acc: 0.6667 - val_loss: 0.8252 - val_acc: 0.6875\n",
            "Epoch 8/100\n",
            "18/18 [==============================] - 0s 3ms/step - loss: 0.6550 - acc: 0.6840 - val_loss: 0.7141 - val_acc: 0.6823\n",
            "Epoch 9/100\n",
            "18/18 [==============================] - 0s 3ms/step - loss: 0.6731 - acc: 0.6649 - val_loss: 0.6747 - val_acc: 0.6615\n",
            "Epoch 10/100\n",
            "18/18 [==============================] - 0s 4ms/step - loss: 0.6508 - acc: 0.6753 - val_loss: 0.6826 - val_acc: 0.6927\n",
            "Epoch 11/100\n",
            "18/18 [==============================] - 0s 4ms/step - loss: 0.6454 - acc: 0.6667 - val_loss: 0.6607 - val_acc: 0.6615\n",
            "Epoch 12/100\n",
            "18/18 [==============================] - 0s 4ms/step - loss: 0.6376 - acc: 0.6927 - val_loss: 0.7572 - val_acc: 0.5469\n",
            "Epoch 13/100\n",
            "18/18 [==============================] - 0s 4ms/step - loss: 0.6307 - acc: 0.6788 - val_loss: 0.9774 - val_acc: 0.4688\n",
            "Epoch 14/100\n",
            "18/18 [==============================] - 0s 4ms/step - loss: 0.6892 - acc: 0.6632 - val_loss: 0.6546 - val_acc: 0.6354\n",
            "Epoch 15/100\n",
            "18/18 [==============================] - 0s 4ms/step - loss: 0.5752 - acc: 0.7135 - val_loss: 0.6487 - val_acc: 0.6510\n",
            "Epoch 16/100\n",
            "18/18 [==============================] - 0s 4ms/step - loss: 0.6099 - acc: 0.7101 - val_loss: 0.7029 - val_acc: 0.6458\n",
            "Epoch 17/100\n",
            "18/18 [==============================] - 0s 3ms/step - loss: 0.7091 - acc: 0.6649 - val_loss: 0.6438 - val_acc: 0.6927\n",
            "Epoch 18/100\n",
            "18/18 [==============================] - 0s 4ms/step - loss: 0.6086 - acc: 0.6927 - val_loss: 0.6396 - val_acc: 0.6667\n",
            "Epoch 19/100\n",
            "18/18 [==============================] - 0s 3ms/step - loss: 0.5529 - acc: 0.7396 - val_loss: 0.6403 - val_acc: 0.6354\n",
            "Epoch 20/100\n",
            "18/18 [==============================] - 0s 3ms/step - loss: 0.5632 - acc: 0.7274 - val_loss: 0.6363 - val_acc: 0.6927\n",
            "Epoch 21/100\n",
            "18/18 [==============================] - 0s 5ms/step - loss: 0.5436 - acc: 0.7292 - val_loss: 0.6282 - val_acc: 0.6875\n",
            "Epoch 22/100\n",
            "18/18 [==============================] - 0s 4ms/step - loss: 0.5337 - acc: 0.7361 - val_loss: 0.6713 - val_acc: 0.6302\n",
            "Epoch 23/100\n",
            "18/18 [==============================] - 0s 4ms/step - loss: 0.6134 - acc: 0.7031 - val_loss: 0.7191 - val_acc: 0.5729\n",
            "Epoch 24/100\n",
            "18/18 [==============================] - 0s 4ms/step - loss: 0.5500 - acc: 0.7431 - val_loss: 0.6342 - val_acc: 0.6667\n",
            "Epoch 25/100\n",
            "18/18 [==============================] - 0s 4ms/step - loss: 0.5637 - acc: 0.7083 - val_loss: 0.6392 - val_acc: 0.6406\n",
            "Epoch 26/100\n",
            "18/18 [==============================] - 0s 4ms/step - loss: 0.5525 - acc: 0.7396 - val_loss: 0.6962 - val_acc: 0.6354\n",
            "Epoch 27/100\n",
            "18/18 [==============================] - 0s 3ms/step - loss: 0.5557 - acc: 0.7500 - val_loss: 0.7078 - val_acc: 0.6667\n",
            "Epoch 28/100\n",
            "18/18 [==============================] - 0s 3ms/step - loss: 0.5976 - acc: 0.6979 - val_loss: 0.7627 - val_acc: 0.5521\n",
            "Epoch 29/100\n",
            "18/18 [==============================] - 0s 4ms/step - loss: 0.6214 - acc: 0.6771 - val_loss: 0.7437 - val_acc: 0.6198\n",
            "Epoch 30/100\n",
            "18/18 [==============================] - 0s 3ms/step - loss: 0.5987 - acc: 0.6962 - val_loss: 0.7344 - val_acc: 0.6927\n",
            "Epoch 31/100\n",
            "18/18 [==============================] - 0s 4ms/step - loss: 0.6235 - acc: 0.6979 - val_loss: 0.6564 - val_acc: 0.6667\n",
            "Epoch 32/100\n",
            "18/18 [==============================] - 0s 3ms/step - loss: 0.6351 - acc: 0.6892 - val_loss: 0.7070 - val_acc: 0.6771\n",
            "Epoch 33/100\n",
            "18/18 [==============================] - 0s 3ms/step - loss: 0.5540 - acc: 0.7240 - val_loss: 0.6576 - val_acc: 0.6979\n",
            "Epoch 34/100\n",
            "18/18 [==============================] - 0s 3ms/step - loss: 0.5263 - acc: 0.7674 - val_loss: 0.6946 - val_acc: 0.6927\n",
            "Epoch 35/100\n",
            "18/18 [==============================] - 0s 4ms/step - loss: 0.6281 - acc: 0.6788 - val_loss: 0.8613 - val_acc: 0.6823\n",
            "Epoch 36/100\n",
            "18/18 [==============================] - 0s 4ms/step - loss: 0.6212 - acc: 0.7292 - val_loss: 0.7347 - val_acc: 0.6979\n",
            "Epoch 37/100\n",
            "18/18 [==============================] - 0s 3ms/step - loss: 0.6511 - acc: 0.6927 - val_loss: 0.6542 - val_acc: 0.6510\n",
            "Epoch 38/100\n",
            "18/18 [==============================] - 0s 4ms/step - loss: 0.7397 - acc: 0.6684 - val_loss: 0.7138 - val_acc: 0.6302\n",
            "Epoch 39/100\n",
            "18/18 [==============================] - 0s 4ms/step - loss: 0.6635 - acc: 0.6910 - val_loss: 0.7395 - val_acc: 0.6667\n",
            "Epoch 40/100\n",
            "18/18 [==============================] - 0s 4ms/step - loss: 0.5434 - acc: 0.7552 - val_loss: 0.6586 - val_acc: 0.6302\n",
            "Epoch 41/100\n",
            "18/18 [==============================] - 0s 4ms/step - loss: 0.6459 - acc: 0.6892 - val_loss: 0.6557 - val_acc: 0.6719\n",
            "Epoch 42/100\n",
            "18/18 [==============================] - 0s 3ms/step - loss: 0.5934 - acc: 0.7222 - val_loss: 0.6618 - val_acc: 0.6875\n",
            "Epoch 43/100\n",
            "18/18 [==============================] - 0s 3ms/step - loss: 0.5856 - acc: 0.6979 - val_loss: 0.6463 - val_acc: 0.6458\n",
            "Epoch 44/100\n",
            "18/18 [==============================] - 0s 4ms/step - loss: 0.5520 - acc: 0.7292 - val_loss: 0.6877 - val_acc: 0.6354\n",
            "Epoch 45/100\n",
            "18/18 [==============================] - 0s 4ms/step - loss: 0.6158 - acc: 0.6910 - val_loss: 0.6504 - val_acc: 0.6719\n",
            "Epoch 46/100\n",
            "18/18 [==============================] - 0s 4ms/step - loss: 0.5245 - acc: 0.7743 - val_loss: 0.9361 - val_acc: 0.6719\n",
            "Epoch 47/100\n",
            "18/18 [==============================] - 0s 4ms/step - loss: 0.6048 - acc: 0.7066 - val_loss: 0.7821 - val_acc: 0.6823\n",
            "Epoch 48/100\n",
            "18/18 [==============================] - 0s 4ms/step - loss: 0.5327 - acc: 0.7587 - val_loss: 0.6838 - val_acc: 0.6406\n",
            "Epoch 49/100\n",
            "18/18 [==============================] - 0s 4ms/step - loss: 0.5574 - acc: 0.7361 - val_loss: 0.6413 - val_acc: 0.6667\n",
            "Epoch 50/100\n",
            "18/18 [==============================] - 0s 4ms/step - loss: 0.5435 - acc: 0.7292 - val_loss: 0.6194 - val_acc: 0.6719\n",
            "Epoch 51/100\n",
            "18/18 [==============================] - 0s 4ms/step - loss: 0.5531 - acc: 0.7517 - val_loss: 0.6401 - val_acc: 0.6302\n",
            "Epoch 52/100\n",
            "18/18 [==============================] - 0s 4ms/step - loss: 0.4926 - acc: 0.7587 - val_loss: 0.6555 - val_acc: 0.6458\n",
            "Epoch 53/100\n",
            "18/18 [==============================] - 0s 4ms/step - loss: 0.5149 - acc: 0.7378 - val_loss: 0.6232 - val_acc: 0.6771\n",
            "Epoch 54/100\n",
            "18/18 [==============================] - 0s 3ms/step - loss: 0.5067 - acc: 0.7569 - val_loss: 0.7273 - val_acc: 0.6250\n",
            "Epoch 55/100\n",
            "18/18 [==============================] - 0s 5ms/step - loss: 0.5398 - acc: 0.7587 - val_loss: 0.7774 - val_acc: 0.5833\n",
            "Epoch 56/100\n",
            "18/18 [==============================] - 0s 3ms/step - loss: 0.5114 - acc: 0.7500 - val_loss: 0.6834 - val_acc: 0.7135\n",
            "Epoch 57/100\n",
            "18/18 [==============================] - 0s 4ms/step - loss: 0.5358 - acc: 0.7257 - val_loss: 0.6437 - val_acc: 0.6615\n",
            "Epoch 58/100\n",
            "18/18 [==============================] - 0s 4ms/step - loss: 0.5082 - acc: 0.7604 - val_loss: 0.6401 - val_acc: 0.6771\n",
            "Epoch 59/100\n",
            "18/18 [==============================] - 0s 4ms/step - loss: 0.5002 - acc: 0.7726 - val_loss: 0.6338 - val_acc: 0.6719\n",
            "Epoch 60/100\n",
            "18/18 [==============================] - 0s 3ms/step - loss: 0.5094 - acc: 0.7708 - val_loss: 0.7738 - val_acc: 0.6198\n",
            "Epoch 61/100\n",
            "18/18 [==============================] - 0s 3ms/step - loss: 0.5850 - acc: 0.7135 - val_loss: 0.7957 - val_acc: 0.5573\n",
            "Epoch 62/100\n",
            "18/18 [==============================] - 0s 4ms/step - loss: 0.5417 - acc: 0.7292 - val_loss: 0.6327 - val_acc: 0.6875\n",
            "Epoch 63/100\n",
            "18/18 [==============================] - 0s 4ms/step - loss: 0.5159 - acc: 0.7517 - val_loss: 0.6358 - val_acc: 0.6823\n",
            "Epoch 64/100\n",
            "18/18 [==============================] - 0s 4ms/step - loss: 0.5524 - acc: 0.7361 - val_loss: 0.6871 - val_acc: 0.6615\n",
            "Epoch 65/100\n",
            "18/18 [==============================] - 0s 3ms/step - loss: 0.4742 - acc: 0.7969 - val_loss: 0.6804 - val_acc: 0.6562\n",
            "Epoch 66/100\n",
            "18/18 [==============================] - 0s 3ms/step - loss: 0.4920 - acc: 0.7726 - val_loss: 0.6866 - val_acc: 0.6458\n",
            "Epoch 67/100\n",
            "18/18 [==============================] - 0s 3ms/step - loss: 0.5162 - acc: 0.7795 - val_loss: 0.6365 - val_acc: 0.6667\n",
            "Epoch 68/100\n",
            "18/18 [==============================] - 0s 3ms/step - loss: 0.5059 - acc: 0.7691 - val_loss: 0.6324 - val_acc: 0.6719\n",
            "Epoch 69/100\n",
            "18/18 [==============================] - 0s 3ms/step - loss: 0.4773 - acc: 0.7639 - val_loss: 0.6631 - val_acc: 0.6719\n",
            "Epoch 70/100\n",
            "18/18 [==============================] - 0s 3ms/step - loss: 0.5501 - acc: 0.7361 - val_loss: 0.8134 - val_acc: 0.6771\n",
            "Epoch 71/100\n",
            "18/18 [==============================] - 0s 4ms/step - loss: 0.5452 - acc: 0.7448 - val_loss: 0.7182 - val_acc: 0.6875\n",
            "Epoch 72/100\n",
            "18/18 [==============================] - 0s 3ms/step - loss: 0.4862 - acc: 0.7691 - val_loss: 0.6318 - val_acc: 0.6719\n",
            "Epoch 73/100\n",
            "18/18 [==============================] - 0s 5ms/step - loss: 0.4876 - acc: 0.7917 - val_loss: 0.6260 - val_acc: 0.6719\n",
            "Epoch 74/100\n",
            "18/18 [==============================] - 0s 4ms/step - loss: 0.5221 - acc: 0.7639 - val_loss: 0.6162 - val_acc: 0.7083\n",
            "Epoch 75/100\n",
            "18/18 [==============================] - 0s 3ms/step - loss: 0.4653 - acc: 0.7899 - val_loss: 0.6160 - val_acc: 0.6875\n",
            "Epoch 76/100\n",
            "18/18 [==============================] - 0s 3ms/step - loss: 0.4782 - acc: 0.7847 - val_loss: 0.6511 - val_acc: 0.6823\n",
            "Epoch 77/100\n",
            "18/18 [==============================] - 0s 3ms/step - loss: 0.5913 - acc: 0.7309 - val_loss: 0.6222 - val_acc: 0.6667\n",
            "Epoch 78/100\n",
            "18/18 [==============================] - 0s 3ms/step - loss: 0.4892 - acc: 0.7760 - val_loss: 0.6268 - val_acc: 0.6771\n",
            "Epoch 79/100\n",
            "18/18 [==============================] - 0s 3ms/step - loss: 0.4828 - acc: 0.7656 - val_loss: 0.7469 - val_acc: 0.6979\n",
            "Epoch 80/100\n",
            "18/18 [==============================] - 0s 4ms/step - loss: 0.5222 - acc: 0.7552 - val_loss: 0.6227 - val_acc: 0.6927\n",
            "Epoch 81/100\n",
            "18/18 [==============================] - 0s 3ms/step - loss: 0.4984 - acc: 0.7674 - val_loss: 0.7342 - val_acc: 0.6198\n",
            "Epoch 82/100\n",
            "18/18 [==============================] - 0s 4ms/step - loss: 0.5280 - acc: 0.7396 - val_loss: 0.6401 - val_acc: 0.6823\n",
            "Epoch 83/100\n",
            "18/18 [==============================] - 0s 4ms/step - loss: 0.5341 - acc: 0.7569 - val_loss: 0.6374 - val_acc: 0.6979\n",
            "Epoch 84/100\n",
            "18/18 [==============================] - 0s 3ms/step - loss: 0.5165 - acc: 0.7431 - val_loss: 0.6374 - val_acc: 0.6823\n",
            "Epoch 85/100\n",
            "18/18 [==============================] - 0s 3ms/step - loss: 0.4745 - acc: 0.7726 - val_loss: 0.6430 - val_acc: 0.6771\n",
            "Epoch 86/100\n",
            "18/18 [==============================] - 0s 3ms/step - loss: 0.5218 - acc: 0.7465 - val_loss: 0.6430 - val_acc: 0.6771\n",
            "Epoch 87/100\n",
            "18/18 [==============================] - 0s 3ms/step - loss: 0.4955 - acc: 0.7708 - val_loss: 0.7120 - val_acc: 0.6771\n",
            "Epoch 88/100\n",
            "18/18 [==============================] - 0s 3ms/step - loss: 0.5331 - acc: 0.7396 - val_loss: 0.6350 - val_acc: 0.6250\n",
            "Epoch 89/100\n",
            "18/18 [==============================] - 0s 3ms/step - loss: 0.5381 - acc: 0.7396 - val_loss: 0.7592 - val_acc: 0.6354\n",
            "Epoch 90/100\n",
            "18/18 [==============================] - 0s 4ms/step - loss: 0.5291 - acc: 0.7448 - val_loss: 0.7092 - val_acc: 0.6250\n",
            "Epoch 91/100\n",
            "18/18 [==============================] - 0s 3ms/step - loss: 0.5564 - acc: 0.7465 - val_loss: 0.7249 - val_acc: 0.6406\n",
            "Epoch 92/100\n",
            "18/18 [==============================] - 0s 4ms/step - loss: 0.4879 - acc: 0.7622 - val_loss: 0.6224 - val_acc: 0.6927\n",
            "Epoch 93/100\n",
            "18/18 [==============================] - 0s 4ms/step - loss: 0.4635 - acc: 0.7917 - val_loss: 0.6114 - val_acc: 0.6771\n",
            "Epoch 94/100\n",
            "18/18 [==============================] - 0s 3ms/step - loss: 0.4673 - acc: 0.7812 - val_loss: 0.7304 - val_acc: 0.6302\n",
            "Epoch 95/100\n",
            "18/18 [==============================] - 0s 4ms/step - loss: 0.5110 - acc: 0.7413 - val_loss: 0.6863 - val_acc: 0.6927\n",
            "Epoch 96/100\n",
            "18/18 [==============================] - 0s 3ms/step - loss: 0.5096 - acc: 0.7622 - val_loss: 0.6622 - val_acc: 0.6771\n",
            "Epoch 97/100\n",
            "18/18 [==============================] - 0s 3ms/step - loss: 0.4853 - acc: 0.7587 - val_loss: 0.6072 - val_acc: 0.6927\n",
            "Epoch 98/100\n",
            "18/18 [==============================] - 0s 4ms/step - loss: 0.4789 - acc: 0.7674 - val_loss: 0.6295 - val_acc: 0.6719\n",
            "Epoch 99/100\n",
            "18/18 [==============================] - 0s 4ms/step - loss: 0.4565 - acc: 0.7934 - val_loss: 0.6257 - val_acc: 0.6771\n",
            "Epoch 100/100\n",
            "18/18 [==============================] - 0s 3ms/step - loss: 0.4724 - acc: 0.7847 - val_loss: 0.6356 - val_acc: 0.6719\n"
          ]
        }
      ]
    },
    {
      "cell_type": "markdown",
      "metadata": {
        "id": "aG2ZtwPRpHMU"
      },
      "source": [
        "# **Accuracy of the second model after adding more dense**"
      ]
    },
    {
      "cell_type": "code",
      "metadata": {
        "colab": {
          "base_uri": "https://localhost:8080/"
        },
        "id": "dzkHEl16lnSi",
        "outputId": "cffbc80d-3fd6-482f-b501-b9788f5ae534"
      },
      "source": [
        "loss, accuracy = my_second_nn.evaluate(X_test, Y_test, verbose=0)\n",
        "\n",
        "print(\"\\nsecond Model Accuracy with added dense layers: \", accuracy)\n",
        "print(\"second model Loss with added dense layers: \", loss)"
      ],
      "execution_count": null,
      "outputs": [
        {
          "output_type": "stream",
          "name": "stdout",
          "text": [
            "\n",
            "second Model Accuracy with added dense layers:  0.671875\n",
            "second model Loss with added dense layers:  0.635578453540802\n"
          ]
        }
      ]
    },
    {
      "cell_type": "markdown",
      "metadata": {
        "id": "A4vvZQt7p0u9"
      },
      "source": [
        "# **Plot the accuracy for training and validation in the same plot**"
      ]
    },
    {
      "cell_type": "code",
      "metadata": {
        "colab": {
          "base_uri": "https://localhost:8080/",
          "height": 295
        },
        "id": "REc9w4GMlnPt",
        "outputId": "15c2fb04-d029-4dc5-f6e6-38dc83a90c60"
      },
      "source": [
        "plt.plot(history.history['acc'])\n",
        "plt.plot(history.history['val_acc'])\n",
        "plt.title('Plot of Model Accuracy on Train and Validation Datasets')\n",
        "plt.ylabel('accuracy')\n",
        "plt.xlabel('epoch')\n",
        "plt.legend(['train', 'test'], loc='upper left')\n",
        "plt.show()"
      ],
      "execution_count": null,
      "outputs": [
        {
          "output_type": "display_data",
          "data": {
            "image/png": "[encoded data removed]",
            "text/plain": [
              "<Figure size 432x288 with 1 Axes>"
            ]
          },
          "metadata": {
            "needs_background": "light"
          }
        }
      ]
    },
    {
      "cell_type": "markdown",
      "metadata": {
        "id": "7EhRpy8_qL_a"
      },
      "source": [
        "# **Normalize the data before feeding the data to the model**"
      ]
    },
    {
      "cell_type": "code",
      "metadata": {
        "id": "j_9ACi2KlnNQ"
      },
      "source": [
        "from sklearn.preprocessing import StandardScaler \n",
        "\n",
        "sc = StandardScaler()\n",
        "\n",
        "X_scaled = sc.fit_transform(X)\n",
        "X_train, X_test, Y_train, Y_test = train_test_split(X_scaled, y, test_size=0.25, random_state=22)"
      ],
      "execution_count": null,
      "outputs": []
    },
    {
      "cell_type": "markdown",
      "metadata": {
        "id": "xYBIVPSMqSOL"
      },
      "source": [
        "# **Fit the model with scaled data**"
      ]
    },
    {
      "cell_type": "code",
      "metadata": {
        "colab": {
          "base_uri": "https://localhost:8080/"
        },
        "id": "MMt6umsnlnKb",
        "outputId": "5ecac6a5-339e-49c7-aacb-a3e789ae2652"
      },
      "source": [
        "# The returned history object holds a record of the loss values and metric values during training\n",
        "my_second_nn_fitted = my_second_nn.fit(X_train, Y_train, epochs=100, verbose=1, shuffle=True)"
      ],
      "execution_count": null,
      "outputs": [
        {
          "output_type": "stream",
          "name": "stdout",
          "text": [
            "Epoch 1/100\n",
            "18/18 [==============================] - 0s 2ms/step - loss: 0.7120 - acc: 0.6528\n",
            "Epoch 2/100\n",
            "18/18 [==============================] - 0s 2ms/step - loss: 0.6066 - acc: 0.6684\n",
            "Epoch 3/100\n",
            "18/18 [==============================] - 0s 2ms/step - loss: 0.5270 - acc: 0.7257\n",
            "Epoch 4/100\n",
            "18/18 [==============================] - 0s 2ms/step - loss: 0.4927 - acc: 0.7604\n",
            "Epoch 5/100\n",
            "18/18 [==============================] - 0s 2ms/step - loss: 0.4733 - acc: 0.7795\n",
            "Epoch 6/100\n",
            "18/18 [==============================] - 0s 2ms/step - loss: 0.4662 - acc: 0.7830\n",
            "Epoch 7/100\n",
            "18/18 [==============================] - 0s 2ms/step - loss: 0.4593 - acc: 0.7865\n",
            "Epoch 8/100\n",
            "18/18 [==============================] - 0s 2ms/step - loss: 0.4544 - acc: 0.7778\n",
            "Epoch 9/100\n",
            "18/18 [==============================] - 0s 2ms/step - loss: 0.4468 - acc: 0.7865\n",
            "Epoch 10/100\n",
            "18/18 [==============================] - 0s 2ms/step - loss: 0.4431 - acc: 0.7934\n",
            "Epoch 11/100\n",
            "18/18 [==============================] - 0s 2ms/step - loss: 0.4395 - acc: 0.7969\n",
            "Epoch 12/100\n",
            "18/18 [==============================] - 0s 2ms/step - loss: 0.4357 - acc: 0.7986\n",
            "Epoch 13/100\n",
            "18/18 [==============================] - 0s 2ms/step - loss: 0.4328 - acc: 0.7969\n",
            "Epoch 14/100\n",
            "18/18 [==============================] - 0s 2ms/step - loss: 0.4294 - acc: 0.8003\n",
            "Epoch 15/100\n",
            "18/18 [==============================] - 0s 2ms/step - loss: 0.4269 - acc: 0.8021\n",
            "Epoch 16/100\n",
            "18/18 [==============================] - 0s 2ms/step - loss: 0.4262 - acc: 0.8003\n",
            "Epoch 17/100\n",
            "18/18 [==============================] - 0s 2ms/step - loss: 0.4228 - acc: 0.7951\n",
            "Epoch 18/100\n",
            "18/18 [==============================] - 0s 3ms/step - loss: 0.4200 - acc: 0.8021\n",
            "Epoch 19/100\n",
            "18/18 [==============================] - 0s 2ms/step - loss: 0.4185 - acc: 0.8021\n",
            "Epoch 20/100\n",
            "18/18 [==============================] - 0s 2ms/step - loss: 0.4164 - acc: 0.8021\n",
            "Epoch 21/100\n",
            "18/18 [==============================] - 0s 2ms/step - loss: 0.4140 - acc: 0.8021\n",
            "Epoch 22/100\n",
            "18/18 [==============================] - 0s 2ms/step - loss: 0.4130 - acc: 0.8038\n",
            "Epoch 23/100\n",
            "18/18 [==============================] - 0s 2ms/step - loss: 0.4115 - acc: 0.8038\n",
            "Epoch 24/100\n",
            "18/18 [==============================] - 0s 2ms/step - loss: 0.4113 - acc: 0.8056\n",
            "Epoch 25/100\n",
            "18/18 [==============================] - 0s 2ms/step - loss: 0.4109 - acc: 0.8003\n",
            "Epoch 26/100\n",
            "18/18 [==============================] - 0s 2ms/step - loss: 0.4066 - acc: 0.8038\n",
            "Epoch 27/100\n",
            "18/18 [==============================] - 0s 2ms/step - loss: 0.4047 - acc: 0.8073\n",
            "Epoch 28/100\n",
            "18/18 [==============================] - 0s 2ms/step - loss: 0.4027 - acc: 0.8108\n",
            "Epoch 29/100\n",
            "18/18 [==============================] - 0s 2ms/step - loss: 0.4016 - acc: 0.8038\n",
            "Epoch 30/100\n",
            "18/18 [==============================] - 0s 2ms/step - loss: 0.3997 - acc: 0.8142\n",
            "Epoch 31/100\n",
            "18/18 [==============================] - 0s 2ms/step - loss: 0.4000 - acc: 0.8142\n",
            "Epoch 32/100\n",
            "18/18 [==============================] - 0s 2ms/step - loss: 0.3962 - acc: 0.8142\n",
            "Epoch 33/100\n",
            "18/18 [==============================] - 0s 2ms/step - loss: 0.3980 - acc: 0.8177\n",
            "Epoch 34/100\n",
            "18/18 [==============================] - 0s 2ms/step - loss: 0.3949 - acc: 0.8229\n",
            "Epoch 35/100\n",
            "18/18 [==============================] - 0s 2ms/step - loss: 0.3923 - acc: 0.8177\n",
            "Epoch 36/100\n",
            "18/18 [==============================] - 0s 2ms/step - loss: 0.3911 - acc: 0.8212\n",
            "Epoch 37/100\n",
            "18/18 [==============================] - 0s 2ms/step - loss: 0.3904 - acc: 0.8212\n",
            "Epoch 38/100\n",
            "18/18 [==============================] - 0s 2ms/step - loss: 0.3888 - acc: 0.8212\n",
            "Epoch 39/100\n",
            "18/18 [==============================] - 0s 2ms/step - loss: 0.3876 - acc: 0.8212\n",
            "Epoch 40/100\n",
            "18/18 [==============================] - 0s 2ms/step - loss: 0.3859 - acc: 0.8247\n",
            "Epoch 41/100\n",
            "18/18 [==============================] - 0s 2ms/step - loss: 0.3869 - acc: 0.8212\n",
            "Epoch 42/100\n",
            "18/18 [==============================] - 0s 2ms/step - loss: 0.3852 - acc: 0.8247\n",
            "Epoch 43/100\n",
            "18/18 [==============================] - 0s 2ms/step - loss: 0.3836 - acc: 0.8229\n",
            "Epoch 44/100\n",
            "18/18 [==============================] - 0s 2ms/step - loss: 0.3826 - acc: 0.8194\n",
            "Epoch 45/100\n",
            "18/18 [==============================] - 0s 2ms/step - loss: 0.3804 - acc: 0.8247\n",
            "Epoch 46/100\n",
            "18/18 [==============================] - 0s 2ms/step - loss: 0.3806 - acc: 0.8212\n",
            "Epoch 47/100\n",
            "18/18 [==============================] - 0s 2ms/step - loss: 0.3782 - acc: 0.8281\n",
            "Epoch 48/100\n",
            "18/18 [==============================] - 0s 2ms/step - loss: 0.3762 - acc: 0.8299\n",
            "Epoch 49/100\n",
            "18/18 [==============================] - 0s 2ms/step - loss: 0.3754 - acc: 0.8212\n",
            "Epoch 50/100\n",
            "18/18 [==============================] - 0s 2ms/step - loss: 0.3737 - acc: 0.8299\n",
            "Epoch 51/100\n",
            "18/18 [==============================] - 0s 2ms/step - loss: 0.3739 - acc: 0.8281\n",
            "Epoch 52/100\n",
            "18/18 [==============================] - 0s 2ms/step - loss: 0.3721 - acc: 0.8333\n",
            "Epoch 53/100\n",
            "18/18 [==============================] - 0s 2ms/step - loss: 0.3715 - acc: 0.8316\n",
            "Epoch 54/100\n",
            "18/18 [==============================] - 0s 2ms/step - loss: 0.3690 - acc: 0.8403\n",
            "Epoch 55/100\n",
            "18/18 [==============================] - 0s 2ms/step - loss: 0.3680 - acc: 0.8385\n",
            "Epoch 56/100\n",
            "18/18 [==============================] - 0s 2ms/step - loss: 0.3679 - acc: 0.8420\n",
            "Epoch 57/100\n",
            "18/18 [==============================] - 0s 2ms/step - loss: 0.3656 - acc: 0.8351\n",
            "Epoch 58/100\n",
            "18/18 [==============================] - 0s 2ms/step - loss: 0.3663 - acc: 0.8438\n",
            "Epoch 59/100\n",
            "18/18 [==============================] - 0s 2ms/step - loss: 0.3640 - acc: 0.8420\n",
            "Epoch 60/100\n",
            "18/18 [==============================] - 0s 3ms/step - loss: 0.3625 - acc: 0.8420\n",
            "Epoch 61/100\n",
            "18/18 [==============================] - 0s 2ms/step - loss: 0.3608 - acc: 0.8420\n",
            "Epoch 62/100\n",
            "18/18 [==============================] - 0s 2ms/step - loss: 0.3605 - acc: 0.8385\n",
            "Epoch 63/100\n",
            "18/18 [==============================] - 0s 2ms/step - loss: 0.3582 - acc: 0.8420\n",
            "Epoch 64/100\n",
            "18/18 [==============================] - 0s 2ms/step - loss: 0.3568 - acc: 0.8455\n",
            "Epoch 65/100\n",
            "18/18 [==============================] - 0s 2ms/step - loss: 0.3568 - acc: 0.8472\n",
            "Epoch 66/100\n",
            "18/18 [==============================] - 0s 3ms/step - loss: 0.3554 - acc: 0.8472\n",
            "Epoch 67/100\n",
            "18/18 [==============================] - 0s 2ms/step - loss: 0.3526 - acc: 0.8472\n",
            "Epoch 68/100\n",
            "18/18 [==============================] - 0s 2ms/step - loss: 0.3521 - acc: 0.8420\n",
            "Epoch 69/100\n",
            "18/18 [==============================] - 0s 2ms/step - loss: 0.3512 - acc: 0.8438\n",
            "Epoch 70/100\n",
            "18/18 [==============================] - 0s 2ms/step - loss: 0.3498 - acc: 0.8455\n",
            "Epoch 71/100\n",
            "18/18 [==============================] - 0s 2ms/step - loss: 0.3500 - acc: 0.8472\n",
            "Epoch 72/100\n",
            "18/18 [==============================] - 0s 2ms/step - loss: 0.3471 - acc: 0.8524\n",
            "Epoch 73/100\n",
            "18/18 [==============================] - 0s 3ms/step - loss: 0.3478 - acc: 0.8455\n",
            "Epoch 74/100\n",
            "18/18 [==============================] - 0s 2ms/step - loss: 0.3450 - acc: 0.8524\n",
            "Epoch 75/100\n",
            "18/18 [==============================] - 0s 2ms/step - loss: 0.3440 - acc: 0.8507\n",
            "Epoch 76/100\n",
            "18/18 [==============================] - 0s 2ms/step - loss: 0.3435 - acc: 0.8472\n",
            "Epoch 77/100\n",
            "18/18 [==============================] - 0s 2ms/step - loss: 0.3418 - acc: 0.8542\n",
            "Epoch 78/100\n",
            "18/18 [==============================] - 0s 2ms/step - loss: 0.3410 - acc: 0.8524\n",
            "Epoch 79/100\n",
            "18/18 [==============================] - 0s 2ms/step - loss: 0.3391 - acc: 0.8542\n",
            "Epoch 80/100\n",
            "18/18 [==============================] - 0s 2ms/step - loss: 0.3386 - acc: 0.8524\n",
            "Epoch 81/100\n",
            "18/18 [==============================] - 0s 2ms/step - loss: 0.3386 - acc: 0.8576\n",
            "Epoch 82/100\n",
            "18/18 [==============================] - 0s 3ms/step - loss: 0.3363 - acc: 0.8594\n",
            "Epoch 83/100\n",
            "18/18 [==============================] - 0s 2ms/step - loss: 0.3363 - acc: 0.8542\n",
            "Epoch 84/100\n",
            "18/18 [==============================] - 0s 2ms/step - loss: 0.3364 - acc: 0.8524\n",
            "Epoch 85/100\n",
            "18/18 [==============================] - 0s 2ms/step - loss: 0.3334 - acc: 0.8628\n",
            "Epoch 86/100\n",
            "18/18 [==============================] - 0s 2ms/step - loss: 0.3328 - acc: 0.8542\n",
            "Epoch 87/100\n",
            "18/18 [==============================] - 0s 2ms/step - loss: 0.3315 - acc: 0.8524\n",
            "Epoch 88/100\n",
            "18/18 [==============================] - 0s 2ms/step - loss: 0.3320 - acc: 0.8611\n",
            "Epoch 89/100\n",
            "18/18 [==============================] - 0s 2ms/step - loss: 0.3289 - acc: 0.8576\n",
            "Epoch 90/100\n",
            "18/18 [==============================] - 0s 3ms/step - loss: 0.3276 - acc: 0.8646\n",
            "Epoch 91/100\n",
            "18/18 [==============================] - 0s 2ms/step - loss: 0.3271 - acc: 0.8646\n",
            "Epoch 92/100\n",
            "18/18 [==============================] - 0s 2ms/step - loss: 0.3261 - acc: 0.8594\n",
            "Epoch 93/100\n",
            "18/18 [==============================] - 0s 2ms/step - loss: 0.3265 - acc: 0.8646\n",
            "Epoch 94/100\n",
            "18/18 [==============================] - 0s 2ms/step - loss: 0.3232 - acc: 0.8663\n",
            "Epoch 95/100\n",
            "18/18 [==============================] - 0s 2ms/step - loss: 0.3240 - acc: 0.8646\n",
            "Epoch 96/100\n",
            "18/18 [==============================] - 0s 2ms/step - loss: 0.3226 - acc: 0.8646\n",
            "Epoch 97/100\n",
            "18/18 [==============================] - 0s 2ms/step - loss: 0.3217 - acc: 0.8646\n",
            "Epoch 98/100\n",
            "18/18 [==============================] - 0s 2ms/step - loss: 0.3201 - acc: 0.8663\n",
            "Epoch 99/100\n",
            "18/18 [==============================] - 0s 2ms/step - loss: 0.3206 - acc: 0.8681\n",
            "Epoch 100/100\n",
            "18/18 [==============================] - 0s 2ms/step - loss: 0.3174 - acc: 0.8681\n"
          ]
        }
      ]
    },
    {
      "cell_type": "markdown",
      "metadata": {
        "id": "BlblrHc2q7uG"
      },
      "source": [
        "# **Accuracy of the model 3 with normalized data**"
      ]
    },
    {
      "cell_type": "code",
      "metadata": {
        "colab": {
          "base_uri": "https://localhost:8080/"
        },
        "id": "WJHdT34AlnH0",
        "outputId": "c35c14ed-fddc-4656-d40e-805b285377e9"
      },
      "source": [
        "\n",
        "loss, accuracy = my_second_nn.evaluate(X_test, Y_test, verbose=0)\n",
        "\n",
        "print(\"\\nsecond Model  Accuracy after data normalization: \", accuracy)\n",
        "print(\"second Model  Loss after data normalization: \", loss)"
      ],
      "execution_count": null,
      "outputs": [
        {
          "output_type": "stream",
          "name": "stdout",
          "text": [
            "\n",
            "second Model  Accuracy after data normalization:  0.75\n",
            "second Model  Loss after data normalization:  0.531062662601471\n"
          ]
        }
      ]
    },
    {
      "cell_type": "markdown",
      "metadata": {
        "id": "QUKKbNGPwfz3"
      },
      "source": [
        "# **Summary:**\n",
        "\n",
        "In the part 1 we used diabetes dataset. First, we trained model using 32 units of hidden dense layer neurons  and trained data, tested data and got accuracy of:\n",
        "\n",
        "**Model 1 Accuracy:  0.7083333134651184**\n",
        "\n",
        "**Model 1 Loss:  0.6141995787620544**\n",
        "\n",
        "Second, Added more dense layer of 64 units, trained data. Tested data by passing vaidatation X_test and y-test and got accuracy of :\n",
        "\n",
        "**second Model Accuracy with added dense layers:  0.671875**\n",
        "\n",
        "**second model Loss with added dense layers:  0.635578453540802**\n",
        "\n",
        "Accuracy got decreased after adding extra dense layer. Loss percentage increased.\n",
        "\n",
        "Third, we normalized data using standardscalar() and tested on second model architecture and predicted test accuracy :\n",
        "\n",
        "**second Model  Accuracy after data normalization:  0.75**\n",
        "\n",
        "**second Model  Loss after data normalization:  0.531062662601471**\n",
        "\n",
        "After normalizing data accuracy we got increased and loss percentage decreased."
      ]
    }
  ]
}